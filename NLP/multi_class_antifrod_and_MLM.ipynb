{
  "metadata": {
    "kernelspec": {
      "display_name": "Python 3",
      "language": "python",
      "name": "python3"
    },
    "language_info": {
      "name": "python",
      "version": "3.10.12",
      "mimetype": "text/x-python",
      "codemirror_mode": {
        "name": "ipython",
        "version": 3
      },
      "pygments_lexer": "ipython3",
      "nbconvert_exporter": "python",
      "file_extension": ".py"
    },
    "colab": {
      "provenance": []
    },
    "widgets": {
      "application/vnd.jupyter.widget-state+json": {
        "9392e0a0cd7b4959857423ea9ce6cc6a": {
          "model_module": "@jupyter-widgets/controls",
          "model_name": "HBoxModel",
          "model_module_version": "1.5.0",
          "state": {
            "_dom_classes": [],
            "_model_module": "@jupyter-widgets/controls",
            "_model_module_version": "1.5.0",
            "_model_name": "HBoxModel",
            "_view_count": null,
            "_view_module": "@jupyter-widgets/controls",
            "_view_module_version": "1.5.0",
            "_view_name": "HBoxView",
            "box_style": "",
            "children": [
              "IPY_MODEL_03bdce91799c4571909868728479983c",
              "IPY_MODEL_f3572b5e5be2490b96537156d6b812d6",
              "IPY_MODEL_f377c0ccd09c46c498b50d85e6e3f744"
            ],
            "layout": "IPY_MODEL_af03bbb292cf44d08eecc7fd21064d27"
          }
        },
        "03bdce91799c4571909868728479983c": {
          "model_module": "@jupyter-widgets/controls",
          "model_name": "HTMLModel",
          "model_module_version": "1.5.0",
          "state": {
            "_dom_classes": [],
            "_model_module": "@jupyter-widgets/controls",
            "_model_module_version": "1.5.0",
            "_model_name": "HTMLModel",
            "_view_count": null,
            "_view_module": "@jupyter-widgets/controls",
            "_view_module_version": "1.5.0",
            "_view_name": "HTMLView",
            "description": "",
            "description_tooltip": null,
            "layout": "IPY_MODEL_fe6aea8c7153474ab45c8c00c4b2b042",
            "placeholder": "​",
            "style": "IPY_MODEL_d23719ca4fcb4d57adb955cc6100b96c",
            "value": "Map: 100%"
          }
        },
        "f3572b5e5be2490b96537156d6b812d6": {
          "model_module": "@jupyter-widgets/controls",
          "model_name": "FloatProgressModel",
          "model_module_version": "1.5.0",
          "state": {
            "_dom_classes": [],
            "_model_module": "@jupyter-widgets/controls",
            "_model_module_version": "1.5.0",
            "_model_name": "FloatProgressModel",
            "_view_count": null,
            "_view_module": "@jupyter-widgets/controls",
            "_view_module_version": "1.5.0",
            "_view_name": "ProgressView",
            "bar_style": "success",
            "description": "",
            "description_tooltip": null,
            "layout": "IPY_MODEL_1e895830c16041a4b9a145e1e85a0e53",
            "max": 38157,
            "min": 0,
            "orientation": "horizontal",
            "style": "IPY_MODEL_bb8f7a76bda947fb99ef4ff50b54ca16",
            "value": 38157
          }
        },
        "f377c0ccd09c46c498b50d85e6e3f744": {
          "model_module": "@jupyter-widgets/controls",
          "model_name": "HTMLModel",
          "model_module_version": "1.5.0",
          "state": {
            "_dom_classes": [],
            "_model_module": "@jupyter-widgets/controls",
            "_model_module_version": "1.5.0",
            "_model_name": "HTMLModel",
            "_view_count": null,
            "_view_module": "@jupyter-widgets/controls",
            "_view_module_version": "1.5.0",
            "_view_name": "HTMLView",
            "description": "",
            "description_tooltip": null,
            "layout": "IPY_MODEL_79eae7e19e0a424689a57d76e3f1a4b3",
            "placeholder": "​",
            "style": "IPY_MODEL_aa9a81a526074d4ebf308eb0aec88382",
            "value": " 38157/38157 [00:14&lt;00:00, 2640.69 examples/s]"
          }
        },
        "af03bbb292cf44d08eecc7fd21064d27": {
          "model_module": "@jupyter-widgets/base",
          "model_name": "LayoutModel",
          "model_module_version": "1.2.0",
          "state": {
            "_model_module": "@jupyter-widgets/base",
            "_model_module_version": "1.2.0",
            "_model_name": "LayoutModel",
            "_view_count": null,
            "_view_module": "@jupyter-widgets/base",
            "_view_module_version": "1.2.0",
            "_view_name": "LayoutView",
            "align_content": null,
            "align_items": null,
            "align_self": null,
            "border": null,
            "bottom": null,
            "display": null,
            "flex": null,
            "flex_flow": null,
            "grid_area": null,
            "grid_auto_columns": null,
            "grid_auto_flow": null,
            "grid_auto_rows": null,
            "grid_column": null,
            "grid_gap": null,
            "grid_row": null,
            "grid_template_areas": null,
            "grid_template_columns": null,
            "grid_template_rows": null,
            "height": null,
            "justify_content": null,
            "justify_items": null,
            "left": null,
            "margin": null,
            "max_height": null,
            "max_width": null,
            "min_height": null,
            "min_width": null,
            "object_fit": null,
            "object_position": null,
            "order": null,
            "overflow": null,
            "overflow_x": null,
            "overflow_y": null,
            "padding": null,
            "right": null,
            "top": null,
            "visibility": null,
            "width": null
          }
        },
        "fe6aea8c7153474ab45c8c00c4b2b042": {
          "model_module": "@jupyter-widgets/base",
          "model_name": "LayoutModel",
          "model_module_version": "1.2.0",
          "state": {
            "_model_module": "@jupyter-widgets/base",
            "_model_module_version": "1.2.0",
            "_model_name": "LayoutModel",
            "_view_count": null,
            "_view_module": "@jupyter-widgets/base",
            "_view_module_version": "1.2.0",
            "_view_name": "LayoutView",
            "align_content": null,
            "align_items": null,
            "align_self": null,
            "border": null,
            "bottom": null,
            "display": null,
            "flex": null,
            "flex_flow": null,
            "grid_area": null,
            "grid_auto_columns": null,
            "grid_auto_flow": null,
            "grid_auto_rows": null,
            "grid_column": null,
            "grid_gap": null,
            "grid_row": null,
            "grid_template_areas": null,
            "grid_template_columns": null,
            "grid_template_rows": null,
            "height": null,
            "justify_content": null,
            "justify_items": null,
            "left": null,
            "margin": null,
            "max_height": null,
            "max_width": null,
            "min_height": null,
            "min_width": null,
            "object_fit": null,
            "object_position": null,
            "order": null,
            "overflow": null,
            "overflow_x": null,
            "overflow_y": null,
            "padding": null,
            "right": null,
            "top": null,
            "visibility": null,
            "width": null
          }
        },
        "d23719ca4fcb4d57adb955cc6100b96c": {
          "model_module": "@jupyter-widgets/controls",
          "model_name": "DescriptionStyleModel",
          "model_module_version": "1.5.0",
          "state": {
            "_model_module": "@jupyter-widgets/controls",
            "_model_module_version": "1.5.0",
            "_model_name": "DescriptionStyleModel",
            "_view_count": null,
            "_view_module": "@jupyter-widgets/base",
            "_view_module_version": "1.2.0",
            "_view_name": "StyleView",
            "description_width": ""
          }
        },
        "1e895830c16041a4b9a145e1e85a0e53": {
          "model_module": "@jupyter-widgets/base",
          "model_name": "LayoutModel",
          "model_module_version": "1.2.0",
          "state": {
            "_model_module": "@jupyter-widgets/base",
            "_model_module_version": "1.2.0",
            "_model_name": "LayoutModel",
            "_view_count": null,
            "_view_module": "@jupyter-widgets/base",
            "_view_module_version": "1.2.0",
            "_view_name": "LayoutView",
            "align_content": null,
            "align_items": null,
            "align_self": null,
            "border": null,
            "bottom": null,
            "display": null,
            "flex": null,
            "flex_flow": null,
            "grid_area": null,
            "grid_auto_columns": null,
            "grid_auto_flow": null,
            "grid_auto_rows": null,
            "grid_column": null,
            "grid_gap": null,
            "grid_row": null,
            "grid_template_areas": null,
            "grid_template_columns": null,
            "grid_template_rows": null,
            "height": null,
            "justify_content": null,
            "justify_items": null,
            "left": null,
            "margin": null,
            "max_height": null,
            "max_width": null,
            "min_height": null,
            "min_width": null,
            "object_fit": null,
            "object_position": null,
            "order": null,
            "overflow": null,
            "overflow_x": null,
            "overflow_y": null,
            "padding": null,
            "right": null,
            "top": null,
            "visibility": null,
            "width": null
          }
        },
        "bb8f7a76bda947fb99ef4ff50b54ca16": {
          "model_module": "@jupyter-widgets/controls",
          "model_name": "ProgressStyleModel",
          "model_module_version": "1.5.0",
          "state": {
            "_model_module": "@jupyter-widgets/controls",
            "_model_module_version": "1.5.0",
            "_model_name": "ProgressStyleModel",
            "_view_count": null,
            "_view_module": "@jupyter-widgets/base",
            "_view_module_version": "1.2.0",
            "_view_name": "StyleView",
            "bar_color": null,
            "description_width": ""
          }
        },
        "79eae7e19e0a424689a57d76e3f1a4b3": {
          "model_module": "@jupyter-widgets/base",
          "model_name": "LayoutModel",
          "model_module_version": "1.2.0",
          "state": {
            "_model_module": "@jupyter-widgets/base",
            "_model_module_version": "1.2.0",
            "_model_name": "LayoutModel",
            "_view_count": null,
            "_view_module": "@jupyter-widgets/base",
            "_view_module_version": "1.2.0",
            "_view_name": "LayoutView",
            "align_content": null,
            "align_items": null,
            "align_self": null,
            "border": null,
            "bottom": null,
            "display": null,
            "flex": null,
            "flex_flow": null,
            "grid_area": null,
            "grid_auto_columns": null,
            "grid_auto_flow": null,
            "grid_auto_rows": null,
            "grid_column": null,
            "grid_gap": null,
            "grid_row": null,
            "grid_template_areas": null,
            "grid_template_columns": null,
            "grid_template_rows": null,
            "height": null,
            "justify_content": null,
            "justify_items": null,
            "left": null,
            "margin": null,
            "max_height": null,
            "max_width": null,
            "min_height": null,
            "min_width": null,
            "object_fit": null,
            "object_position": null,
            "order": null,
            "overflow": null,
            "overflow_x": null,
            "overflow_y": null,
            "padding": null,
            "right": null,
            "top": null,
            "visibility": null,
            "width": null
          }
        },
        "aa9a81a526074d4ebf308eb0aec88382": {
          "model_module": "@jupyter-widgets/controls",
          "model_name": "DescriptionStyleModel",
          "model_module_version": "1.5.0",
          "state": {
            "_model_module": "@jupyter-widgets/controls",
            "_model_module_version": "1.5.0",
            "_model_name": "DescriptionStyleModel",
            "_view_count": null,
            "_view_module": "@jupyter-widgets/base",
            "_view_module_version": "1.2.0",
            "_view_name": "StyleView",
            "description_width": ""
          }
        },
        "70b13d67517b43c191ae679763ea6190": {
          "model_module": "@jupyter-widgets/controls",
          "model_name": "HBoxModel",
          "model_module_version": "1.5.0",
          "state": {
            "_dom_classes": [],
            "_model_module": "@jupyter-widgets/controls",
            "_model_module_version": "1.5.0",
            "_model_name": "HBoxModel",
            "_view_count": null,
            "_view_module": "@jupyter-widgets/controls",
            "_view_module_version": "1.5.0",
            "_view_name": "HBoxView",
            "box_style": "",
            "children": [
              "IPY_MODEL_bccb273db9124c0b8db0cff57e15a67d",
              "IPY_MODEL_bec0e45f4cc34a25bfb6f242c3e8c483",
              "IPY_MODEL_e85a4c72934340b783c75fbaace3bae6"
            ],
            "layout": "IPY_MODEL_d8d666215b6542908c71ca36f31401ee"
          }
        },
        "bccb273db9124c0b8db0cff57e15a67d": {
          "model_module": "@jupyter-widgets/controls",
          "model_name": "HTMLModel",
          "model_module_version": "1.5.0",
          "state": {
            "_dom_classes": [],
            "_model_module": "@jupyter-widgets/controls",
            "_model_module_version": "1.5.0",
            "_model_name": "HTMLModel",
            "_view_count": null,
            "_view_module": "@jupyter-widgets/controls",
            "_view_module_version": "1.5.0",
            "_view_name": "HTMLView",
            "description": "",
            "description_tooltip": null,
            "layout": "IPY_MODEL_72cade1d6f9045608b11542ed6692766",
            "placeholder": "​",
            "style": "IPY_MODEL_1bac743c0ef14d68a0b93bb3a8a6dcae",
            "value": "Map: 100%"
          }
        },
        "bec0e45f4cc34a25bfb6f242c3e8c483": {
          "model_module": "@jupyter-widgets/controls",
          "model_name": "FloatProgressModel",
          "model_module_version": "1.5.0",
          "state": {
            "_dom_classes": [],
            "_model_module": "@jupyter-widgets/controls",
            "_model_module_version": "1.5.0",
            "_model_name": "FloatProgressModel",
            "_view_count": null,
            "_view_module": "@jupyter-widgets/controls",
            "_view_module_version": "1.5.0",
            "_view_name": "ProgressView",
            "bar_style": "success",
            "description": "",
            "description_tooltip": null,
            "layout": "IPY_MODEL_8bd34c93d651408db22d95f67db8b158",
            "max": 12719,
            "min": 0,
            "orientation": "horizontal",
            "style": "IPY_MODEL_d50fa6d70f144382a5e101d402c9ad2d",
            "value": 12719
          }
        },
        "e85a4c72934340b783c75fbaace3bae6": {
          "model_module": "@jupyter-widgets/controls",
          "model_name": "HTMLModel",
          "model_module_version": "1.5.0",
          "state": {
            "_dom_classes": [],
            "_model_module": "@jupyter-widgets/controls",
            "_model_module_version": "1.5.0",
            "_model_name": "HTMLModel",
            "_view_count": null,
            "_view_module": "@jupyter-widgets/controls",
            "_view_module_version": "1.5.0",
            "_view_name": "HTMLView",
            "description": "",
            "description_tooltip": null,
            "layout": "IPY_MODEL_b844f777db2b46729d6da60f6869952b",
            "placeholder": "​",
            "style": "IPY_MODEL_b2abab54a1fe4d0cbb48cfec5a40795c",
            "value": " 12719/12719 [00:05&lt;00:00, 2467.62 examples/s]"
          }
        },
        "d8d666215b6542908c71ca36f31401ee": {
          "model_module": "@jupyter-widgets/base",
          "model_name": "LayoutModel",
          "model_module_version": "1.2.0",
          "state": {
            "_model_module": "@jupyter-widgets/base",
            "_model_module_version": "1.2.0",
            "_model_name": "LayoutModel",
            "_view_count": null,
            "_view_module": "@jupyter-widgets/base",
            "_view_module_version": "1.2.0",
            "_view_name": "LayoutView",
            "align_content": null,
            "align_items": null,
            "align_self": null,
            "border": null,
            "bottom": null,
            "display": null,
            "flex": null,
            "flex_flow": null,
            "grid_area": null,
            "grid_auto_columns": null,
            "grid_auto_flow": null,
            "grid_auto_rows": null,
            "grid_column": null,
            "grid_gap": null,
            "grid_row": null,
            "grid_template_areas": null,
            "grid_template_columns": null,
            "grid_template_rows": null,
            "height": null,
            "justify_content": null,
            "justify_items": null,
            "left": null,
            "margin": null,
            "max_height": null,
            "max_width": null,
            "min_height": null,
            "min_width": null,
            "object_fit": null,
            "object_position": null,
            "order": null,
            "overflow": null,
            "overflow_x": null,
            "overflow_y": null,
            "padding": null,
            "right": null,
            "top": null,
            "visibility": null,
            "width": null
          }
        },
        "72cade1d6f9045608b11542ed6692766": {
          "model_module": "@jupyter-widgets/base",
          "model_name": "LayoutModel",
          "model_module_version": "1.2.0",
          "state": {
            "_model_module": "@jupyter-widgets/base",
            "_model_module_version": "1.2.0",
            "_model_name": "LayoutModel",
            "_view_count": null,
            "_view_module": "@jupyter-widgets/base",
            "_view_module_version": "1.2.0",
            "_view_name": "LayoutView",
            "align_content": null,
            "align_items": null,
            "align_self": null,
            "border": null,
            "bottom": null,
            "display": null,
            "flex": null,
            "flex_flow": null,
            "grid_area": null,
            "grid_auto_columns": null,
            "grid_auto_flow": null,
            "grid_auto_rows": null,
            "grid_column": null,
            "grid_gap": null,
            "grid_row": null,
            "grid_template_areas": null,
            "grid_template_columns": null,
            "grid_template_rows": null,
            "height": null,
            "justify_content": null,
            "justify_items": null,
            "left": null,
            "margin": null,
            "max_height": null,
            "max_width": null,
            "min_height": null,
            "min_width": null,
            "object_fit": null,
            "object_position": null,
            "order": null,
            "overflow": null,
            "overflow_x": null,
            "overflow_y": null,
            "padding": null,
            "right": null,
            "top": null,
            "visibility": null,
            "width": null
          }
        },
        "1bac743c0ef14d68a0b93bb3a8a6dcae": {
          "model_module": "@jupyter-widgets/controls",
          "model_name": "DescriptionStyleModel",
          "model_module_version": "1.5.0",
          "state": {
            "_model_module": "@jupyter-widgets/controls",
            "_model_module_version": "1.5.0",
            "_model_name": "DescriptionStyleModel",
            "_view_count": null,
            "_view_module": "@jupyter-widgets/base",
            "_view_module_version": "1.2.0",
            "_view_name": "StyleView",
            "description_width": ""
          }
        },
        "8bd34c93d651408db22d95f67db8b158": {
          "model_module": "@jupyter-widgets/base",
          "model_name": "LayoutModel",
          "model_module_version": "1.2.0",
          "state": {
            "_model_module": "@jupyter-widgets/base",
            "_model_module_version": "1.2.0",
            "_model_name": "LayoutModel",
            "_view_count": null,
            "_view_module": "@jupyter-widgets/base",
            "_view_module_version": "1.2.0",
            "_view_name": "LayoutView",
            "align_content": null,
            "align_items": null,
            "align_self": null,
            "border": null,
            "bottom": null,
            "display": null,
            "flex": null,
            "flex_flow": null,
            "grid_area": null,
            "grid_auto_columns": null,
            "grid_auto_flow": null,
            "grid_auto_rows": null,
            "grid_column": null,
            "grid_gap": null,
            "grid_row": null,
            "grid_template_areas": null,
            "grid_template_columns": null,
            "grid_template_rows": null,
            "height": null,
            "justify_content": null,
            "justify_items": null,
            "left": null,
            "margin": null,
            "max_height": null,
            "max_width": null,
            "min_height": null,
            "min_width": null,
            "object_fit": null,
            "object_position": null,
            "order": null,
            "overflow": null,
            "overflow_x": null,
            "overflow_y": null,
            "padding": null,
            "right": null,
            "top": null,
            "visibility": null,
            "width": null
          }
        },
        "d50fa6d70f144382a5e101d402c9ad2d": {
          "model_module": "@jupyter-widgets/controls",
          "model_name": "ProgressStyleModel",
          "model_module_version": "1.5.0",
          "state": {
            "_model_module": "@jupyter-widgets/controls",
            "_model_module_version": "1.5.0",
            "_model_name": "ProgressStyleModel",
            "_view_count": null,
            "_view_module": "@jupyter-widgets/base",
            "_view_module_version": "1.2.0",
            "_view_name": "StyleView",
            "bar_color": null,
            "description_width": ""
          }
        },
        "b844f777db2b46729d6da60f6869952b": {
          "model_module": "@jupyter-widgets/base",
          "model_name": "LayoutModel",
          "model_module_version": "1.2.0",
          "state": {
            "_model_module": "@jupyter-widgets/base",
            "_model_module_version": "1.2.0",
            "_model_name": "LayoutModel",
            "_view_count": null,
            "_view_module": "@jupyter-widgets/base",
            "_view_module_version": "1.2.0",
            "_view_name": "LayoutView",
            "align_content": null,
            "align_items": null,
            "align_self": null,
            "border": null,
            "bottom": null,
            "display": null,
            "flex": null,
            "flex_flow": null,
            "grid_area": null,
            "grid_auto_columns": null,
            "grid_auto_flow": null,
            "grid_auto_rows": null,
            "grid_column": null,
            "grid_gap": null,
            "grid_row": null,
            "grid_template_areas": null,
            "grid_template_columns": null,
            "grid_template_rows": null,
            "height": null,
            "justify_content": null,
            "justify_items": null,
            "left": null,
            "margin": null,
            "max_height": null,
            "max_width": null,
            "min_height": null,
            "min_width": null,
            "object_fit": null,
            "object_position": null,
            "order": null,
            "overflow": null,
            "overflow_x": null,
            "overflow_y": null,
            "padding": null,
            "right": null,
            "top": null,
            "visibility": null,
            "width": null
          }
        },
        "b2abab54a1fe4d0cbb48cfec5a40795c": {
          "model_module": "@jupyter-widgets/controls",
          "model_name": "DescriptionStyleModel",
          "model_module_version": "1.5.0",
          "state": {
            "_model_module": "@jupyter-widgets/controls",
            "_model_module_version": "1.5.0",
            "_model_name": "DescriptionStyleModel",
            "_view_count": null,
            "_view_module": "@jupyter-widgets/base",
            "_view_module_version": "1.2.0",
            "_view_name": "StyleView",
            "description_width": ""
          }
        }
      }
    },
    "kaggle": {
      "accelerator": "none",
      "dataSources": [
        {
          "sourceId": 10952489,
          "sourceType": "datasetVersion",
          "datasetId": 6813103
        },
        {
          "sourceId": 10953556,
          "sourceType": "datasetVersion",
          "datasetId": 6813943
        }
      ],
      "dockerImageVersionId": 30918,
      "isInternetEnabled": true,
      "language": "python",
      "sourceType": "notebook",
      "isGpuEnabled": false
    }
  },
  "nbformat_minor": 0,
  "nbformat": 4,
  "cells": [
    {
      "cell_type": "code",
      "source": [
        "!pip install transformers\n",
        "!pip install datasets\n",
        "!pip install torch==2.4.0\n",
        "!pip install torchvision==0.19.0\n",
        "!pip install evaluate"
      ],
      "metadata": {
        "id": "2NmNzKxxqZuP",
        "colab": {
          "base_uri": "https://localhost:8080/"
        },
        "outputId": "19e91a4d-7c69-48bb-863a-4db42acb3b95",
        "trusted": true,
        "execution": {
          "iopub.status.busy": "2025-03-07T19:41:53.473821Z",
          "iopub.execute_input": "2025-03-07T19:41:53.474098Z",
          "iopub.status.idle": "2025-03-07T19:45:49.931225Z",
          "shell.execute_reply.started": "2025-03-07T19:41:53.474076Z",
          "shell.execute_reply": "2025-03-07T19:45:49.929435Z"
        }
      },
      "outputs": [
        {
          "name": "stdout",
          "text": "Requirement already satisfied: transformers in /usr/local/lib/python3.10/dist-packages (4.47.0)\nRequirement already satisfied: filelock in /usr/local/lib/python3.10/dist-packages (from transformers) (3.17.0)\nRequirement already satisfied: huggingface-hub<1.0,>=0.24.0 in /usr/local/lib/python3.10/dist-packages (from transformers) (0.29.0)\nRequirement already satisfied: numpy>=1.17 in /usr/local/lib/python3.10/dist-packages (from transformers) (1.26.4)\nRequirement already satisfied: packaging>=20.0 in /usr/local/lib/python3.10/dist-packages (from transformers) (24.2)\nRequirement already satisfied: pyyaml>=5.1 in /usr/local/lib/python3.10/dist-packages (from transformers) (6.0.2)\nRequirement already satisfied: regex!=2019.12.17 in /usr/local/lib/python3.10/dist-packages (from transformers) (2024.11.6)\nRequirement already satisfied: requests in /usr/local/lib/python3.10/dist-packages (from transformers) (2.32.3)\nRequirement already satisfied: tokenizers<0.22,>=0.21 in /usr/local/lib/python3.10/dist-packages (from transformers) (0.21.0)\nRequirement already satisfied: safetensors>=0.4.1 in /usr/local/lib/python3.10/dist-packages (from transformers) (0.4.5)\nRequirement already satisfied: tqdm>=4.27 in /usr/local/lib/python3.10/dist-packages (from transformers) (4.67.1)\nRequirement already satisfied: fsspec>=2023.5.0 in /usr/local/lib/python3.10/dist-packages (from huggingface-hub<1.0,>=0.24.0->transformers) (2024.12.0)\nRequirement already satisfied: typing-extensions>=3.7.4.3 in /usr/local/lib/python3.10/dist-packages (from huggingface-hub<1.0,>=0.24.0->transformers) (4.12.2)\nRequirement already satisfied: mkl_fft in /usr/local/lib/python3.10/dist-packages (from numpy>=1.17->transformers) (1.3.8)\nRequirement already satisfied: mkl_random in /usr/local/lib/python3.10/dist-packages (from numpy>=1.17->transformers) (1.2.4)\nRequirement already satisfied: mkl_umath in /usr/local/lib/python3.10/dist-packages (from numpy>=1.17->transformers) (0.1.1)\nRequirement already satisfied: mkl in /usr/local/lib/python3.10/dist-packages (from numpy>=1.17->transformers) (2025.0.1)\nRequirement already satisfied: tbb4py in /usr/local/lib/python3.10/dist-packages (from numpy>=1.17->transformers) (2022.0.0)\nRequirement already satisfied: mkl-service in /usr/local/lib/python3.10/dist-packages (from numpy>=1.17->transformers) (2.4.1)\nRequirement already satisfied: charset-normalizer<4,>=2 in /usr/local/lib/python3.10/dist-packages (from requests->transformers) (3.4.1)\nRequirement already satisfied: idna<4,>=2.5 in /usr/local/lib/python3.10/dist-packages (from requests->transformers) (3.10)\nRequirement already satisfied: urllib3<3,>=1.21.1 in /usr/local/lib/python3.10/dist-packages (from requests->transformers) (2.3.0)\nRequirement already satisfied: certifi>=2017.4.17 in /usr/local/lib/python3.10/dist-packages (from requests->transformers) (2025.1.31)\nRequirement already satisfied: intel-openmp>=2024 in /usr/local/lib/python3.10/dist-packages (from mkl->numpy>=1.17->transformers) (2024.2.0)\nRequirement already satisfied: tbb==2022.* in /usr/local/lib/python3.10/dist-packages (from mkl->numpy>=1.17->transformers) (2022.0.0)\nRequirement already satisfied: tcmlib==1.* in /usr/local/lib/python3.10/dist-packages (from tbb==2022.*->mkl->numpy>=1.17->transformers) (1.2.0)\nRequirement already satisfied: intel-cmplr-lib-rt in /usr/local/lib/python3.10/dist-packages (from mkl_umath->numpy>=1.17->transformers) (2024.2.0)\nRequirement already satisfied: intel-cmplr-lib-ur==2024.2.0 in /usr/local/lib/python3.10/dist-packages (from intel-openmp>=2024->mkl->numpy>=1.17->transformers) (2024.2.0)\nRequirement already satisfied: datasets in /usr/local/lib/python3.10/dist-packages (3.3.1)\nRequirement already satisfied: filelock in /usr/local/lib/python3.10/dist-packages (from datasets) (3.17.0)\nRequirement already satisfied: numpy>=1.17 in /usr/local/lib/python3.10/dist-packages (from datasets) (1.26.4)\nRequirement already satisfied: pyarrow>=15.0.0 in /usr/local/lib/python3.10/dist-packages (from datasets) (19.0.1)\nRequirement already satisfied: dill<0.3.9,>=0.3.0 in /usr/local/lib/python3.10/dist-packages (from datasets) (0.3.8)\nRequirement already satisfied: pandas in /usr/local/lib/python3.10/dist-packages (from datasets) (2.2.3)\nRequirement already satisfied: requests>=2.32.2 in /usr/local/lib/python3.10/dist-packages (from datasets) (2.32.3)\nRequirement already satisfied: tqdm>=4.66.3 in /usr/local/lib/python3.10/dist-packages (from datasets) (4.67.1)\nRequirement already satisfied: xxhash in /usr/local/lib/python3.10/dist-packages (from datasets) (3.5.0)\nRequirement already satisfied: multiprocess<0.70.17 in /usr/local/lib/python3.10/dist-packages (from datasets) (0.70.16)\nRequirement already satisfied: fsspec<=2024.12.0,>=2023.1.0 in /usr/local/lib/python3.10/dist-packages (from fsspec[http]<=2024.12.0,>=2023.1.0->datasets) (2024.12.0)\nRequirement already satisfied: aiohttp in /usr/local/lib/python3.10/dist-packages (from datasets) (3.11.12)\nRequirement already satisfied: huggingface-hub>=0.24.0 in /usr/local/lib/python3.10/dist-packages (from datasets) (0.29.0)\nRequirement already satisfied: packaging in /usr/local/lib/python3.10/dist-packages (from datasets) (24.2)\nRequirement already satisfied: pyyaml>=5.1 in /usr/local/lib/python3.10/dist-packages (from datasets) (6.0.2)\nRequirement already satisfied: aiohappyeyeballs>=2.3.0 in /usr/local/lib/python3.10/dist-packages (from aiohttp->datasets) (2.4.6)\nRequirement already satisfied: aiosignal>=1.1.2 in /usr/local/lib/python3.10/dist-packages (from aiohttp->datasets) (1.3.2)\nRequirement already satisfied: async-timeout<6.0,>=4.0 in /usr/local/lib/python3.10/dist-packages (from aiohttp->datasets) (5.0.1)\nRequirement already satisfied: attrs>=17.3.0 in /usr/local/lib/python3.10/dist-packages (from aiohttp->datasets) (25.1.0)\nRequirement already satisfied: frozenlist>=1.1.1 in /usr/local/lib/python3.10/dist-packages (from aiohttp->datasets) (1.5.0)\nRequirement already satisfied: multidict<7.0,>=4.5 in /usr/local/lib/python3.10/dist-packages (from aiohttp->datasets) (6.1.0)\nRequirement already satisfied: propcache>=0.2.0 in /usr/local/lib/python3.10/dist-packages (from aiohttp->datasets) (0.2.1)\nRequirement already satisfied: yarl<2.0,>=1.17.0 in /usr/local/lib/python3.10/dist-packages (from aiohttp->datasets) (1.18.3)\nRequirement already satisfied: typing-extensions>=3.7.4.3 in /usr/local/lib/python3.10/dist-packages (from huggingface-hub>=0.24.0->datasets) (4.12.2)\nRequirement already satisfied: mkl_fft in /usr/local/lib/python3.10/dist-packages (from numpy>=1.17->datasets) (1.3.8)\nRequirement already satisfied: mkl_random in /usr/local/lib/python3.10/dist-packages (from numpy>=1.17->datasets) (1.2.4)\nRequirement already satisfied: mkl_umath in /usr/local/lib/python3.10/dist-packages (from numpy>=1.17->datasets) (0.1.1)\nRequirement already satisfied: mkl in /usr/local/lib/python3.10/dist-packages (from numpy>=1.17->datasets) (2025.0.1)\nRequirement already satisfied: tbb4py in /usr/local/lib/python3.10/dist-packages (from numpy>=1.17->datasets) (2022.0.0)\nRequirement already satisfied: mkl-service in /usr/local/lib/python3.10/dist-packages (from numpy>=1.17->datasets) (2.4.1)\nRequirement already satisfied: charset-normalizer<4,>=2 in /usr/local/lib/python3.10/dist-packages (from requests>=2.32.2->datasets) (3.4.1)\nRequirement already satisfied: idna<4,>=2.5 in /usr/local/lib/python3.10/dist-packages (from requests>=2.32.2->datasets) (3.10)\nRequirement already satisfied: urllib3<3,>=1.21.1 in /usr/local/lib/python3.10/dist-packages (from requests>=2.32.2->datasets) (2.3.0)\nRequirement already satisfied: certifi>=2017.4.17 in /usr/local/lib/python3.10/dist-packages (from requests>=2.32.2->datasets) (2025.1.31)\nRequirement already satisfied: python-dateutil>=2.8.2 in /usr/local/lib/python3.10/dist-packages (from pandas->datasets) (2.9.0.post0)\nRequirement already satisfied: pytz>=2020.1 in /usr/local/lib/python3.10/dist-packages (from pandas->datasets) (2025.1)\nRequirement already satisfied: tzdata>=2022.7 in /usr/local/lib/python3.10/dist-packages (from pandas->datasets) (2025.1)\nRequirement already satisfied: six>=1.5 in /usr/local/lib/python3.10/dist-packages (from python-dateutil>=2.8.2->pandas->datasets) (1.17.0)\nRequirement already satisfied: intel-openmp>=2024 in /usr/local/lib/python3.10/dist-packages (from mkl->numpy>=1.17->datasets) (2024.2.0)\nRequirement already satisfied: tbb==2022.* in /usr/local/lib/python3.10/dist-packages (from mkl->numpy>=1.17->datasets) (2022.0.0)\nRequirement already satisfied: tcmlib==1.* in /usr/local/lib/python3.10/dist-packages (from tbb==2022.*->mkl->numpy>=1.17->datasets) (1.2.0)\nRequirement already satisfied: intel-cmplr-lib-rt in /usr/local/lib/python3.10/dist-packages (from mkl_umath->numpy>=1.17->datasets) (2024.2.0)\nRequirement already satisfied: intel-cmplr-lib-ur==2024.2.0 in /usr/local/lib/python3.10/dist-packages (from intel-openmp>=2024->mkl->numpy>=1.17->datasets) (2024.2.0)\nCollecting torch==2.4.0\n  Downloading torch-2.4.0-cp310-cp310-manylinux1_x86_64.whl.metadata (26 kB)\nRequirement already satisfied: filelock in /usr/local/lib/python3.10/dist-packages (from torch==2.4.0) (3.17.0)\nRequirement already satisfied: typing-extensions>=4.8.0 in /usr/local/lib/python3.10/dist-packages (from torch==2.4.0) (4.12.2)\nRequirement already satisfied: sympy in /usr/local/lib/python3.10/dist-packages (from torch==2.4.0) (1.13.1)\nRequirement already satisfied: networkx in /usr/local/lib/python3.10/dist-packages (from torch==2.4.0) (3.4.2)\nRequirement already satisfied: jinja2 in /usr/local/lib/python3.10/dist-packages (from torch==2.4.0) (3.1.4)\nRequirement already satisfied: fsspec in /usr/local/lib/python3.10/dist-packages (from torch==2.4.0) (2024.12.0)\nCollecting nvidia-cuda-nvrtc-cu12==12.1.105 (from torch==2.4.0)\n  Downloading nvidia_cuda_nvrtc_cu12-12.1.105-py3-none-manylinux1_x86_64.whl.metadata (1.5 kB)\nCollecting nvidia-cuda-runtime-cu12==12.1.105 (from torch==2.4.0)\n  Downloading nvidia_cuda_runtime_cu12-12.1.105-py3-none-manylinux1_x86_64.whl.metadata (1.5 kB)\nCollecting nvidia-cuda-cupti-cu12==12.1.105 (from torch==2.4.0)\n  Downloading nvidia_cuda_cupti_cu12-12.1.105-py3-none-manylinux1_x86_64.whl.metadata (1.6 kB)\nCollecting nvidia-cudnn-cu12==9.1.0.70 (from torch==2.4.0)\n  Downloading nvidia_cudnn_cu12-9.1.0.70-py3-none-manylinux2014_x86_64.whl.metadata (1.6 kB)\nCollecting nvidia-cublas-cu12==12.1.3.1 (from torch==2.4.0)\n  Downloading nvidia_cublas_cu12-12.1.3.1-py3-none-manylinux1_x86_64.whl.metadata (1.5 kB)\nCollecting nvidia-cufft-cu12==11.0.2.54 (from torch==2.4.0)\n  Downloading nvidia_cufft_cu12-11.0.2.54-py3-none-manylinux1_x86_64.whl.metadata (1.5 kB)\nCollecting nvidia-curand-cu12==10.3.2.106 (from torch==2.4.0)\n  Downloading nvidia_curand_cu12-10.3.2.106-py3-none-manylinux1_x86_64.whl.metadata (1.5 kB)\nCollecting nvidia-cusolver-cu12==11.4.5.107 (from torch==2.4.0)\n  Downloading nvidia_cusolver_cu12-11.4.5.107-py3-none-manylinux1_x86_64.whl.metadata (1.6 kB)\nCollecting nvidia-cusparse-cu12==12.1.0.106 (from torch==2.4.0)\n  Downloading nvidia_cusparse_cu12-12.1.0.106-py3-none-manylinux1_x86_64.whl.metadata (1.6 kB)\nCollecting nvidia-nccl-cu12==2.20.5 (from torch==2.4.0)\n  Downloading nvidia_nccl_cu12-2.20.5-py3-none-manylinux2014_x86_64.whl.metadata (1.8 kB)\nCollecting nvidia-nvtx-cu12==12.1.105 (from torch==2.4.0)\n  Downloading nvidia_nvtx_cu12-12.1.105-py3-none-manylinux1_x86_64.whl.metadata (1.7 kB)\nCollecting triton==3.0.0 (from torch==2.4.0)\n  Downloading triton-3.0.0-1-cp310-cp310-manylinux2014_x86_64.manylinux_2_17_x86_64.whl.metadata (1.3 kB)\nRequirement already satisfied: nvidia-nvjitlink-cu12 in /usr/local/lib/python3.10/dist-packages (from nvidia-cusolver-cu12==11.4.5.107->torch==2.4.0) (12.6.85)\nRequirement already satisfied: MarkupSafe>=2.0 in /usr/local/lib/python3.10/dist-packages (from jinja2->torch==2.4.0) (3.0.2)\nRequirement already satisfied: mpmath<1.4,>=1.1.0 in /usr/local/lib/python3.10/dist-packages (from sympy->torch==2.4.0) (1.3.0)\nDownloading torch-2.4.0-cp310-cp310-manylinux1_x86_64.whl (797.2 MB)\n\u001b[2K   \u001b[90m━━━━━━━━━━━━━━━━━━━━━━━━━━━━━━━━━━━━━━━━\u001b[0m \u001b[32m797.2/797.2 MB\u001b[0m \u001b[31m1.7 MB/s\u001b[0m eta \u001b[36m0:00:00\u001b[0m0:00:01\u001b[0m00:01\u001b[0m\n\u001b[?25hDownloading nvidia_cublas_cu12-12.1.3.1-py3-none-manylinux1_x86_64.whl (410.6 MB)\n\u001b[2K   \u001b[90m━━━━━━━━━━━━━━━━━━━━━━━━━━━━━━━━━━━━━━━━\u001b[0m \u001b[32m410.6/410.6 MB\u001b[0m \u001b[31m2.4 MB/s\u001b[0m eta \u001b[36m0:00:00\u001b[0m0:00:01\u001b[0m00:01\u001b[0m\n\u001b[?25hDownloading nvidia_cuda_cupti_cu12-12.1.105-py3-none-manylinux1_x86_64.whl (14.1 MB)\n\u001b[2K   \u001b[90m━━━━━━━━━━━━━━━━━━━━━━━━━━━━━━━━━━━━━━━━\u001b[0m \u001b[32m14.1/14.1 MB\u001b[0m \u001b[31m64.3 MB/s\u001b[0m eta \u001b[36m0:00:00\u001b[0m:00:01\u001b[0m00:01\u001b[0m\n\u001b[?25hDownloading nvidia_cuda_nvrtc_cu12-12.1.105-py3-none-manylinux1_x86_64.whl (23.7 MB)\n\u001b[2K   \u001b[90m━━━━━━━━━━━━━━━━━━━━━━━━━━━━━━━━━━━━━━━━\u001b[0m \u001b[32m23.7/23.7 MB\u001b[0m \u001b[31m50.5 MB/s\u001b[0m eta \u001b[36m0:00:00\u001b[0m:00:01\u001b[0m00:01\u001b[0m\n\u001b[?25hDownloading nvidia_cuda_runtime_cu12-12.1.105-py3-none-manylinux1_x86_64.whl (823 kB)\n\u001b[2K   \u001b[90m━━━━━━━━━━━━━━━━━━━━━━━━━━━━━━━━━━━━━━━━\u001b[0m \u001b[32m823.6/823.6 kB\u001b[0m \u001b[31m26.1 MB/s\u001b[0m eta \u001b[36m0:00:00\u001b[0m\n\u001b[?25hDownloading nvidia_cudnn_cu12-9.1.0.70-py3-none-manylinux2014_x86_64.whl (664.8 MB)\n\u001b[2K   \u001b[90m━━━━━━━━━━━━━━━━━━━━━━━━━━━━━━━━━━━━━━━━\u001b[0m \u001b[32m664.8/664.8 MB\u001b[0m \u001b[31m1.2 MB/s\u001b[0m eta \u001b[36m0:00:00\u001b[0m:00:01\u001b[0m00:01\u001b[0mm\n\u001b[?25hDownloading nvidia_cufft_cu12-11.0.2.54-py3-none-manylinux1_x86_64.whl (121.6 MB)\n\u001b[2K   \u001b[90m━━━━━━━━━━━━━━━━━━━━━━━━━━━━━━━━━━━━━━━━\u001b[0m \u001b[32m121.6/121.6 MB\u001b[0m \u001b[31m1.7 MB/s\u001b[0m eta \u001b[36m0:00:00\u001b[0m:00:01\u001b[0m00:01\u001b[0m\n\u001b[?25hDownloading nvidia_curand_cu12-10.3.2.106-py3-none-manylinux1_x86_64.whl (56.5 MB)\n\u001b[2K   \u001b[90m━━━━━━━━━━━━━━━━━━━━━━━━━━━━━━━━━━━━━━━━\u001b[0m \u001b[32m56.5/56.5 MB\u001b[0m \u001b[31m9.7 MB/s\u001b[0m eta \u001b[36m0:00:00\u001b[0m0:00:01\u001b[0m0:01\u001b[0mm\n\u001b[?25hDownloading nvidia_cusolver_cu12-11.4.5.107-py3-none-manylinux1_x86_64.whl (124.2 MB)\n\u001b[2K   \u001b[90m━━━━━━━━━━━━━━━━━━━━━━━━━━━━━━━━━━━━━━━━\u001b[0m \u001b[32m124.2/124.2 MB\u001b[0m \u001b[31m5.4 MB/s\u001b[0m eta \u001b[36m0:00:00\u001b[0m:00:01\u001b[0m00:01\u001b[0m\n\u001b[?25hDownloading nvidia_cusparse_cu12-12.1.0.106-py3-none-manylinux1_x86_64.whl (196.0 MB)\n\u001b[2K   \u001b[90m━━━━━━━━━━━━━━━━━━━━━━━━━━━━━━━━━━━━━━━━\u001b[0m \u001b[32m196.0/196.0 MB\u001b[0m \u001b[31m3.4 MB/s\u001b[0m eta \u001b[36m0:00:00\u001b[0m:00:01\u001b[0m00:01\u001b[0mm\n\u001b[?25hDownloading nvidia_nccl_cu12-2.20.5-py3-none-manylinux2014_x86_64.whl (176.2 MB)\n\u001b[2K   \u001b[90m━━━━━━━━━━━━━━━━━━━━━━━━━━━━━━━━━━━━━━━━\u001b[0m \u001b[32m176.2/176.2 MB\u001b[0m \u001b[31m3.9 MB/s\u001b[0m eta \u001b[36m0:00:00\u001b[0m:00:01\u001b[0m00:01\u001b[0m\n\u001b[?25hDownloading nvidia_nvtx_cu12-12.1.105-py3-none-manylinux1_x86_64.whl (99 kB)\n\u001b[2K   \u001b[90m━━━━━━━━━━━━━━━━━━━━━━━━━━━━━━━━━━━━━━━━\u001b[0m \u001b[32m99.1/99.1 kB\u001b[0m \u001b[31m3.5 MB/s\u001b[0m eta \u001b[36m0:00:00\u001b[0m\n\u001b[?25hDownloading triton-3.0.0-1-cp310-cp310-manylinux2014_x86_64.manylinux_2_17_x86_64.whl (209.4 MB)\n\u001b[2K   \u001b[90m━━━━━━━━━━━━━━━━━━━━━━━━━━━━━━━━━━━━━━━━\u001b[0m \u001b[32m209.4/209.4 MB\u001b[0m \u001b[31m3.3 MB/s\u001b[0m eta \u001b[36m0:00:00\u001b[0m:00:01\u001b[0m00:01\u001b[0m\n\u001b[?25hInstalling collected packages: triton, nvidia-nvtx-cu12, nvidia-nccl-cu12, nvidia-cusparse-cu12, nvidia-curand-cu12, nvidia-cufft-cu12, nvidia-cuda-runtime-cu12, nvidia-cuda-nvrtc-cu12, nvidia-cuda-cupti-cu12, nvidia-cublas-cu12, nvidia-cusolver-cu12, nvidia-cudnn-cu12, torch\n  Attempting uninstall: nvidia-nccl-cu12\n    Found existing installation: nvidia-nccl-cu12 2.23.4\n    Uninstalling nvidia-nccl-cu12-2.23.4:\n      Successfully uninstalled nvidia-nccl-cu12-2.23.4\n  Attempting uninstall: nvidia-cusparse-cu12\n    Found existing installation: nvidia-cusparse-cu12 12.5.4.2\n    Uninstalling nvidia-cusparse-cu12-12.5.4.2:\n      Successfully uninstalled nvidia-cusparse-cu12-12.5.4.2\n  Attempting uninstall: nvidia-curand-cu12\n    Found existing installation: nvidia-curand-cu12 10.3.7.77\n    Uninstalling nvidia-curand-cu12-10.3.7.77:\n      Successfully uninstalled nvidia-curand-cu12-10.3.7.77\n  Attempting uninstall: nvidia-cufft-cu12\n    Found existing installation: nvidia-cufft-cu12 11.3.0.4\n    Uninstalling nvidia-cufft-cu12-11.3.0.4:\n      Successfully uninstalled nvidia-cufft-cu12-11.3.0.4\n  Attempting uninstall: nvidia-cuda-runtime-cu12\n    Found existing installation: nvidia-cuda-runtime-cu12 12.6.77\n    Uninstalling nvidia-cuda-runtime-cu12-12.6.77:\n      Successfully uninstalled nvidia-cuda-runtime-cu12-12.6.77\n  Attempting uninstall: nvidia-cuda-cupti-cu12\n    Found existing installation: nvidia-cuda-cupti-cu12 12.6.80\n    Uninstalling nvidia-cuda-cupti-cu12-12.6.80:\n      Successfully uninstalled nvidia-cuda-cupti-cu12-12.6.80\n  Attempting uninstall: nvidia-cublas-cu12\n    Found existing installation: nvidia-cublas-cu12 12.6.4.1\n    Uninstalling nvidia-cublas-cu12-12.6.4.1:\n      Successfully uninstalled nvidia-cublas-cu12-12.6.4.1\n  Attempting uninstall: nvidia-cusolver-cu12\n    Found existing installation: nvidia-cusolver-cu12 11.7.1.2\n    Uninstalling nvidia-cusolver-cu12-11.7.1.2:\n      Successfully uninstalled nvidia-cusolver-cu12-11.7.1.2\n  Attempting uninstall: nvidia-cudnn-cu12\n    Found existing installation: nvidia-cudnn-cu12 9.6.0.74\n    Uninstalling nvidia-cudnn-cu12-9.6.0.74:\n      Successfully uninstalled nvidia-cudnn-cu12-9.6.0.74\n  Attempting uninstall: torch\n    Found existing installation: torch 2.5.1+cu121\n    Uninstalling torch-2.5.1+cu121:\n      Successfully uninstalled torch-2.5.1+cu121\n\u001b[31mERROR: pip's dependency resolver does not currently take into account all the packages that are installed. This behaviour is the source of the following dependency conflicts.\npylibcugraph-cu12 24.10.0 requires pylibraft-cu12==24.10.*, but you have pylibraft-cu12 25.2.0 which is incompatible.\npylibcugraph-cu12 24.10.0 requires rmm-cu12==24.10.*, but you have rmm-cu12 25.2.0 which is incompatible.\ntorchaudio 2.5.1+cu121 requires torch==2.5.1, but you have torch 2.4.0 which is incompatible.\ntorchvision 0.20.1+cu121 requires torch==2.5.1, but you have torch 2.4.0 which is incompatible.\u001b[0m\u001b[31m\n\u001b[0mSuccessfully installed nvidia-cublas-cu12-12.1.3.1 nvidia-cuda-cupti-cu12-12.1.105 nvidia-cuda-nvrtc-cu12-12.1.105 nvidia-cuda-runtime-cu12-12.1.105 nvidia-cudnn-cu12-9.1.0.70 nvidia-cufft-cu12-11.0.2.54 nvidia-curand-cu12-10.3.2.106 nvidia-cusolver-cu12-11.4.5.107 nvidia-cusparse-cu12-12.1.0.106 nvidia-nccl-cu12-2.20.5 nvidia-nvtx-cu12-12.1.105 torch-2.4.0 triton-3.0.0\nCollecting torchvision==0.19.0\n  Downloading torchvision-0.19.0-cp310-cp310-manylinux1_x86_64.whl.metadata (6.0 kB)\nRequirement already satisfied: numpy in /usr/local/lib/python3.10/dist-packages (from torchvision==0.19.0) (1.26.4)\nRequirement already satisfied: torch==2.4.0 in /usr/local/lib/python3.10/dist-packages (from torchvision==0.19.0) (2.4.0)\nRequirement already satisfied: pillow!=8.3.*,>=5.3.0 in /usr/local/lib/python3.10/dist-packages (from torchvision==0.19.0) (11.0.0)\nRequirement already satisfied: filelock in /usr/local/lib/python3.10/dist-packages (from torch==2.4.0->torchvision==0.19.0) (3.17.0)\nRequirement already satisfied: typing-extensions>=4.8.0 in /usr/local/lib/python3.10/dist-packages (from torch==2.4.0->torchvision==0.19.0) (4.12.2)\nRequirement already satisfied: sympy in /usr/local/lib/python3.10/dist-packages (from torch==2.4.0->torchvision==0.19.0) (1.13.1)\nRequirement already satisfied: networkx in /usr/local/lib/python3.10/dist-packages (from torch==2.4.0->torchvision==0.19.0) (3.4.2)\nRequirement already satisfied: jinja2 in /usr/local/lib/python3.10/dist-packages (from torch==2.4.0->torchvision==0.19.0) (3.1.4)\nRequirement already satisfied: fsspec in /usr/local/lib/python3.10/dist-packages (from torch==2.4.0->torchvision==0.19.0) (2024.12.0)\nRequirement already satisfied: nvidia-cuda-nvrtc-cu12==12.1.105 in /usr/local/lib/python3.10/dist-packages (from torch==2.4.0->torchvision==0.19.0) (12.1.105)\nRequirement already satisfied: nvidia-cuda-runtime-cu12==12.1.105 in /usr/local/lib/python3.10/dist-packages (from torch==2.4.0->torchvision==0.19.0) (12.1.105)\nRequirement already satisfied: nvidia-cuda-cupti-cu12==12.1.105 in /usr/local/lib/python3.10/dist-packages (from torch==2.4.0->torchvision==0.19.0) (12.1.105)\nRequirement already satisfied: nvidia-cudnn-cu12==9.1.0.70 in /usr/local/lib/python3.10/dist-packages (from torch==2.4.0->torchvision==0.19.0) (9.1.0.70)\nRequirement already satisfied: nvidia-cublas-cu12==12.1.3.1 in /usr/local/lib/python3.10/dist-packages (from torch==2.4.0->torchvision==0.19.0) (12.1.3.1)\nRequirement already satisfied: nvidia-cufft-cu12==11.0.2.54 in /usr/local/lib/python3.10/dist-packages (from torch==2.4.0->torchvision==0.19.0) (11.0.2.54)\nRequirement already satisfied: nvidia-curand-cu12==10.3.2.106 in /usr/local/lib/python3.10/dist-packages (from torch==2.4.0->torchvision==0.19.0) (10.3.2.106)\nRequirement already satisfied: nvidia-cusolver-cu12==11.4.5.107 in /usr/local/lib/python3.10/dist-packages (from torch==2.4.0->torchvision==0.19.0) (11.4.5.107)\nRequirement already satisfied: nvidia-cusparse-cu12==12.1.0.106 in /usr/local/lib/python3.10/dist-packages (from torch==2.4.0->torchvision==0.19.0) (12.1.0.106)\nRequirement already satisfied: nvidia-nccl-cu12==2.20.5 in /usr/local/lib/python3.10/dist-packages (from torch==2.4.0->torchvision==0.19.0) (2.20.5)\nRequirement already satisfied: nvidia-nvtx-cu12==12.1.105 in /usr/local/lib/python3.10/dist-packages (from torch==2.4.0->torchvision==0.19.0) (12.1.105)\nRequirement already satisfied: triton==3.0.0 in /usr/local/lib/python3.10/dist-packages (from torch==2.4.0->torchvision==0.19.0) (3.0.0)\nRequirement already satisfied: nvidia-nvjitlink-cu12 in /usr/local/lib/python3.10/dist-packages (from nvidia-cusolver-cu12==11.4.5.107->torch==2.4.0->torchvision==0.19.0) (12.6.85)\nRequirement already satisfied: mkl_fft in /usr/local/lib/python3.10/dist-packages (from numpy->torchvision==0.19.0) (1.3.8)\nRequirement already satisfied: mkl_random in /usr/local/lib/python3.10/dist-packages (from numpy->torchvision==0.19.0) (1.2.4)\nRequirement already satisfied: mkl_umath in /usr/local/lib/python3.10/dist-packages (from numpy->torchvision==0.19.0) (0.1.1)\nRequirement already satisfied: mkl in /usr/local/lib/python3.10/dist-packages (from numpy->torchvision==0.19.0) (2025.0.1)\nRequirement already satisfied: tbb4py in /usr/local/lib/python3.10/dist-packages (from numpy->torchvision==0.19.0) (2022.0.0)\nRequirement already satisfied: mkl-service in /usr/local/lib/python3.10/dist-packages (from numpy->torchvision==0.19.0) (2.4.1)\nRequirement already satisfied: MarkupSafe>=2.0 in /usr/local/lib/python3.10/dist-packages (from jinja2->torch==2.4.0->torchvision==0.19.0) (3.0.2)\nRequirement already satisfied: intel-openmp>=2024 in /usr/local/lib/python3.10/dist-packages (from mkl->numpy->torchvision==0.19.0) (2024.2.0)\nRequirement already satisfied: tbb==2022.* in /usr/local/lib/python3.10/dist-packages (from mkl->numpy->torchvision==0.19.0) (2022.0.0)\nRequirement already satisfied: tcmlib==1.* in /usr/local/lib/python3.10/dist-packages (from tbb==2022.*->mkl->numpy->torchvision==0.19.0) (1.2.0)\nRequirement already satisfied: intel-cmplr-lib-rt in /usr/local/lib/python3.10/dist-packages (from mkl_umath->numpy->torchvision==0.19.0) (2024.2.0)\nRequirement already satisfied: mpmath<1.4,>=1.1.0 in /usr/local/lib/python3.10/dist-packages (from sympy->torch==2.4.0->torchvision==0.19.0) (1.3.0)\nRequirement already satisfied: intel-cmplr-lib-ur==2024.2.0 in /usr/local/lib/python3.10/dist-packages (from intel-openmp>=2024->mkl->numpy->torchvision==0.19.0) (2024.2.0)\nDownloading torchvision-0.19.0-cp310-cp310-manylinux1_x86_64.whl (7.0 MB)\n\u001b[2K   \u001b[90m━━━━━━━━━━━━━━━━━━━━━━━━━━━━━━━━━━━━━━━━\u001b[0m \u001b[32m7.0/7.0 MB\u001b[0m \u001b[31m39.3 MB/s\u001b[0m eta \u001b[36m0:00:00\u001b[0m00:01\u001b[0m00:01\u001b[0m\n\u001b[?25hInstalling collected packages: torchvision\n  Attempting uninstall: torchvision\n    Found existing installation: torchvision 0.20.1+cu121\n    Uninstalling torchvision-0.20.1+cu121:\n      Successfully uninstalled torchvision-0.20.1+cu121\nSuccessfully installed torchvision-0.19.0\nCollecting evaluate\n  Downloading evaluate-0.4.3-py3-none-any.whl.metadata (9.2 kB)\nRequirement already satisfied: datasets>=2.0.0 in /usr/local/lib/python3.10/dist-packages (from evaluate) (3.3.1)\nRequirement already satisfied: numpy>=1.17 in /usr/local/lib/python3.10/dist-packages (from evaluate) (1.26.4)\nRequirement already satisfied: dill in /usr/local/lib/python3.10/dist-packages (from evaluate) (0.3.8)\nRequirement already satisfied: pandas in /usr/local/lib/python3.10/dist-packages (from evaluate) (2.2.3)\nRequirement already satisfied: requests>=2.19.0 in /usr/local/lib/python3.10/dist-packages (from evaluate) (2.32.3)\nRequirement already satisfied: tqdm>=4.62.1 in /usr/local/lib/python3.10/dist-packages (from evaluate) (4.67.1)\nRequirement already satisfied: xxhash in /usr/local/lib/python3.10/dist-packages (from evaluate) (3.5.0)\nRequirement already satisfied: multiprocess in /usr/local/lib/python3.10/dist-packages (from evaluate) (0.70.16)\nRequirement already satisfied: fsspec>=2021.05.0 in /usr/local/lib/python3.10/dist-packages (from fsspec[http]>=2021.05.0->evaluate) (2024.12.0)\nRequirement already satisfied: huggingface-hub>=0.7.0 in /usr/local/lib/python3.10/dist-packages (from evaluate) (0.29.0)\nRequirement already satisfied: packaging in /usr/local/lib/python3.10/dist-packages (from evaluate) (24.2)\nRequirement already satisfied: filelock in /usr/local/lib/python3.10/dist-packages (from datasets>=2.0.0->evaluate) (3.17.0)\nRequirement already satisfied: pyarrow>=15.0.0 in /usr/local/lib/python3.10/dist-packages (from datasets>=2.0.0->evaluate) (19.0.1)\nRequirement already satisfied: aiohttp in /usr/local/lib/python3.10/dist-packages (from datasets>=2.0.0->evaluate) (3.11.12)\nRequirement already satisfied: pyyaml>=5.1 in /usr/local/lib/python3.10/dist-packages (from datasets>=2.0.0->evaluate) (6.0.2)\nRequirement already satisfied: typing-extensions>=3.7.4.3 in /usr/local/lib/python3.10/dist-packages (from huggingface-hub>=0.7.0->evaluate) (4.12.2)\nRequirement already satisfied: mkl_fft in /usr/local/lib/python3.10/dist-packages (from numpy>=1.17->evaluate) (1.3.8)\nRequirement already satisfied: mkl_random in /usr/local/lib/python3.10/dist-packages (from numpy>=1.17->evaluate) (1.2.4)\nRequirement already satisfied: mkl_umath in /usr/local/lib/python3.10/dist-packages (from numpy>=1.17->evaluate) (0.1.1)\nRequirement already satisfied: mkl in /usr/local/lib/python3.10/dist-packages (from numpy>=1.17->evaluate) (2025.0.1)\nRequirement already satisfied: tbb4py in /usr/local/lib/python3.10/dist-packages (from numpy>=1.17->evaluate) (2022.0.0)\nRequirement already satisfied: mkl-service in /usr/local/lib/python3.10/dist-packages (from numpy>=1.17->evaluate) (2.4.1)\nRequirement already satisfied: charset-normalizer<4,>=2 in /usr/local/lib/python3.10/dist-packages (from requests>=2.19.0->evaluate) (3.4.1)\nRequirement already satisfied: idna<4,>=2.5 in /usr/local/lib/python3.10/dist-packages (from requests>=2.19.0->evaluate) (3.10)\nRequirement already satisfied: urllib3<3,>=1.21.1 in /usr/local/lib/python3.10/dist-packages (from requests>=2.19.0->evaluate) (2.3.0)\nRequirement already satisfied: certifi>=2017.4.17 in /usr/local/lib/python3.10/dist-packages (from requests>=2.19.0->evaluate) (2025.1.31)\nRequirement already satisfied: python-dateutil>=2.8.2 in /usr/local/lib/python3.10/dist-packages (from pandas->evaluate) (2.9.0.post0)\nRequirement already satisfied: pytz>=2020.1 in /usr/local/lib/python3.10/dist-packages (from pandas->evaluate) (2025.1)\nRequirement already satisfied: tzdata>=2022.7 in /usr/local/lib/python3.10/dist-packages (from pandas->evaluate) (2025.1)\nRequirement already satisfied: aiohappyeyeballs>=2.3.0 in /usr/local/lib/python3.10/dist-packages (from aiohttp->datasets>=2.0.0->evaluate) (2.4.6)\nRequirement already satisfied: aiosignal>=1.1.2 in /usr/local/lib/python3.10/dist-packages (from aiohttp->datasets>=2.0.0->evaluate) (1.3.2)\nRequirement already satisfied: async-timeout<6.0,>=4.0 in /usr/local/lib/python3.10/dist-packages (from aiohttp->datasets>=2.0.0->evaluate) (5.0.1)\nRequirement already satisfied: attrs>=17.3.0 in /usr/local/lib/python3.10/dist-packages (from aiohttp->datasets>=2.0.0->evaluate) (25.1.0)\nRequirement already satisfied: frozenlist>=1.1.1 in /usr/local/lib/python3.10/dist-packages (from aiohttp->datasets>=2.0.0->evaluate) (1.5.0)\nRequirement already satisfied: multidict<7.0,>=4.5 in /usr/local/lib/python3.10/dist-packages (from aiohttp->datasets>=2.0.0->evaluate) (6.1.0)\nRequirement already satisfied: propcache>=0.2.0 in /usr/local/lib/python3.10/dist-packages (from aiohttp->datasets>=2.0.0->evaluate) (0.2.1)\nRequirement already satisfied: yarl<2.0,>=1.17.0 in /usr/local/lib/python3.10/dist-packages (from aiohttp->datasets>=2.0.0->evaluate) (1.18.3)\nRequirement already satisfied: six>=1.5 in /usr/local/lib/python3.10/dist-packages (from python-dateutil>=2.8.2->pandas->evaluate) (1.17.0)\nRequirement already satisfied: intel-openmp>=2024 in /usr/local/lib/python3.10/dist-packages (from mkl->numpy>=1.17->evaluate) (2024.2.0)\nRequirement already satisfied: tbb==2022.* in /usr/local/lib/python3.10/dist-packages (from mkl->numpy>=1.17->evaluate) (2022.0.0)\nRequirement already satisfied: tcmlib==1.* in /usr/local/lib/python3.10/dist-packages (from tbb==2022.*->mkl->numpy>=1.17->evaluate) (1.2.0)\nRequirement already satisfied: intel-cmplr-lib-rt in /usr/local/lib/python3.10/dist-packages (from mkl_umath->numpy>=1.17->evaluate) (2024.2.0)\nRequirement already satisfied: intel-cmplr-lib-ur==2024.2.0 in /usr/local/lib/python3.10/dist-packages (from intel-openmp>=2024->mkl->numpy>=1.17->evaluate) (2024.2.0)\nDownloading evaluate-0.4.3-py3-none-any.whl (84 kB)\n\u001b[2K   \u001b[90m━━━━━━━━━━━━━━━━━━━━━━━━━━━━━━━━━━━━━━━━\u001b[0m \u001b[32m84.0/84.0 kB\u001b[0m \u001b[31m2.0 MB/s\u001b[0m eta \u001b[36m0:00:00\u001b[0m00:01\u001b[0m\n\u001b[?25hInstalling collected packages: evaluate\nSuccessfully installed evaluate-0.4.3\n",
          "output_type": "stream"
        }
      ],
      "execution_count": null
    },
    {
      "cell_type": "code",
      "source": [
        "import transformers\n",
        "\n",
        "import numpy as np\n",
        "import pandas as pd\n",
        "\n",
        "import torch\n",
        "import torch.nn as nn\n",
        "import torch.nn.functional as F\n",
        "from torch.optim import AdamW\n",
        "from torch.nn import BCEWithLogitsLoss\n",
        "\n",
        "from torch.utils.data import DataLoader\n",
        "from datasets import Dataset\n",
        "from transformers import (\n",
        "    AutoTokenizer,\n",
        "    AutoModel,\n",
        "    DataCollatorWithPadding,\n",
        "    AutoConfig\n",
        ")\n",
        "\n",
        "import matplotlib.pyplot as plt\n",
        "import seaborn as sns\n",
        "from tqdm import tqdm\n",
        "\n",
        "from sklearn.preprocessing import MultiLabelBinarizer\n",
        "from sklearn.model_selection import train_test_split"
      ],
      "metadata": {
        "id": "58sMD9a0oqG_",
        "trusted": true,
        "execution": {
          "iopub.status.busy": "2025-03-07T18:15:21.438813Z",
          "iopub.execute_input": "2025-03-07T18:15:21.439107Z",
          "iopub.status.idle": "2025-03-07T18:15:38.939611Z",
          "shell.execute_reply.started": "2025-03-07T18:15:21.439070Z",
          "shell.execute_reply": "2025-03-07T18:15:38.938976Z"
        }
      },
      "outputs": [],
      "execution_count": null
    },
    {
      "cell_type": "markdown",
      "source": [
        "Для скорости будем использовать gpu"
      ],
      "metadata": {
        "id": "HqR-xOfT2e_9"
      }
    },
    {
      "cell_type": "code",
      "source": [
        "device_num = 0\n",
        "device = \"mps\" if torch.backends.mps.is_available() else f\"cuda:{device_num}\" if torch.cuda.is_available() else \"cpu\"\n",
        "device"
      ],
      "metadata": {
        "colab": {
          "base_uri": "https://localhost:8080/",
          "height": 35
        },
        "id": "nPRuL3V_p27E",
        "outputId": "43eb08f7-3994-475d-ea1a-06ba7a1f1721",
        "trusted": true,
        "execution": {
          "iopub.status.busy": "2025-03-07T18:15:38.941000Z",
          "iopub.execute_input": "2025-03-07T18:15:38.941502Z",
          "iopub.status.idle": "2025-03-07T18:15:39.022989Z",
          "shell.execute_reply.started": "2025-03-07T18:15:38.941479Z",
          "shell.execute_reply": "2025-03-07T18:15:39.022154Z"
        }
      },
      "outputs": [
        {
          "execution_count": 4,
          "output_type": "execute_result",
          "data": {
            "text/plain": "'cuda:0'"
          },
          "metadata": {}
        }
      ],
      "execution_count": null
    },
    {
      "cell_type": "markdown",
      "source": [
        "### Описание задачи\n",
        "Будем работать с данными с [соревнования](https://boosters.pro/championship/HeadHunter/overview) от HeadHunter. Нам предстоит предсказать причины которые закодированы числами от 1 до 8, по которым отзыв на работадателя не проходит модерацию. Причин, по которым отзыв не прошёл модерацию может быть несколько. Если отзыв проходит модерацию, то вместо причины отказа нужно предсказывать 0. Значение 0 разрешается комбинировать с причинами отказа.\n",
        "\n",
        "Таким образом, мы имеем дело с задачей *multi-label классификации*.\n",
        "Самый простой и популярный способ работать с multi-label задачей классификации &mdash; перейти к бинарной. Для каждого класса мы ставим метку 1, если он присутствует в таргете, а 0 &mdash; иначе. В процессе обучения мы будем минимизировать бинарную кросс-энтропию.\n",
        "\n",
        "В качестве целевой метрики будем использовать $F_1$-score с усреднением по сэмплам.\n",
        "\n",
        "$$\n",
        "F_1 = \\frac{1}{n}\\sum_{i=1}^n 2\\frac{precision_i recall_i}{precision_i + recall_i},\n",
        "$$\n",
        "где $n$ &mdash; размер выборки, а $precision_i, recall_i$ &mdash; precision/recall для i-го объекта."
      ],
      "metadata": {
        "id": "MQzbcSPAorPc"
      }
    },
    {
      "cell_type": "markdown",
      "source": [
        "### Работа с данными\n",
        "\n",
        "Загрузим обучающий датасет."
      ],
      "metadata": {
        "id": "JEVW5B5EuJbk"
      }
    },
    {
      "cell_type": "code",
      "source": [
        "data = pd.read_csv(\"/kaggle/input/data-nlp-3/HeadHunter_train.csv\")\n",
        "data.head(5)"
      ],
      "metadata": {
        "colab": {
          "base_uri": "https://localhost:8080/",
          "height": 397
        },
        "id": "oM1MNQUmo65E",
        "outputId": "61fafd00-8019-46e5-fd6b-825e706648b8",
        "trusted": true,
        "execution": {
          "iopub.status.busy": "2025-03-07T18:15:39.024563Z",
          "iopub.execute_input": "2025-03-07T18:15:39.024924Z",
          "iopub.status.idle": "2025-03-07T18:15:39.976395Z",
          "shell.execute_reply.started": "2025-03-07T18:15:39.024889Z",
          "shell.execute_reply": "2025-03-07T18:15:39.975236Z"
        }
      },
      "outputs": [
        {
          "execution_count": 5,
          "output_type": "execute_result",
          "data": {
            "text/plain": "   review_id             city              position  \\\n0          0           Ижевск             Кладовщик   \n1          1           Москва  Руководитель проекта   \n2          2     Екатеринбург           Консультант   \n3          5  Санкт-Петербург              Оператор   \n4          7           Москва         Инженер КИПиА   \n\n                                            positive  \\\n0  Недавно устроился в ****** на должность кладов...   \n1  Расположение офиса, своего рода стабильность (...   \n2  В нашем банке все по закону в плане зарплаты и...   \n3  Я в ****** около года работаю оператором. Норм...   \n4                     В принципе норм.Работать можно   \n\n                                            negative  salary_rating  \\\n0                                       Повысить з/п              5   \n1  Упростить процессы - все процессы ради процесс...              4   \n2                                             Ничего              5   \n3                                               Нет.              5   \n4                      Всегда есть к чему стремиться              4   \n\n   team_rating  managment_rating  career_rating  workplace_rating  \\\n0            4                 3              3                 4   \n1            4                 4              1                 1   \n2            5                 5              5                 5   \n3            5                 5              5                 5   \n4            5                 4              2                 5   \n\n   rest_recovery_rating target  \n0                     4      0  \n1                     1      8  \n2                     5      0  \n3                     5      0  \n4                     2      8  ",
            "text/html": "<div>\n<style scoped>\n    .dataframe tbody tr th:only-of-type {\n        vertical-align: middle;\n    }\n\n    .dataframe tbody tr th {\n        vertical-align: top;\n    }\n\n    .dataframe thead th {\n        text-align: right;\n    }\n</style>\n<table border=\"1\" class=\"dataframe\">\n  <thead>\n    <tr style=\"text-align: right;\">\n      <th></th>\n      <th>review_id</th>\n      <th>city</th>\n      <th>position</th>\n      <th>positive</th>\n      <th>negative</th>\n      <th>salary_rating</th>\n      <th>team_rating</th>\n      <th>managment_rating</th>\n      <th>career_rating</th>\n      <th>workplace_rating</th>\n      <th>rest_recovery_rating</th>\n      <th>target</th>\n    </tr>\n  </thead>\n  <tbody>\n    <tr>\n      <th>0</th>\n      <td>0</td>\n      <td>Ижевск</td>\n      <td>Кладовщик</td>\n      <td>Недавно устроился в ****** на должность кладов...</td>\n      <td>Повысить з/п</td>\n      <td>5</td>\n      <td>4</td>\n      <td>3</td>\n      <td>3</td>\n      <td>4</td>\n      <td>4</td>\n      <td>0</td>\n    </tr>\n    <tr>\n      <th>1</th>\n      <td>1</td>\n      <td>Москва</td>\n      <td>Руководитель проекта</td>\n      <td>Расположение офиса, своего рода стабильность (...</td>\n      <td>Упростить процессы - все процессы ради процесс...</td>\n      <td>4</td>\n      <td>4</td>\n      <td>4</td>\n      <td>1</td>\n      <td>1</td>\n      <td>1</td>\n      <td>8</td>\n    </tr>\n    <tr>\n      <th>2</th>\n      <td>2</td>\n      <td>Екатеринбург</td>\n      <td>Консультант</td>\n      <td>В нашем банке все по закону в плане зарплаты и...</td>\n      <td>Ничего</td>\n      <td>5</td>\n      <td>5</td>\n      <td>5</td>\n      <td>5</td>\n      <td>5</td>\n      <td>5</td>\n      <td>0</td>\n    </tr>\n    <tr>\n      <th>3</th>\n      <td>5</td>\n      <td>Санкт-Петербург</td>\n      <td>Оператор</td>\n      <td>Я в ****** около года работаю оператором. Норм...</td>\n      <td>Нет.</td>\n      <td>5</td>\n      <td>5</td>\n      <td>5</td>\n      <td>5</td>\n      <td>5</td>\n      <td>5</td>\n      <td>0</td>\n    </tr>\n    <tr>\n      <th>4</th>\n      <td>7</td>\n      <td>Москва</td>\n      <td>Инженер КИПиА</td>\n      <td>В принципе норм.Работать можно</td>\n      <td>Всегда есть к чему стремиться</td>\n      <td>4</td>\n      <td>5</td>\n      <td>4</td>\n      <td>2</td>\n      <td>5</td>\n      <td>2</td>\n      <td>8</td>\n    </tr>\n  </tbody>\n</table>\n</div>"
          },
          "metadata": {}
        }
      ],
      "execution_count": null
    },
    {
      "cell_type": "markdown",
      "source": [
        "Как можно увидеть, помимо положительного `positive` и отрицательного `negative` текста отзывов, мы также имеем некоторое количество категориальных признаков, с которыми мы пока не будем работать. Целевая переменная расположена в колонке `target` и представляет из себя строку, разделенную запятыми.\n",
        "\n",
        "Посмотрим, какие значения может принимать целевая переменная."
      ],
      "metadata": {
        "id": "Q5i0pu34rUn6"
      }
    },
    {
      "cell_type": "code",
      "source": [
        "data[\"target\"].unique()"
      ],
      "metadata": {
        "colab": {
          "base_uri": "https://localhost:8080/"
        },
        "id": "d8e4_qWHq_Wt",
        "outputId": "e03d00ab-1f31-4b0a-a6fa-b02bf3a01391",
        "trusted": true,
        "execution": {
          "iopub.status.busy": "2025-03-07T18:15:39.977443Z",
          "iopub.execute_input": "2025-03-07T18:15:39.977836Z",
          "iopub.status.idle": "2025-03-07T18:15:39.989783Z",
          "shell.execute_reply.started": "2025-03-07T18:15:39.977799Z",
          "shell.execute_reply": "2025-03-07T18:15:39.988723Z"
        }
      },
      "outputs": [
        {
          "execution_count": 6,
          "output_type": "execute_result",
          "data": {
            "text/plain": "array(['0', '8', '7', '1,8', '3,8', '6,8', '6', '3', '1', '1,6', '4,8',\n       '5', '5,8', '1,5', '7,8', '4', '5,6', '1,4', '1,6,8', '1,7',\n       '1,5,8', '1,3,8', '1,3', '1,4,6', '4,6', '1,3,5', '3,5,8', '1,5,6',\n       '1,4,8', '1,2,6', '5,7', '3,5', '5,6,8', '1,3,6', '3,7', '2',\n       '1,7,8', '3,6,8', '6,7', '4,6,8', '5,7,8', '3,6', '1,5,6,8',\n       '3,5,7'], dtype=object)"
          },
          "metadata": {}
        }
      ],
      "execution_count": null
    },
    {
      "cell_type": "markdown",
      "source": [
        "Посмотрим на примеры отзывов, которые не прошли модерацию."
      ],
      "metadata": {
        "id": "wB1-wQV0sTll"
      }
    },
    {
      "cell_type": "code",
      "source": [
        "data[data[\"target\"] == \"5,8\"][\"positive\"].values[13]"
      ],
      "metadata": {
        "colab": {
          "base_uri": "https://localhost:8080/",
          "height": 35
        },
        "id": "yTwSXv6nsTTQ",
        "outputId": "921e719f-ebd1-4a1b-85b0-4bd397bb5cf4",
        "trusted": true,
        "execution": {
          "iopub.status.busy": "2025-03-07T18:15:39.990639Z",
          "iopub.execute_input": "2025-03-07T18:15:39.990950Z",
          "iopub.status.idle": "2025-03-07T18:15:40.014523Z",
          "shell.execute_reply.started": "2025-03-07T18:15:39.990921Z",
          "shell.execute_reply": "2025-03-07T18:15:40.013882Z"
        }
      },
      "outputs": [
        {
          "execution_count": 7,
          "output_type": "execute_result",
          "data": {
            "text/plain": "'Известная компания.....................................................................................................'"
          },
          "metadata": {}
        }
      ],
      "execution_count": null
    },
    {
      "cell_type": "code",
      "source": [
        "data[data[\"target\"] == \"3,8\"][\"positive\"].values[29]"
      ],
      "metadata": {
        "colab": {
          "base_uri": "https://localhost:8080/",
          "height": 35
        },
        "id": "2c16ldlysFIG",
        "outputId": "bbfb09b0-b9f8-445e-bdad-af71bf1ca916",
        "trusted": true,
        "execution": {
          "iopub.status.busy": "2025-03-07T18:15:40.015310Z",
          "iopub.execute_input": "2025-03-07T18:15:40.015549Z",
          "iopub.status.idle": "2025-03-07T18:15:40.029549Z",
          "shell.execute_reply.started": "2025-03-07T18:15:40.015527Z",
          "shell.execute_reply": "2025-03-07T18:15:40.028894Z"
        }
      },
      "outputs": [
        {
          "execution_count": 8,
          "output_type": "execute_result",
          "data": {
            "text/plain": "'Хужбвб влвлв в вщвлу у улыды ыыд'"
          },
          "metadata": {}
        }
      ],
      "execution_count": null
    },
    {
      "cell_type": "code",
      "source": [
        "data = data[['positive', 'negative', 'target']]\n",
        "data"
      ],
      "metadata": {
        "id": "K3MSef84um4H",
        "colab": {
          "base_uri": "https://localhost:8080/",
          "height": 424
        },
        "outputId": "f5af10d8-a5da-471c-c706-faa6961a23e6",
        "trusted": true,
        "execution": {
          "iopub.status.busy": "2025-03-07T18:15:40.032106Z",
          "iopub.execute_input": "2025-03-07T18:15:40.032401Z",
          "iopub.status.idle": "2025-03-07T18:15:40.054283Z",
          "shell.execute_reply.started": "2025-03-07T18:15:40.032366Z",
          "shell.execute_reply": "2025-03-07T18:15:40.053668Z"
        }
      },
      "outputs": [
        {
          "execution_count": 9,
          "output_type": "execute_result",
          "data": {
            "text/plain": "                                                positive  \\\n0      Недавно устроился в ****** на должность кладов...   \n1      Расположение офиса, своего рода стабильность (...   \n2      В нашем банке все по закону в плане зарплаты и...   \n3      Я в ****** около года работаю оператором. Норм...   \n4                         В принципе норм.Работать можно   \n...                                                  ...   \n50871                    Ни чего ни чего ни чего ни чего   \n50872           Есть исключительно хорошие руководители.   \n50873                       Уютная  столовая .раздевалка   \n50874  Не соблюдают трудовой кодекс,  переработки 7 д...   \n50875  Я работаю в компании почти 2 года, платят всег...   \n\n                                                negative target  \n0                                           Повысить з/п      0  \n1      Упростить процессы - все процессы ради процесс...      8  \n2                                                 Ничего      0  \n3                                                   Нет.      0  \n4                          Всегда есть к чему стремиться      8  \n...                                                  ...    ...  \n50871    Всё всё Всё всё Всё всё Всё всё Всё всё Всё всё    3,8  \n50872              Удачи хорошем управляющим в компании.      8  \n50873                График работы. Обучение сотрудников      8  \n50874                    Рабская эксплуатация работников      1  \n50875  Для карьерного роста на многие вакансии нужен ...      0  \n\n[50876 rows x 3 columns]",
            "text/html": "<div>\n<style scoped>\n    .dataframe tbody tr th:only-of-type {\n        vertical-align: middle;\n    }\n\n    .dataframe tbody tr th {\n        vertical-align: top;\n    }\n\n    .dataframe thead th {\n        text-align: right;\n    }\n</style>\n<table border=\"1\" class=\"dataframe\">\n  <thead>\n    <tr style=\"text-align: right;\">\n      <th></th>\n      <th>positive</th>\n      <th>negative</th>\n      <th>target</th>\n    </tr>\n  </thead>\n  <tbody>\n    <tr>\n      <th>0</th>\n      <td>Недавно устроился в ****** на должность кладов...</td>\n      <td>Повысить з/п</td>\n      <td>0</td>\n    </tr>\n    <tr>\n      <th>1</th>\n      <td>Расположение офиса, своего рода стабильность (...</td>\n      <td>Упростить процессы - все процессы ради процесс...</td>\n      <td>8</td>\n    </tr>\n    <tr>\n      <th>2</th>\n      <td>В нашем банке все по закону в плане зарплаты и...</td>\n      <td>Ничего</td>\n      <td>0</td>\n    </tr>\n    <tr>\n      <th>3</th>\n      <td>Я в ****** около года работаю оператором. Норм...</td>\n      <td>Нет.</td>\n      <td>0</td>\n    </tr>\n    <tr>\n      <th>4</th>\n      <td>В принципе норм.Работать можно</td>\n      <td>Всегда есть к чему стремиться</td>\n      <td>8</td>\n    </tr>\n    <tr>\n      <th>...</th>\n      <td>...</td>\n      <td>...</td>\n      <td>...</td>\n    </tr>\n    <tr>\n      <th>50871</th>\n      <td>Ни чего ни чего ни чего ни чего</td>\n      <td>Всё всё Всё всё Всё всё Всё всё Всё всё Всё всё</td>\n      <td>3,8</td>\n    </tr>\n    <tr>\n      <th>50872</th>\n      <td>Есть исключительно хорошие руководители.</td>\n      <td>Удачи хорошем управляющим в компании.</td>\n      <td>8</td>\n    </tr>\n    <tr>\n      <th>50873</th>\n      <td>Уютная  столовая .раздевалка</td>\n      <td>График работы. Обучение сотрудников</td>\n      <td>8</td>\n    </tr>\n    <tr>\n      <th>50874</th>\n      <td>Не соблюдают трудовой кодекс,  переработки 7 д...</td>\n      <td>Рабская эксплуатация работников</td>\n      <td>1</td>\n    </tr>\n    <tr>\n      <th>50875</th>\n      <td>Я работаю в компании почти 2 года, платят всег...</td>\n      <td>Для карьерного роста на многие вакансии нужен ...</td>\n      <td>0</td>\n    </tr>\n  </tbody>\n</table>\n<p>50876 rows × 3 columns</p>\n</div>"
          },
          "metadata": {}
        }
      ],
      "execution_count": null
    },
    {
      "cell_type": "code",
      "source": [
        "data['target'] = data['target'].apply(lambda x: list(map(int, x.split(','))))\n",
        "\n",
        "mlb = MultiLabelBinarizer(classes=[0, 1, 2, 3, 4, 5, 6, 7, 8])\n",
        "\n",
        "binary_target = mlb.fit_transform(data['target'])\n",
        "\n",
        "for i, class_label in enumerate(mlb.classes_):\n",
        "    data[f'target_{class_label}'] = binary_target[:, i]"
      ],
      "metadata": {
        "id": "mr45ZfjrNBfK",
        "trusted": true,
        "execution": {
          "iopub.status.busy": "2025-03-07T18:15:40.055131Z",
          "iopub.execute_input": "2025-03-07T18:15:40.055310Z",
          "iopub.status.idle": "2025-03-07T18:15:40.390064Z",
          "shell.execute_reply.started": "2025-03-07T18:15:40.055293Z",
          "shell.execute_reply": "2025-03-07T18:15:40.389397Z"
        }
      },
      "outputs": [],
      "execution_count": null
    },
    {
      "cell_type": "markdown",
      "source": [
        "Разделите выборку на обучающую и валидационную."
      ],
      "metadata": {
        "id": "R7cR8Oxuw6L6"
      }
    },
    {
      "cell_type": "code",
      "source": [
        "train_data, val_data, train_labels, val_labels = train_test_split(\n",
        "    data[['positive', 'negative']],\n",
        "    data.iloc[:, 3:],\n",
        "    test_size=0.25,\n",
        "    random_state=42\n",
        ")"
      ],
      "metadata": {
        "id": "uxfAw1hXNkTX",
        "trusted": true,
        "execution": {
          "iopub.status.busy": "2025-03-07T18:15:40.436245Z",
          "iopub.execute_input": "2025-03-07T18:15:40.436454Z",
          "iopub.status.idle": "2025-03-07T18:15:40.470594Z",
          "shell.execute_reply.started": "2025-03-07T18:15:40.436424Z",
          "shell.execute_reply": "2025-03-07T18:15:40.469828Z"
        }
      },
      "outputs": [],
      "execution_count": null
    },
    {
      "cell_type": "code",
      "source": [
        "train_data.shape, train_labels.shape, val_data.shape, val_labels.shape,"
      ],
      "metadata": {
        "colab": {
          "base_uri": "https://localhost:8080/"
        },
        "id": "4TDlBy7kQafb",
        "outputId": "9310ff96-3efa-4bfd-d30e-495db90e120d",
        "trusted": true,
        "execution": {
          "iopub.status.busy": "2025-03-07T18:15:40.471406Z",
          "iopub.execute_input": "2025-03-07T18:15:40.471629Z",
          "iopub.status.idle": "2025-03-07T18:15:40.476608Z",
          "shell.execute_reply.started": "2025-03-07T18:15:40.471609Z",
          "shell.execute_reply": "2025-03-07T18:15:40.475854Z"
        }
      },
      "outputs": [
        {
          "execution_count": 15,
          "output_type": "execute_result",
          "data": {
            "text/plain": "((38157, 2), (38157, 9), (12719, 2), (12719, 9))"
          },
          "metadata": {}
        }
      ],
      "execution_count": null
    },
    {
      "cell_type": "markdown",
      "source": [
        "### Токенизация и реализация метрики качества\n",
        "\n",
        "Теперь реализуем вышеупомянутую метрику, а именно $F_1$-score с усреднением по сэмплам."
      ],
      "metadata": {
        "id": "nHNi4Uc9xInh"
      }
    },
    {
      "cell_type": "markdown",
      "source": [
        "Когда $precision = recall = 0$ будем считать F1-score равным 0, чтобы не произошло деление на 0"
      ],
      "metadata": {
        "id": "3OVAT5EQRKqo"
      }
    },
    {
      "cell_type": "code",
      "source": [
        "def calculate_f1_score(preds, targets):\n",
        "    \"\"\"\n",
        "    Функция подсчета F1-score с усреднением по сэмплам.\n",
        "\n",
        "    :param preds: np.array размерности (n, 9), содержит в себе предсказания\n",
        "                  в виде бинарной метки 0/1 для каждого класса\n",
        "    :param preds: np.array размерности (n, 9), истинные бинарные таргеты\n",
        "    \"\"\"\n",
        "    f1_scores = []\n",
        "\n",
        "    for i in range(preds.shape[0]):\n",
        "        pred = preds[i]\n",
        "        target = targets[i]\n",
        "\n",
        "        TP = np.sum(pred * target)\n",
        "        FP = np.sum(pred * (1 - target))\n",
        "        FN = np.sum((1 - pred) * target)\n",
        "\n",
        "        precision = TP / (TP + FP) if (TP + FP) > 0 else 0\n",
        "        recall = TP / (TP + FN) if (TP + FN) > 0 else 0\n",
        "\n",
        "        if precision + recall > 0:\n",
        "            f1 = 2 * (precision * recall) / (precision + recall)\n",
        "        else:\n",
        "            f1 = 0\n",
        "        f1_scores.append(f1)\n",
        "\n",
        "    return np.mean(f1_scores)"
      ],
      "metadata": {
        "id": "9EdPBGB6RUOt",
        "trusted": true,
        "execution": {
          "iopub.status.busy": "2025-03-07T18:15:40.477444Z",
          "iopub.execute_input": "2025-03-07T18:15:40.477724Z",
          "iopub.status.idle": "2025-03-07T18:15:40.487136Z",
          "shell.execute_reply.started": "2025-03-07T18:15:40.477691Z",
          "shell.execute_reply": "2025-03-07T18:15:40.486320Z"
        }
      },
      "outputs": [],
      "execution_count": null
    },
    {
      "cell_type": "code",
      "source": [
        "model_name = \"cointegrated/rubert-tiny\"\n",
        "tokenizer = AutoTokenizer.from_pretrained(model_name)\n",
        "model = AutoModel.from_pretrained(model_name)"
      ],
      "metadata": {
        "id": "QJ5WdwwASfC4",
        "trusted": true,
        "execution": {
          "iopub.status.busy": "2025-03-07T18:15:40.488010Z",
          "iopub.execute_input": "2025-03-07T18:15:40.488269Z",
          "iopub.status.idle": "2025-03-07T18:15:48.009637Z",
          "shell.execute_reply.started": "2025-03-07T18:15:40.488240Z",
          "shell.execute_reply": "2025-03-07T18:15:48.008790Z"
        },
        "colab": {
          "referenced_widgets": [
            "acaff8a278694530a652d12bf37b0be4",
            "8773c7f0f8b04fb68214b323912ad942",
            "1077e7a8fd2b4e84a786c09237b508c7",
            "f92238693f0a46c1b96d71a588c2110e",
            "d6087997da2e42a6856752dae317687b",
            "392b30fe1e744fa385fc901ccb42f617"
          ]
        },
        "outputId": "8455a2b9-944e-4264-94ef-1a217dd14927"
      },
      "outputs": [
        {
          "output_type": "display_data",
          "data": {
            "text/plain": "tokenizer_config.json:   0%|          | 0.00/341 [00:00<?, ?B/s]",
            "application/vnd.jupyter.widget-view+json": {
              "version_major": 2,
              "version_minor": 0,
              "model_id": "acaff8a278694530a652d12bf37b0be4"
            }
          },
          "metadata": {}
        },
        {
          "output_type": "display_data",
          "data": {
            "text/plain": "config.json:   0%|          | 0.00/632 [00:00<?, ?B/s]",
            "application/vnd.jupyter.widget-view+json": {
              "version_major": 2,
              "version_minor": 0,
              "model_id": "8773c7f0f8b04fb68214b323912ad942"
            }
          },
          "metadata": {}
        },
        {
          "output_type": "display_data",
          "data": {
            "text/plain": "vocab.txt:   0%|          | 0.00/241k [00:00<?, ?B/s]",
            "application/vnd.jupyter.widget-view+json": {
              "version_major": 2,
              "version_minor": 0,
              "model_id": "1077e7a8fd2b4e84a786c09237b508c7"
            }
          },
          "metadata": {}
        },
        {
          "output_type": "display_data",
          "data": {
            "text/plain": "tokenizer.json:   0%|          | 0.00/468k [00:00<?, ?B/s]",
            "application/vnd.jupyter.widget-view+json": {
              "version_major": 2,
              "version_minor": 0,
              "model_id": "f92238693f0a46c1b96d71a588c2110e"
            }
          },
          "metadata": {}
        },
        {
          "output_type": "display_data",
          "data": {
            "text/plain": "special_tokens_map.json:   0%|          | 0.00/112 [00:00<?, ?B/s]",
            "application/vnd.jupyter.widget-view+json": {
              "version_major": 2,
              "version_minor": 0,
              "model_id": "d6087997da2e42a6856752dae317687b"
            }
          },
          "metadata": {}
        },
        {
          "output_type": "display_data",
          "data": {
            "text/plain": "model.safetensors:   0%|          | 0.00/47.7M [00:00<?, ?B/s]",
            "application/vnd.jupyter.widget-view+json": {
              "version_major": 2,
              "version_minor": 0,
              "model_id": "392b30fe1e744fa385fc901ccb42f617"
            }
          },
          "metadata": {}
        }
      ],
      "execution_count": null
    },
    {
      "cell_type": "code",
      "source": [
        "model_name = \"cointegrated/rubert-tiny\"\n",
        "tokenizer = AutoTokenizer.from_pretrained(model_name)\n",
        "model = AutoModel.from_pretrained(model_name)\n",
        "\n",
        "# соединим две части отзыва\n",
        "# токен CLS и второй SEP добавит токенизатор\n",
        "train_concatenated = [\n",
        "    str(elem[\"positive\"]) + \" \" + tokenizer.sep_token + \" \" + str(elem[\"negative\"])\n",
        "    for _, elem in train_data.iterrows()\n",
        "]\n",
        "\n",
        "val_concatenated = [\n",
        "    str(elem[\"positive\"]) + \" \" + tokenizer.sep_token + \" \" + str(elem[\"negative\"])\n",
        "    for _, elem in val_data.iterrows()\n",
        "]"
      ],
      "metadata": {
        "id": "y8rR58Rp-V98",
        "trusted": true,
        "execution": {
          "iopub.status.busy": "2025-03-07T18:15:48.010514Z",
          "iopub.execute_input": "2025-03-07T18:15:48.011211Z",
          "iopub.status.idle": "2025-03-07T18:15:50.911532Z",
          "shell.execute_reply.started": "2025-03-07T18:15:48.011176Z",
          "shell.execute_reply": "2025-03-07T18:15:50.910871Z"
        }
      },
      "outputs": [],
      "execution_count": null
    },
    {
      "cell_type": "markdown",
      "source": [
        "Создадим датасет, используя `datasets.Dataset` и метод `.from_dict(...)`."
      ],
      "metadata": {
        "id": "l7gPhFRqHgU_"
      }
    },
    {
      "cell_type": "code",
      "source": [
        "train_dataset = Dataset.from_dict({\n",
        "    \"text\": train_concatenated,         # тексты\n",
        "    \"labels\": train_labels.values       # метки\n",
        "})\n",
        "\n",
        "val_dataset = Dataset.from_dict({\n",
        "    \"text\": val_concatenated,         # тексты\n",
        "    \"labels\": val_labels.values       # метки\n",
        "})"
      ],
      "metadata": {
        "id": "Muk8GofZB3t4",
        "trusted": true,
        "execution": {
          "iopub.status.busy": "2025-03-07T18:15:50.921368Z",
          "iopub.execute_input": "2025-03-07T18:15:50.921739Z",
          "iopub.status.idle": "2025-03-07T18:15:51.324899Z",
          "shell.execute_reply.started": "2025-03-07T18:15:50.921711Z",
          "shell.execute_reply": "2025-03-07T18:15:51.324204Z"
        }
      },
      "outputs": [],
      "execution_count": null
    },
    {
      "cell_type": "code",
      "source": [
        "print(train_dataset[0])\n",
        "print(val_dataset[0])"
      ],
      "metadata": {
        "colab": {
          "base_uri": "https://localhost:8080/"
        },
        "id": "FrxamlaLURdh",
        "outputId": "39900b65-5e6c-4a6a-bba4-1a1a3418e509",
        "trusted": true,
        "execution": {
          "iopub.status.busy": "2025-03-07T18:15:51.325700Z",
          "iopub.execute_input": "2025-03-07T18:15:51.325906Z",
          "iopub.status.idle": "2025-03-07T18:15:51.335686Z",
          "shell.execute_reply.started": "2025-03-07T18:15:51.325888Z",
          "shell.execute_reply": "2025-03-07T18:15:51.334890Z"
        }
      },
      "outputs": [
        {
          "name": "stdout",
          "text": "{'text': 'Для такой большой компании у ****** очень трепетное отношение к сотрудникам. И в бытовом плане хорошая организация работы – я имею в виду, что есть помещения для отдыха, есть бесплатный спортзал. И отпуска по расписанию дают, в выходные и праздники мы тоже отдыхаем. [SEP] Редкие переработки, но это лично от человека зависит', 'labels': [1, 0, 0, 0, 0, 0, 0, 0, 0]}\n{'text': 'Ничего хорошего там нет! [SEP] Для начала, наймите грамотного рекрутера, который будет адекватно оценивать соискателей на открытые вакансии !', 'labels': [0, 0, 0, 0, 0, 0, 0, 1, 0]}\n",
          "output_type": "stream"
        }
      ],
      "execution_count": null
    },
    {
      "cell_type": "markdown",
      "source": [
        "Наш датасет содержит тексты и метки к ним. Для дальнешей работы тексты нужно токенизировать, для этого воспользуемся методом `map` у датасета."
      ],
      "metadata": {
        "id": "iq_1Pe0WHs35"
      }
    },
    {
      "cell_type": "markdown",
      "source": [
        "Для ограничения максимальной длины посмотрим на гистаграмму распределения длин текстов и на возможности модели rubert-tiny:"
      ],
      "metadata": {
        "id": "UEld1F0iXL3r"
      }
    },
    {
      "cell_type": "code",
      "source": [
        "lens = [len(x[\"text\"]) for x in train_dataset]\n",
        "plt.figure(figsize=(15,5))\n",
        "\n",
        "sns.displot(lens);\n",
        "plt.xlim([0, 5500])\n",
        "plt.xlabel(\"Длина предложения\")\n",
        "plt.ylabel(\"Количество предложений\")\n",
        "plt.title(\"Распределение длин предложений\")\n",
        "\n",
        "plt.show();"
      ],
      "metadata": {
        "colab": {
          "base_uri": "https://localhost:8080/",
          "height": 565
        },
        "id": "_KSlRs2XUvxt",
        "outputId": "2aac41ad-16a7-4612-b225-a91f7165f7e3",
        "trusted": true,
        "execution": {
          "iopub.status.busy": "2025-03-07T18:15:53.685887Z",
          "iopub.execute_input": "2025-03-07T18:15:53.686172Z",
          "iopub.status.idle": "2025-03-07T18:15:55.603211Z",
          "shell.execute_reply.started": "2025-03-07T18:15:53.686147Z",
          "shell.execute_reply": "2025-03-07T18:15:55.602231Z"
        }
      },
      "outputs": [
        {
          "name": "stderr",
          "text": "/usr/local/lib/python3.10/dist-packages/seaborn/_oldcore.py:1119: FutureWarning: use_inf_as_na option is deprecated and will be removed in a future version. Convert inf values to NaN before operating instead.\n  with pd.option_context('mode.use_inf_as_na', True):\n",
          "output_type": "stream"
        },
        {
          "output_type": "display_data",
          "data": {
            "text/plain": "<Figure size 1500x500 with 0 Axes>"
          },
          "metadata": {}
        },
        {
          "output_type": "display_data",
          "data": {
            "text/plain": "<Figure size 500x500 with 1 Axes>",
            "image/png": "[encoded data removed]"
          },
          "metadata": {}
        }
      ],
      "execution_count": null
    },
    {
      "cell_type": "markdown",
      "source": [
        "Длина контекста в модели rubert-tiny составляет 2048 токенов, поэтому будет нормально ограничить длину как 512 (чтобы слишком длинные тексты не попадали) - так как мы не решаем задачу улучшения метрик и подойдет такой baseline"
      ],
      "metadata": {
        "id": "b-Sl_825XLCh"
      }
    },
    {
      "cell_type": "code",
      "source": [
        "lens = [len(x[\"text\"]) for x in train_dataset]\n",
        "\n",
        "for i, elem in enumerate(lens):\n",
        "  if elem > 512:\n",
        "    lens[i] = 512\n",
        "\n",
        "plt.figure(figsize=(15,5))\n",
        "\n",
        "sns.displot(lens);\n",
        "plt.xlim([0, 550])\n",
        "plt.xlabel(\"Длина предложения\")\n",
        "plt.ylabel(\"Количество предложений\")\n",
        "plt.title(\"Распределение длин предложений\")\n",
        "\n",
        "plt.show();"
      ],
      "metadata": {
        "colab": {
          "base_uri": "https://localhost:8080/",
          "height": 565
        },
        "id": "suluA6egWvjY",
        "outputId": "2a71ec27-9811-4c7f-8d01-19db362bab3d",
        "trusted": true,
        "execution": {
          "iopub.status.busy": "2025-03-07T18:16:30.195702Z",
          "iopub.execute_input": "2025-03-07T18:16:30.196003Z",
          "iopub.status.idle": "2025-03-07T18:16:35.993316Z",
          "shell.execute_reply.started": "2025-03-07T18:16:30.195979Z",
          "shell.execute_reply": "2025-03-07T18:16:35.992533Z"
        }
      },
      "outputs": [
        {
          "name": "stderr",
          "text": "/usr/local/lib/python3.10/dist-packages/seaborn/_oldcore.py:1119: FutureWarning: use_inf_as_na option is deprecated and will be removed in a future version. Convert inf values to NaN before operating instead.\n  with pd.option_context('mode.use_inf_as_na', True):\n",
          "output_type": "stream"
        },
        {
          "output_type": "display_data",
          "data": {
            "text/plain": "<Figure size 1500x500 with 0 Axes>"
          },
          "metadata": {}
        },
        {
          "output_type": "display_data",
          "data": {
            "text/plain": "<Figure size 500x500 with 1 Axes>",
            "image/png": "[encoded data removed]"
          },
          "metadata": {}
        }
      ],
      "execution_count": null
    },
    {
      "cell_type": "code",
      "source": [
        "max_lengths = 512\n",
        "\n",
        "train_dataset = train_dataset.map(# применяем функцию к каждому элементу датасета\n",
        "    lambda elem: tokenizer(\n",
        "        elem[\"text\"],             #  токенизируем поле text\n",
        "        add_special_tokens=True,  #  автоматически добавляем CLS, SEP токены\n",
        "        truncation=True,          #  обрезаем ли последовательность\n",
        "        max_length=max_lengths,          #  ограничение на длину, надо выставить разумно? :)\n",
        "        # padding = 'max_length', - не применяем (из условия следующей ячейки (падить будем дальше))\n",
        "        return_tensors = None\n",
        "    ),\n",
        "    batched=True,\n",
        ")\n",
        "\n",
        "val_dataset = val_dataset.map(# применяем функцию к каждому элементу датасета\n",
        "    lambda elem: tokenizer(\n",
        "        elem[\"text\"],             #  токенизируем поле text\n",
        "        add_special_tokens=True,  #  автоматически добавляем CLS, SEP токены\n",
        "        truncation=True,          #  обрезаем ли последовательность\n",
        "        max_length=max_lengths,          #  ограничение на длину, надо выставить разумно? :)\n",
        "        # padding = 'max_length', - не применяем (из условия следующей ячейки (падить будем дальше))\n",
        "        return_tensors = None\n",
        "    ),\n",
        "    batched=True,\n",
        ")"
      ],
      "metadata": {
        "id": "VTUJ1JerIMUM",
        "colab": {
          "base_uri": "https://localhost:8080/",
          "height": 81,
          "referenced_widgets": [
            "9392e0a0cd7b4959857423ea9ce6cc6a",
            "03bdce91799c4571909868728479983c",
            "f3572b5e5be2490b96537156d6b812d6",
            "f377c0ccd09c46c498b50d85e6e3f744",
            "af03bbb292cf44d08eecc7fd21064d27",
            "fe6aea8c7153474ab45c8c00c4b2b042",
            "d23719ca4fcb4d57adb955cc6100b96c",
            "1e895830c16041a4b9a145e1e85a0e53",
            "bb8f7a76bda947fb99ef4ff50b54ca16",
            "79eae7e19e0a424689a57d76e3f1a4b3",
            "aa9a81a526074d4ebf308eb0aec88382",
            "70b13d67517b43c191ae679763ea6190",
            "bccb273db9124c0b8db0cff57e15a67d",
            "bec0e45f4cc34a25bfb6f242c3e8c483",
            "e85a4c72934340b783c75fbaace3bae6",
            "d8d666215b6542908c71ca36f31401ee",
            "72cade1d6f9045608b11542ed6692766",
            "1bac743c0ef14d68a0b93bb3a8a6dcae",
            "8bd34c93d651408db22d95f67db8b158",
            "d50fa6d70f144382a5e101d402c9ad2d",
            "b844f777db2b46729d6da60f6869952b",
            "b2abab54a1fe4d0cbb48cfec5a40795c",
            "a06a3c681e3d4e2d9a77e991c7305b28",
            "12c8e47fc5754137913d3ece54221e70"
          ]
        },
        "outputId": "bb9497ea-4420-4cc3-cf6a-934f04695934",
        "trusted": true,
        "execution": {
          "iopub.status.busy": "2025-03-07T18:16:39.087371Z",
          "iopub.execute_input": "2025-03-07T18:16:39.087689Z",
          "iopub.status.idle": "2025-03-07T18:16:45.660213Z",
          "shell.execute_reply.started": "2025-03-07T18:16:39.087633Z",
          "shell.execute_reply": "2025-03-07T18:16:45.659226Z"
        }
      },
      "outputs": [
        {
          "output_type": "display_data",
          "data": {
            "text/plain": "Map:   0%|          | 0/38157 [00:00<?, ? examples/s]",
            "application/vnd.jupyter.widget-view+json": {
              "version_major": 2,
              "version_minor": 0,
              "model_id": "a06a3c681e3d4e2d9a77e991c7305b28"
            }
          },
          "metadata": {}
        },
        {
          "output_type": "display_data",
          "data": {
            "text/plain": "Map:   0%|          | 0/12719 [00:00<?, ? examples/s]",
            "application/vnd.jupyter.widget-view+json": {
              "version_major": 2,
              "version_minor": 0,
              "model_id": "12c8e47fc5754137913d3ece54221e70"
            }
          },
          "metadata": {}
        }
      ],
      "execution_count": null
    },
    {
      "cell_type": "markdown",
      "source": [
        "Посмотрим на элемент нашего датасета."
      ],
      "metadata": {
        "id": "1pNLM2OWI5qz"
      }
    },
    {
      "cell_type": "code",
      "source": [
        "print(train_dataset[7])"
      ],
      "metadata": {
        "colab": {
          "base_uri": "https://localhost:8080/"
        },
        "id": "VW_wrWzDanRV",
        "outputId": "8d1c700b-3ff4-45c0-87e9-d3f17b8ccca9",
        "trusted": true,
        "execution": {
          "iopub.status.busy": "2025-03-07T18:16:45.661324Z",
          "iopub.execute_input": "2025-03-07T18:16:45.661614Z",
          "iopub.status.idle": "2025-03-07T18:16:45.666111Z",
          "shell.execute_reply.started": "2025-03-07T18:16:45.661590Z",
          "shell.execute_reply": "2025-03-07T18:16:45.665308Z"
        }
      },
      "outputs": [
        {
          "name": "stdout",
          "text": "{'text': 'Начальство Грубое, Много на себя берет.... [SEP] Относится по человечески к людям. Внедрять новых людей в Директора и товароведы....', 'labels': [0, 1, 0, 0, 0, 0, 0, 0, 1], 'input_ids': [2, 1041, 12006, 1090, 1967, 283, 3098, 9422, 626, 16, 25806, 548, 4788, 22473, 751, 18, 18, 18, 18, 3, 5386, 22973, 14209, 705, 8092, 3933, 7527, 322, 27000, 18, 282, 987, 16302, 5808, 10218, 4544, 314, 284, 24730, 15896, 603, 320, 3946, 3801, 10138, 700, 18, 18, 18, 18, 3], 'token_type_ids': [0, 0, 0, 0, 0, 0, 0, 0, 0, 0, 0, 0, 0, 0, 0, 0, 0, 0, 0, 0, 0, 0, 0, 0, 0, 0, 0, 0, 0, 0, 0, 0, 0, 0, 0, 0, 0, 0, 0, 0, 0, 0, 0, 0, 0, 0, 0, 0, 0, 0, 0], 'attention_mask': [1, 1, 1, 1, 1, 1, 1, 1, 1, 1, 1, 1, 1, 1, 1, 1, 1, 1, 1, 1, 1, 1, 1, 1, 1, 1, 1, 1, 1, 1, 1, 1, 1, 1, 1, 1, 1, 1, 1, 1, 1, 1, 1, 1, 1, 1, 1, 1, 1, 1, 1]}\n",
          "output_type": "stream"
        }
      ],
      "execution_count": null
    },
    {
      "cell_type": "markdown",
      "source": [
        "Как видим, помимо `input_ids`, которые отправятся на вход модели, у нас так же имеется `attention_mask`, а также в зависимости от модели могут быть `token_type_ids` &mdash; некоторые модели используют для задачи **NSP**.\n",
        "\n",
        "Вообще говоря, уже на этапе токенизации мы могли бы дополнить паддингом до максимальной длины наши последовательности, это можно сделать при вызове токенизатора, используя параметр `padding`. Однако у это подхода есть недостатки, поэтому эффективнее будет выполнить паддинг в даталоадере, на этапе формирования батча, тем самым дополнив все последовательности по длине до максимальной длины в батче.\n",
        "\n",
        "Подробнее о токенизаторах в `transformers` можно почитать по [ссылке](https://huggingface.co/docs/transformers/v4.26.1/en/main_classes/tokenizer).\n",
        "\n",
        "Посмотрим, как расположены спец токены:"
      ],
      "metadata": {
        "id": "Jc2XvbzMJBlj"
      }
    },
    {
      "cell_type": "code",
      "source": [
        "tokenizer.decode(train_dataset[6][\"input_ids\"])"
      ],
      "metadata": {
        "id": "Elw_heKTKc5u",
        "colab": {
          "base_uri": "https://localhost:8080/",
          "height": 35
        },
        "outputId": "1c707955-d56a-4f45-a808-33618f8c68eb",
        "trusted": true,
        "execution": {
          "iopub.status.busy": "2025-03-07T18:16:45.667623Z",
          "iopub.execute_input": "2025-03-07T18:16:45.667894Z",
          "iopub.status.idle": "2025-03-07T18:16:45.679370Z",
          "shell.execute_reply.started": "2025-03-07T18:16:45.667863Z",
          "shell.execute_reply": "2025-03-07T18:16:45.678725Z"
        }
      },
      "outputs": [
        {
          "execution_count": 28,
          "output_type": "execute_result",
          "data": {
            "text/plain": "'[CLS] Компания полностью соответствующая моей специализации. Давала возможность развиваться. В то время, когда я работала [SEP] Брать сотрудников с большим опытом ( и возрастом ).... [SEP]'"
          },
          "metadata": {}
        }
      ],
      "execution_count": null
    },
    {
      "cell_type": "markdown",
      "source": [
        "Избавимся от теперь ненужного поля `text`."
      ],
      "metadata": {
        "id": "cm9OlXYeWbK1"
      }
    },
    {
      "cell_type": "code",
      "source": [
        "train_dataset = train_dataset.remove_columns(\"text\")\n",
        "val_dataset = val_dataset.remove_columns(\"text\")"
      ],
      "metadata": {
        "id": "o-29FrviWgq2",
        "trusted": true,
        "execution": {
          "iopub.status.busy": "2025-03-07T18:16:48.288783Z",
          "iopub.execute_input": "2025-03-07T18:16:48.289072Z",
          "iopub.status.idle": "2025-03-07T18:16:48.296421Z",
          "shell.execute_reply.started": "2025-03-07T18:16:48.289049Z",
          "shell.execute_reply": "2025-03-07T18:16:48.295540Z"
        }
      },
      "outputs": [],
      "execution_count": null
    },
    {
      "cell_type": "markdown",
      "source": [
        "### Модель\n",
        "\n",
        "Реализуем класс модели. В качестве классификатора будем использовать линейный слой, в который можно подать, например, эмбеддинг CLS-токена с последнего слоя, который можно получить следующим образом:\n",
        "\n",
        "\n",
        "\n",
        "```\n",
        "output = bert(input)\n",
        "cls_token = output.last_hidden_state[:, 0, :]\n",
        "logits = classifier(cls_token)\n",
        "```\n",
        "\n"
      ],
      "metadata": {
        "id": "UKEvgozuKniu"
      }
    },
    {
      "cell_type": "markdown",
      "source": [
        "Важно не взять предобученную модель, чтобы увидеть разницу в следующем задании MLM лучше - так и сделаем:"
      ],
      "metadata": {
        "id": "YK5UVT5u2fAT"
      }
    },
    {
      "cell_type": "code",
      "source": [
        "class Model(nn.Module):\n",
        "    def __init__(self, model_name=\"cointegrated/rubert-tiny\", num_labels=9):\n",
        "        super().__init__()\n",
        "\n",
        "        config = AutoConfig.from_pretrained(model_name)\n",
        "        self.bert = AutoModel.from_config(config)\n",
        "\n",
        "        self.classifier = nn.Linear(self.bert.config.hidden_size, num_labels)\n",
        "\n",
        "    def forward(self, batch):\n",
        "        input_ids = batch[\"input_ids\"]\n",
        "        attention_mask = batch[\"attention_mask\"]\n",
        "        outputs = self.bert(input_ids=input_ids, attention_mask=attention_mask)\n",
        "        cls_token = outputs.last_hidden_state[:, 0, :]\n",
        "        logits = self.classifier(cls_token)\n",
        "        return logits"
      ],
      "metadata": {
        "id": "VRlbqkTCFuDy",
        "trusted": true,
        "execution": {
          "iopub.status.busy": "2025-03-07T18:16:51.240229Z",
          "iopub.execute_input": "2025-03-07T18:16:51.240543Z",
          "iopub.status.idle": "2025-03-07T18:16:51.246171Z",
          "shell.execute_reply.started": "2025-03-07T18:16:51.240513Z",
          "shell.execute_reply": "2025-03-07T18:16:51.245202Z"
        }
      },
      "outputs": [],
      "execution_count": null
    },
    {
      "cell_type": "code",
      "source": [
        "batch_size = 8\n",
        "dummy_input = {\n",
        "    \"input_ids\" : torch.randint(0, 20000, (batch_size, 256)),\n",
        "    \"attention_mask\" : torch.randint(0, 1, (batch_size, 256))}\n",
        "model = Model()\n",
        "\n",
        "# model(dummy_input), (batch_size, 9)\n",
        "assert model(dummy_input).shape == (batch_size, 9)"
      ],
      "metadata": {
        "id": "6zgy-el-YkSq",
        "trusted": true,
        "execution": {
          "iopub.status.busy": "2025-03-07T18:16:54.780811Z",
          "iopub.execute_input": "2025-03-07T18:16:54.781129Z",
          "iopub.status.idle": "2025-03-07T18:16:55.493495Z",
          "shell.execute_reply.started": "2025-03-07T18:16:54.781101Z",
          "shell.execute_reply": "2025-03-07T18:16:55.492520Z"
        }
      },
      "outputs": [],
      "execution_count": null
    },
    {
      "cell_type": "markdown",
      "source": [
        "### Пайплайн обучения\n",
        "\n",
        "1. Реализуем пайплайн обучения и обучим модель.\n",
        "2. Cначала обучим только последний линейный слой, заморозив веса языковой модели, а затем всю модель целиком.\n"
      ],
      "metadata": {
        "id": "eoHjHJBHLu2i"
      }
    },
    {
      "cell_type": "code",
      "source": [
        "BATCH_SIZE = 64\n",
        "\n",
        "data_collator = DataCollatorWithPadding(tokenizer)\n",
        "\n",
        "train_loader = DataLoader(train_dataset,\n",
        "                          batch_size=BATCH_SIZE,\n",
        "                          shuffle=True,\n",
        "                          collate_fn=data_collator)\n",
        "\n",
        "val_loader = DataLoader(val_dataset,\n",
        "                        batch_size = BATCH_SIZE,\n",
        "                        shuffle=False,\n",
        "                        collate_fn=data_collator)"
      ],
      "metadata": {
        "id": "QOk5eIE7VYvr",
        "trusted": true,
        "execution": {
          "iopub.status.busy": "2025-03-07T18:17:17.559149Z",
          "iopub.execute_input": "2025-03-07T18:17:17.559491Z",
          "iopub.status.idle": "2025-03-07T18:17:17.564356Z",
          "shell.execute_reply.started": "2025-03-07T18:17:17.559461Z",
          "shell.execute_reply": "2025-03-07T18:17:17.563257Z"
        }
      },
      "outputs": [],
      "execution_count": null
    },
    {
      "cell_type": "markdown",
      "source": [
        "Посмотрим на батч данных."
      ],
      "metadata": {
        "id": "N7ZjzD2_W3AQ"
      }
    },
    {
      "cell_type": "code",
      "source": [
        "next(iter(train_loader))"
      ],
      "metadata": {
        "colab": {
          "base_uri": "https://localhost:8080/"
        },
        "id": "djIhC9DLWEml",
        "outputId": "966bbcef-e1e2-4494-81d5-98a9a490d2e9",
        "trusted": true,
        "execution": {
          "iopub.status.busy": "2025-03-07T18:17:18.991767Z",
          "iopub.execute_input": "2025-03-07T18:17:18.992045Z",
          "iopub.status.idle": "2025-03-07T18:17:19.033047Z",
          "shell.execute_reply.started": "2025-03-07T18:17:18.992023Z",
          "shell.execute_reply": "2025-03-07T18:17:19.032392Z"
        }
      },
      "outputs": [
        {
          "execution_count": 34,
          "output_type": "execute_result",
          "data": {
            "text/plain": "{'labels': tensor([[1, 0, 0, 0, 0, 0, 0, 0, 0],\n        [0, 0, 0, 0, 0, 0, 0, 0, 1],\n        [1, 0, 0, 0, 0, 0, 0, 0, 0],\n        [0, 0, 0, 0, 0, 0, 0, 0, 1],\n        [0, 0, 0, 0, 0, 1, 0, 0, 1],\n        [0, 0, 0, 0, 0, 0, 0, 0, 1],\n        [0, 1, 0, 0, 0, 0, 1, 0, 1],\n        [1, 0, 0, 0, 0, 0, 0, 0, 0],\n        [0, 0, 0, 0, 0, 0, 0, 0, 1],\n        [0, 0, 0, 1, 0, 0, 0, 0, 1],\n        [1, 0, 0, 0, 0, 0, 0, 0, 0],\n        [1, 0, 0, 0, 0, 0, 0, 0, 0],\n        [1, 0, 0, 0, 0, 0, 0, 0, 0],\n        [0, 0, 0, 0, 0, 0, 0, 0, 1],\n        [0, 0, 0, 0, 0, 0, 0, 0, 1],\n        [1, 0, 0, 0, 0, 0, 0, 0, 0],\n        [1, 0, 0, 0, 0, 0, 0, 0, 0],\n        [0, 1, 0, 0, 0, 0, 0, 0, 1],\n        [0, 0, 0, 0, 0, 0, 0, 0, 1],\n        [1, 0, 0, 0, 0, 0, 0, 0, 0],\n        [0, 0, 0, 0, 0, 0, 0, 0, 1],\n        [1, 0, 0, 0, 0, 0, 0, 0, 0],\n        [0, 0, 0, 0, 0, 0, 0, 0, 1],\n        [0, 0, 0, 0, 0, 0, 0, 0, 1],\n        [0, 0, 0, 1, 0, 0, 0, 0, 0],\n        [1, 0, 0, 0, 0, 0, 0, 0, 0],\n        [0, 0, 0, 0, 0, 0, 0, 0, 1],\n        [0, 0, 0, 0, 0, 0, 1, 0, 1],\n        [1, 0, 0, 0, 0, 0, 0, 0, 0],\n        [0, 0, 0, 0, 0, 0, 0, 0, 1],\n        [0, 1, 0, 0, 0, 0, 0, 0, 0],\n        [1, 0, 0, 0, 0, 0, 0, 0, 0],\n        [0, 1, 0, 0, 0, 0, 0, 0, 1],\n        [0, 0, 0, 0, 0, 0, 0, 0, 1],\n        [1, 0, 0, 0, 0, 0, 0, 0, 0],\n        [0, 0, 0, 0, 0, 0, 0, 0, 1],\n        [1, 0, 0, 0, 0, 0, 0, 0, 0],\n        [0, 0, 0, 0, 0, 0, 0, 0, 1],\n        [1, 0, 0, 0, 0, 0, 0, 0, 0],\n        [1, 0, 0, 0, 0, 0, 0, 0, 0],\n        [1, 0, 0, 0, 0, 0, 0, 0, 0],\n        [0, 0, 0, 0, 0, 0, 0, 0, 1],\n        [1, 0, 0, 0, 0, 0, 0, 0, 0],\n        [1, 0, 0, 0, 0, 0, 0, 0, 0],\n        [0, 0, 0, 1, 0, 0, 0, 0, 0],\n        [1, 0, 0, 0, 0, 0, 0, 0, 0],\n        [1, 0, 0, 0, 0, 0, 0, 0, 0],\n        [0, 0, 0, 0, 0, 0, 0, 0, 1],\n        [0, 0, 0, 0, 0, 0, 0, 0, 1],\n        [0, 1, 0, 0, 0, 0, 0, 0, 1],\n        [0, 0, 0, 0, 0, 0, 0, 0, 1],\n        [1, 0, 0, 0, 0, 0, 0, 0, 0],\n        [0, 0, 0, 0, 0, 0, 0, 0, 1],\n        [0, 0, 0, 0, 0, 0, 0, 0, 1],\n        [1, 0, 0, 0, 0, 0, 0, 0, 0],\n        [1, 0, 0, 0, 0, 0, 0, 0, 0],\n        [0, 0, 0, 0, 0, 0, 0, 0, 1],\n        [1, 0, 0, 0, 0, 0, 0, 0, 0],\n        [0, 0, 0, 0, 0, 0, 0, 0, 1],\n        [1, 0, 0, 0, 0, 0, 0, 0, 0],\n        [0, 0, 0, 0, 0, 0, 0, 0, 1],\n        [0, 0, 0, 1, 0, 0, 0, 0, 0],\n        [0, 0, 0, 0, 0, 0, 0, 0, 1],\n        [1, 0, 0, 0, 0, 0, 0, 0, 0]]), 'input_ids': tensor([[    2,   299,  3801,  ...,     0,     0,     0],\n        [    2,   301, 26923,  ...,     0,     0,     0],\n        [    2,   290,   761,  ...,     0,     0,     0],\n        ...,\n        [    2,    18,    18,  ...,     0,     0,     0],\n        [    2,   281,  1044,  ...,     0,     0,     0],\n        [    2,  3130, 24436,  ...,     0,     0,     0]]), 'token_type_ids': tensor([[0, 0, 0,  ..., 0, 0, 0],\n        [0, 0, 0,  ..., 0, 0, 0],\n        [0, 0, 0,  ..., 0, 0, 0],\n        ...,\n        [0, 0, 0,  ..., 0, 0, 0],\n        [0, 0, 0,  ..., 0, 0, 0],\n        [0, 0, 0,  ..., 0, 0, 0]]), 'attention_mask': tensor([[1, 1, 1,  ..., 0, 0, 0],\n        [1, 1, 1,  ..., 0, 0, 0],\n        [1, 1, 1,  ..., 0, 0, 0],\n        ...,\n        [1, 1, 1,  ..., 0, 0, 0],\n        [1, 1, 1,  ..., 0, 0, 0],\n        [1, 1, 1,  ..., 0, 0, 0]])}"
          },
          "metadata": {}
        }
      ],
      "execution_count": null
    },
    {
      "cell_type": "markdown",
      "source": [
        "**Обучение модели:**"
      ],
      "metadata": {
        "id": "yvTEUfCoprAh"
      }
    },
    {
      "cell_type": "code",
      "source": [
        "model = Model(model_name=\"cointegrated/rubert-tiny\", num_labels=9)\n",
        "model.to(device)"
      ],
      "metadata": {
        "colab": {
          "base_uri": "https://localhost:8080/"
        },
        "id": "js7Qckv3ptBV",
        "outputId": "3cbd0f34-cf39-4eab-a57e-7ee35b38fc42",
        "trusted": true,
        "execution": {
          "iopub.status.busy": "2025-03-07T18:17:24.252875Z",
          "iopub.execute_input": "2025-03-07T18:17:24.253173Z",
          "iopub.status.idle": "2025-03-07T18:17:24.826364Z",
          "shell.execute_reply.started": "2025-03-07T18:17:24.253149Z",
          "shell.execute_reply": "2025-03-07T18:17:24.825456Z"
        }
      },
      "outputs": [
        {
          "execution_count": 35,
          "output_type": "execute_result",
          "data": {
            "text/plain": "Model(\n  (bert): BertModel(\n    (embeddings): BertEmbeddings(\n      (word_embeddings): Embedding(29564, 312, padding_idx=0)\n      (position_embeddings): Embedding(512, 312)\n      (token_type_embeddings): Embedding(2, 312)\n      (LayerNorm): LayerNorm((312,), eps=1e-12, elementwise_affine=True)\n      (dropout): Dropout(p=0.1, inplace=False)\n    )\n    (encoder): BertEncoder(\n      (layer): ModuleList(\n        (0-2): 3 x BertLayer(\n          (attention): BertAttention(\n            (self): BertSdpaSelfAttention(\n              (query): Linear(in_features=312, out_features=312, bias=True)\n              (key): Linear(in_features=312, out_features=312, bias=True)\n              (value): Linear(in_features=312, out_features=312, bias=True)\n              (dropout): Dropout(p=0.1, inplace=False)\n            )\n            (output): BertSelfOutput(\n              (dense): Linear(in_features=312, out_features=312, bias=True)\n              (LayerNorm): LayerNorm((312,), eps=1e-12, elementwise_affine=True)\n              (dropout): Dropout(p=0.1, inplace=False)\n            )\n          )\n          (intermediate): BertIntermediate(\n            (dense): Linear(in_features=312, out_features=600, bias=True)\n            (intermediate_act_fn): GELUActivation()\n          )\n          (output): BertOutput(\n            (dense): Linear(in_features=600, out_features=312, bias=True)\n            (LayerNorm): LayerNorm((312,), eps=1e-12, elementwise_affine=True)\n            (dropout): Dropout(p=0.1, inplace=False)\n          )\n        )\n      )\n    )\n    (pooler): BertPooler(\n      (dense): Linear(in_features=312, out_features=312, bias=True)\n      (activation): Tanh()\n    )\n  )\n  (classifier): Linear(in_features=312, out_features=9, bias=True)\n)"
          },
          "metadata": {}
        }
      ],
      "execution_count": null
    },
    {
      "cell_type": "code",
      "source": [
        "optimizer = AdamW(model.parameters(), lr=2e-5)\n",
        "criterion = BCEWithLogitsLoss()"
      ],
      "metadata": {
        "id": "GLVLbnz9ptD_",
        "trusted": true,
        "execution": {
          "iopub.status.busy": "2025-03-07T18:17:27.325151Z",
          "iopub.execute_input": "2025-03-07T18:17:27.325474Z",
          "iopub.status.idle": "2025-03-07T18:17:27.329891Z",
          "shell.execute_reply.started": "2025-03-07T18:17:27.325446Z",
          "shell.execute_reply": "2025-03-07T18:17:27.328996Z"
        }
      },
      "outputs": [],
      "execution_count": null
    },
    {
      "cell_type": "code",
      "source": [
        "model = Model(model_name=\"cointegrated/rubert-tiny\", num_labels=9)\n",
        "model.to(device)\n",
        "\n",
        "optimizer = AdamW(model.parameters(), lr=2e-5)\n",
        "criterion = BCEWithLogitsLoss()\n",
        "\n",
        "NUM_EPOCH = 5\n",
        "for epoch in range(NUM_EPOCH):\n",
        "    model.train()\n",
        "    for batch in tqdm(train_loader):\n",
        "        batch = {k: v.to(device) for k, v in batch.items()}\n",
        "        logits = model(batch)\n",
        "        loss = criterion(logits, batch[\"labels\"].float())\n",
        "\n",
        "        optimizer.zero_grad()\n",
        "        loss.backward()\n",
        "        optimizer.step()\n",
        "\n",
        "    print(f\"Epoch {epoch + 1}, Loss: {loss.item()}\")"
      ],
      "metadata": {
        "id": "tatVUWP1OFbs",
        "colab": {
          "base_uri": "https://localhost:8080/",
          "height": 1000
        },
        "outputId": "92014752-2777-421a-93f1-c892fb6864ab",
        "trusted": true,
        "execution": {
          "iopub.status.busy": "2025-03-07T18:17:31.038419Z",
          "iopub.execute_input": "2025-03-07T18:17:31.038734Z",
          "iopub.status.idle": "2025-03-07T18:30:51.626011Z",
          "shell.execute_reply.started": "2025-03-07T18:17:31.038697Z",
          "shell.execute_reply": "2025-03-07T18:30:51.625215Z"
        }
      },
      "outputs": [
        {
          "name": "stderr",
          "text": "100%|██████████| 597/597 [02:34<00:00,  3.86it/s]\n",
          "output_type": "stream"
        },
        {
          "name": "stdout",
          "text": "Epoch 1, Loss: 0.2046225219964981\n",
          "output_type": "stream"
        },
        {
          "name": "stderr",
          "text": "100%|██████████| 597/597 [02:39<00:00,  3.73it/s]\n",
          "output_type": "stream"
        },
        {
          "name": "stdout",
          "text": "Epoch 2, Loss: 0.06669429689645767\n",
          "output_type": "stream"
        },
        {
          "name": "stderr",
          "text": "100%|██████████| 597/597 [02:40<00:00,  3.71it/s]\n",
          "output_type": "stream"
        },
        {
          "name": "stdout",
          "text": "Epoch 3, Loss: 0.22609888017177582\n",
          "output_type": "stream"
        },
        {
          "name": "stderr",
          "text": "100%|██████████| 597/597 [02:41<00:00,  3.69it/s]\n",
          "output_type": "stream"
        },
        {
          "name": "stdout",
          "text": "Epoch 4, Loss: 0.04858991131186485\n",
          "output_type": "stream"
        },
        {
          "name": "stderr",
          "text": "100%|██████████| 597/597 [02:42<00:00,  3.67it/s]",
          "output_type": "stream"
        },
        {
          "name": "stdout",
          "text": "Epoch 5, Loss: 0.03412898629903793\n",
          "output_type": "stream"
        },
        {
          "name": "stderr",
          "text": "\n",
          "output_type": "stream"
        }
      ],
      "execution_count": null
    },
    {
      "cell_type": "markdown",
      "source": [
        "Провалидируем модель:"
      ],
      "metadata": {
        "id": "6827rCtIq1U4"
      }
    },
    {
      "cell_type": "code",
      "source": [
        "def validate_model(model, val_loader, device):\n",
        "    model.eval()\n",
        "    val_preds = []\n",
        "    val_targets = []\n",
        "\n",
        "    with torch.no_grad():\n",
        "        for batch in tqdm(val_loader):\n",
        "            batch = {k: v.to(device) for k, v in batch.items()}\n",
        "            logits = model(batch)\n",
        "\n",
        "            preds = torch.sigmoid(logits) > 0.5\n",
        "\n",
        "            val_preds.extend(preds.cpu().numpy())\n",
        "            val_targets.extend(batch[\"labels\"].cpu().numpy())\n",
        "\n",
        "    f1 = calculate_f1_score(np.array(val_preds), np.array(val_targets))\n",
        "    return f1"
      ],
      "metadata": {
        "id": "ji9lOQmsqGpb",
        "trusted": true,
        "execution": {
          "iopub.status.busy": "2025-03-07T18:30:51.627120Z",
          "iopub.execute_input": "2025-03-07T18:30:51.627426Z",
          "iopub.status.idle": "2025-03-07T18:30:51.632338Z",
          "shell.execute_reply.started": "2025-03-07T18:30:51.627392Z",
          "shell.execute_reply": "2025-03-07T18:30:51.631501Z"
        }
      },
      "outputs": [],
      "execution_count": null
    },
    {
      "cell_type": "code",
      "source": [
        "val_f1 = validate_model(model, val_loader, device)\n",
        "val_f1"
      ],
      "metadata": {
        "id": "ECB_WzkVq-vA",
        "trusted": true,
        "execution": {
          "iopub.status.busy": "2025-03-07T18:30:51.633578Z",
          "iopub.execute_input": "2025-03-07T18:30:51.633802Z",
          "iopub.status.idle": "2025-03-07T18:31:09.139810Z",
          "shell.execute_reply.started": "2025-03-07T18:30:51.633782Z",
          "shell.execute_reply": "2025-03-07T18:31:09.139148Z"
        },
        "outputId": "dc1568f1-9e97-4936-829a-19e143e61264"
      },
      "outputs": [
        {
          "name": "stderr",
          "text": "100%|██████████| 199/199 [00:17<00:00, 11.52it/s]\n",
          "output_type": "stream"
        },
        {
          "execution_count": 39,
          "output_type": "execute_result",
          "data": {
            "text/plain": "0.7837094111172263"
          },
          "metadata": {}
        }
      ],
      "execution_count": null
    },
    {
      "cell_type": "markdown",
      "source": [
        "Получился довольно хороший результат, однако так как от трешхолда может много что зависеть - подберем его с помощью gridsearch (так как только по 1 размерности):"
      ],
      "metadata": {
        "id": "8ycIIm9C2fAb"
      }
    },
    {
      "cell_type": "code",
      "source": [
        "def find_optimal_threshold(model, val_loader, device):\n",
        "    model.eval()\n",
        "    val_preds = []\n",
        "    val_targets = []\n",
        "\n",
        "    with torch.no_grad():\n",
        "        for batch in tqdm(val_loader):\n",
        "\n",
        "            batch = {k: v.to(device) for k, v in batch.items()}\n",
        "            logits = model(batch)\n",
        "\n",
        "            preds = torch.sigmoid(logits)\n",
        "\n",
        "            val_preds.extend(preds.cpu().numpy())\n",
        "            val_targets.extend(batch[\"labels\"].cpu().numpy())\n",
        "\n",
        "    val_preds = np.array(val_preds)\n",
        "    val_targets = np.array(val_targets)\n",
        "\n",
        "    # Перебираем пороги и выбираем лучший\n",
        "    best_threshold = 0.5\n",
        "    best_f1 = 0\n",
        "\n",
        "    for threshold in np.arange(0.1, 1.0, 0.05):\n",
        "        preds = val_preds > threshold\n",
        "        f1 = calculate_f1_score(val_targets, preds)\n",
        "        if f1 > best_f1:\n",
        "            best_f1 = f1\n",
        "            best_threshold = threshold\n",
        "\n",
        "    return best_threshold, best_f1\n",
        "\n",
        "optimal_threshold, optimal_f1 = find_optimal_threshold(model, val_loader, device)\n",
        "print(f\"Optimal threshold: {optimal_threshold}, F1-score: {optimal_f1}\")"
      ],
      "metadata": {
        "id": "XnC81PgIrRyg",
        "trusted": true,
        "execution": {
          "iopub.status.busy": "2025-03-07T18:31:09.140753Z",
          "iopub.execute_input": "2025-03-07T18:31:09.140965Z",
          "iopub.status.idle": "2025-03-07T18:31:30.192237Z",
          "shell.execute_reply.started": "2025-03-07T18:31:09.140946Z",
          "shell.execute_reply": "2025-03-07T18:31:30.191193Z"
        },
        "outputId": "16905c58-1f18-492d-f4ea-94a703801cd8"
      },
      "outputs": [
        {
          "name": "stderr",
          "text": "100%|██████████| 199/199 [00:17<00:00, 11.46it/s]\n",
          "output_type": "stream"
        },
        {
          "name": "stdout",
          "text": "Optimal threshold: 0.30000000000000004, F1-score: 0.8074927274156773\n",
          "output_type": "stream"
        }
      ],
      "execution_count": null
    },
    {
      "cell_type": "markdown",
      "source": [
        "Действительно, понижение трешхолда с 0.5 до 0.3 увеличило f1-score довольно неплохо"
      ],
      "metadata": {
        "id": "1yYd5hDK2fAc"
      }
    },
    {
      "cell_type": "markdown",
      "source": [
        "### MLM pretraining\n",
        "\n",
        "Попробуем улучшить качество, предварительно обучив выбранную модель на задачу **MLM** на обучающем датасете. Будет достаточно 1-2 эпох. Воспользуйтесь [примерами](https://github.com/huggingface/transformers/tree/main/examples/pytorch/language-modeling) из репозитория. Правильно организовав файл с обучающими данными, остается лишь воспользоваться готовым скриптом."
      ],
      "metadata": {
        "id": "Beu0cYXfOGCe"
      }
    },
    {
      "cell_type": "markdown",
      "source": [
        "Организуем обучающие данные немного по другому:"
      ],
      "metadata": {
        "id": "BhMuG2A_2fAd"
      }
    },
    {
      "cell_type": "code",
      "source": [
        "with open(\"/kaggle/working/mlm_data.txt\", \"w\", encoding=\"utf-8\") as f:\n",
        "    for _, row in train_dataset.iterrows():\n",
        "        text = str(row[\"positive\"]) + \" \" + str(row[\"negative\"])\n",
        "        f.write(text + \"\\n\")"
      ],
      "metadata": {
        "trusted": true,
        "execution": {
          "iopub.status.busy": "2025-03-07T18:31:41.403123Z",
          "iopub.execute_input": "2025-03-07T18:31:41.403404Z",
          "iopub.status.idle": "2025-03-07T18:31:44.246176Z",
          "shell.execute_reply.started": "2025-03-07T18:31:41.403380Z",
          "shell.execute_reply": "2025-03-07T18:31:44.245465Z"
        },
        "id": "jkrLGj0g2fAd"
      },
      "outputs": [],
      "execution_count": null
    },
    {
      "cell_type": "markdown",
      "source": [
        "Воспользуемся готовой функцией из репозитория huggingface для MLM:"
      ],
      "metadata": {
        "id": "AVFKIY9l2fAe"
      }
    },
    {
      "cell_type": "code",
      "source": [
        "!git clone https://github.com/huggingface/transformers\n",
        "%cd transformers\n",
        "!pip install -e ."
      ],
      "metadata": {
        "trusted": true,
        "execution": {
          "iopub.status.busy": "2025-03-07T18:31:44.247193Z",
          "iopub.execute_input": "2025-03-07T18:31:44.247403Z",
          "iopub.status.idle": "2025-03-07T18:32:23.101503Z",
          "shell.execute_reply.started": "2025-03-07T18:31:44.247382Z",
          "shell.execute_reply": "2025-03-07T18:32:23.100611Z"
        },
        "id": "vWUwS3Xk2fAo",
        "outputId": "6bfc979e-97d8-42c6-dd5d-6c08c47405d3"
      },
      "outputs": [
        {
          "name": "stdout",
          "text": "Cloning into 'transformers'...\nremote: Enumerating objects: 260744, done.\u001b[K\nremote: Counting objects: 100% (294/294), done.\u001b[K\nremote: Compressing objects: 100% (143/143), done.\u001b[K\nremote: Total 260744 (delta 221), reused 155 (delta 148), pack-reused 260450 (from 3)\u001b[K\nReceiving objects: 100% (260744/260744), 270.78 MiB | 23.13 MiB/s, done.\nResolving deltas: 100% (192584/192584), done.\n/kaggle/working/transformers\nObtaining file:///kaggle/working/transformers\n  Installing build dependencies ... \u001b[?25l\u001b[?25hdone\n  Checking if build backend supports build_editable ... \u001b[?25l\u001b[?25hdone\n  Getting requirements to build editable ... \u001b[?25l\u001b[?25hdone\n  Preparing editable metadata (pyproject.toml) ... \u001b[?25l\u001b[?25hdone\nRequirement already satisfied: filelock in /usr/local/lib/python3.10/dist-packages (from transformers==4.50.0.dev0) (3.17.0)\nRequirement already satisfied: huggingface-hub<1.0,>=0.26.0 in /usr/local/lib/python3.10/dist-packages (from transformers==4.50.0.dev0) (0.29.0)\nRequirement already satisfied: numpy>=1.17 in /usr/local/lib/python3.10/dist-packages (from transformers==4.50.0.dev0) (1.26.4)\nRequirement already satisfied: packaging>=20.0 in /usr/local/lib/python3.10/dist-packages (from transformers==4.50.0.dev0) (24.2)\nRequirement already satisfied: pyyaml>=5.1 in /usr/local/lib/python3.10/dist-packages (from transformers==4.50.0.dev0) (6.0.2)\nRequirement already satisfied: regex!=2019.12.17 in /usr/local/lib/python3.10/dist-packages (from transformers==4.50.0.dev0) (2024.11.6)\nRequirement already satisfied: requests in /usr/local/lib/python3.10/dist-packages (from transformers==4.50.0.dev0) (2.32.3)\nRequirement already satisfied: tokenizers<0.22,>=0.21 in /usr/local/lib/python3.10/dist-packages (from transformers==4.50.0.dev0) (0.21.0)\nRequirement already satisfied: safetensors>=0.4.1 in /usr/local/lib/python3.10/dist-packages (from transformers==4.50.0.dev0) (0.4.5)\nRequirement already satisfied: tqdm>=4.27 in /usr/local/lib/python3.10/dist-packages (from transformers==4.50.0.dev0) (4.67.1)\nRequirement already satisfied: fsspec>=2023.5.0 in /usr/local/lib/python3.10/dist-packages (from huggingface-hub<1.0,>=0.26.0->transformers==4.50.0.dev0) (2024.12.0)\nRequirement already satisfied: typing-extensions>=3.7.4.3 in /usr/local/lib/python3.10/dist-packages (from huggingface-hub<1.0,>=0.26.0->transformers==4.50.0.dev0) (4.12.2)\nRequirement already satisfied: mkl_fft in /usr/local/lib/python3.10/dist-packages (from numpy>=1.17->transformers==4.50.0.dev0) (1.3.8)\nRequirement already satisfied: mkl_random in /usr/local/lib/python3.10/dist-packages (from numpy>=1.17->transformers==4.50.0.dev0) (1.2.4)\nRequirement already satisfied: mkl_umath in /usr/local/lib/python3.10/dist-packages (from numpy>=1.17->transformers==4.50.0.dev0) (0.1.1)\nRequirement already satisfied: mkl in /usr/local/lib/python3.10/dist-packages (from numpy>=1.17->transformers==4.50.0.dev0) (2025.0.1)\nRequirement already satisfied: tbb4py in /usr/local/lib/python3.10/dist-packages (from numpy>=1.17->transformers==4.50.0.dev0) (2022.0.0)\nRequirement already satisfied: mkl-service in /usr/local/lib/python3.10/dist-packages (from numpy>=1.17->transformers==4.50.0.dev0) (2.4.1)\nRequirement already satisfied: charset-normalizer<4,>=2 in /usr/local/lib/python3.10/dist-packages (from requests->transformers==4.50.0.dev0) (3.4.1)\nRequirement already satisfied: idna<4,>=2.5 in /usr/local/lib/python3.10/dist-packages (from requests->transformers==4.50.0.dev0) (3.10)\nRequirement already satisfied: urllib3<3,>=1.21.1 in /usr/local/lib/python3.10/dist-packages (from requests->transformers==4.50.0.dev0) (2.3.0)\nRequirement already satisfied: certifi>=2017.4.17 in /usr/local/lib/python3.10/dist-packages (from requests->transformers==4.50.0.dev0) (2025.1.31)\nRequirement already satisfied: intel-openmp>=2024 in /usr/local/lib/python3.10/dist-packages (from mkl->numpy>=1.17->transformers==4.50.0.dev0) (2024.2.0)\nRequirement already satisfied: tbb==2022.* in /usr/local/lib/python3.10/dist-packages (from mkl->numpy>=1.17->transformers==4.50.0.dev0) (2022.0.0)\nRequirement already satisfied: tcmlib==1.* in /usr/local/lib/python3.10/dist-packages (from tbb==2022.*->mkl->numpy>=1.17->transformers==4.50.0.dev0) (1.2.0)\nRequirement already satisfied: intel-cmplr-lib-rt in /usr/local/lib/python3.10/dist-packages (from mkl_umath->numpy>=1.17->transformers==4.50.0.dev0) (2024.2.0)\nRequirement already satisfied: intel-cmplr-lib-ur==2024.2.0 in /usr/local/lib/python3.10/dist-packages (from intel-openmp>=2024->mkl->numpy>=1.17->transformers==4.50.0.dev0) (2024.2.0)\nBuilding wheels for collected packages: transformers\n  Building editable for transformers (pyproject.toml) ... \u001b[?25l\u001b[?25hdone\n  Created wheel for transformers: filename=transformers-4.50.0.dev0-0.editable-py3-none-any.whl size=17532 sha256=0767d9f0f1ac360a9c0669fe13953fc509cde5e2c16dbf29c68e089ffa346ba7\n  Stored in directory: /tmp/pip-ephem-wheel-cache-11qieqdt/wheels/7e/b2/24/0b3be37b3b423a6f2fd25fd6368a1f4b0888942789c7e68bc6\nSuccessfully built transformers\nInstalling collected packages: transformers\n  Attempting uninstall: transformers\n    Found existing installation: transformers 4.47.0\n    Uninstalling transformers-4.47.0:\n      Successfully uninstalled transformers-4.47.0\nSuccessfully installed transformers-4.50.0.dev0\n",
          "output_type": "stream"
        }
      ],
      "execution_count": null
    },
    {
      "cell_type": "code",
      "source": [
        "!python examples/pytorch/language-modeling/run_mlm.py \\\n",
        "    --model_name_or_path cointegrated/rubert-tiny \\\n",
        "    --train_file /kaggle/working/mlm_data.txt \\\n",
        "    --output_dir /kaggle/working/mlm_checkpoint \\\n",
        "    --do_train \\\n",
        "    --num_train_epochs 2 \\\n",
        "    --per_device_train_batch_size 16 \\\n",
        "    --save_steps 500 \\\n",
        "    --save_total_limit 2 \\\n",
        "    --overwrite_output_dir \\\n",
        "    --line_by_line \\\n",
        "    --max_seq_length 512 \\\n",
        "    --report_to none"
      ],
      "metadata": {
        "trusted": true,
        "execution": {
          "iopub.status.busy": "2025-03-07T18:32:26.912735Z",
          "iopub.execute_input": "2025-03-07T18:32:26.913065Z",
          "iopub.status.idle": "2025-03-07T18:45:31.190481Z",
          "shell.execute_reply.started": "2025-03-07T18:32:26.913039Z",
          "shell.execute_reply": "2025-03-07T18:45:31.189593Z"
        },
        "id": "IgjcqxHb2fAp",
        "outputId": "fddcff19-aaf9-4b50-f743-4ccf7a5eb873"
      },
      "outputs": [
        {
          "name": "stdout",
          "text": "2025-03-07 18:32:30.735736: E external/local_xla/xla/stream_executor/cuda/cuda_fft.cc:485] Unable to register cuFFT factory: Attempting to register factory for plugin cuFFT when one has already been registered\n2025-03-07 18:32:30.757418: E external/local_xla/xla/stream_executor/cuda/cuda_dnn.cc:8454] Unable to register cuDNN factory: Attempting to register factory for plugin cuDNN when one has already been registered\n2025-03-07 18:32:30.764010: E external/local_xla/xla/stream_executor/cuda/cuda_blas.cc:1452] Unable to register cuBLAS factory: Attempting to register factory for plugin cuBLAS when one has already been registered\nUsing custom data configuration default-78e7c0d6f6f19af1\nLoading Dataset Infos from /usr/local/lib/python3.10/dist-packages/datasets/packaged_modules/text\nGenerating dataset text (/root/.cache/huggingface/datasets/text/default-78e7c0d6f6f19af1/0.0.0/37eaf37ac90527a7fd768c94b312ee84f8815c9b7ac00acf81c1c364e8392f99)\nDownloading and preparing dataset text/default to /root/.cache/huggingface/datasets/text/default-78e7c0d6f6f19af1/0.0.0/37eaf37ac90527a7fd768c94b312ee84f8815c9b7ac00acf81c1c364e8392f99...\nDownloading took 0.0 min\nChecksum Computation took 0.0 min\nGenerating train split\nGenerating train split: 50876 examples [00:00, 142885.16 examples/s]\nUnable to verify splits sizes.\nDataset text downloaded and prepared to /root/.cache/huggingface/datasets/text/default-78e7c0d6f6f19af1/0.0.0/37eaf37ac90527a7fd768c94b312ee84f8815c9b7ac00acf81c1c364e8392f99. Subsequent calls will reuse this data.\nUsing custom data configuration default-78e7c0d6f6f19af1\nLoading Dataset Infos from /usr/local/lib/python3.10/dist-packages/datasets/packaged_modules/text\nOverwrite dataset info from restored data version if exists.\nLoading Dataset info from /root/.cache/huggingface/datasets/text/default-78e7c0d6f6f19af1/0.0.0/37eaf37ac90527a7fd768c94b312ee84f8815c9b7ac00acf81c1c364e8392f99\nFound cached dataset text (/root/.cache/huggingface/datasets/text/default-78e7c0d6f6f19af1/0.0.0/37eaf37ac90527a7fd768c94b312ee84f8815c9b7ac00acf81c1c364e8392f99)\nLoading Dataset info from /root/.cache/huggingface/datasets/text/default-78e7c0d6f6f19af1/0.0.0/37eaf37ac90527a7fd768c94b312ee84f8815c9b7ac00acf81c1c364e8392f99\nUsing custom data configuration default-78e7c0d6f6f19af1\nLoading Dataset Infos from /usr/local/lib/python3.10/dist-packages/datasets/packaged_modules/text\nOverwrite dataset info from restored data version if exists.\nLoading Dataset info from /root/.cache/huggingface/datasets/text/default-78e7c0d6f6f19af1/0.0.0/37eaf37ac90527a7fd768c94b312ee84f8815c9b7ac00acf81c1c364e8392f99\nFound cached dataset text (/root/.cache/huggingface/datasets/text/default-78e7c0d6f6f19af1/0.0.0/37eaf37ac90527a7fd768c94b312ee84f8815c9b7ac00acf81c1c364e8392f99)\nLoading Dataset info from /root/.cache/huggingface/datasets/text/default-78e7c0d6f6f19af1/0.0.0/37eaf37ac90527a7fd768c94b312ee84f8815c9b7ac00acf81c1c364e8392f99\n[INFO|configuration_utils.py:699] 2025-03-07 18:32:38,011 >> loading configuration file config.json from cache at /root/.cache/huggingface/hub/models--cointegrated--rubert-tiny/snapshots/5441c5ea8026d4f6d7505ec004845409f1259fb1/config.json\n[INFO|configuration_utils.py:771] 2025-03-07 18:32:38,012 >> Model config BertConfig {\n  \"_name_or_path\": \"cointegrated/rubert-tiny\",\n  \"architectures\": [\n    \"BertForPreTraining\"\n  ],\n  \"attention_probs_dropout_prob\": 0.1,\n  \"classifier_dropout\": null,\n  \"emb_size\": 312,\n  \"gradient_checkpointing\": false,\n  \"hidden_act\": \"gelu\",\n  \"hidden_dropout_prob\": 0.1,\n  \"hidden_size\": 312,\n  \"initializer_range\": 0.02,\n  \"intermediate_size\": 600,\n  \"layer_norm_eps\": 1e-12,\n  \"max_position_embeddings\": 512,\n  \"model_type\": \"bert\",\n  \"num_attention_heads\": 12,\n  \"num_hidden_layers\": 3,\n  \"pad_token_id\": 0,\n  \"position_embedding_type\": \"absolute\",\n  \"transformers_version\": \"4.50.0.dev0\",\n  \"type_vocab_size\": 2,\n  \"use_cache\": true,\n  \"vocab_size\": 29564\n}\n\n[INFO|configuration_utils.py:699] 2025-03-07 18:32:38,202 >> loading configuration file config.json from cache at /root/.cache/huggingface/hub/models--cointegrated--rubert-tiny/snapshots/5441c5ea8026d4f6d7505ec004845409f1259fb1/config.json\n[INFO|configuration_utils.py:771] 2025-03-07 18:32:38,203 >> Model config BertConfig {\n  \"_name_or_path\": \"cointegrated/rubert-tiny\",\n  \"architectures\": [\n    \"BertForPreTraining\"\n  ],\n  \"attention_probs_dropout_prob\": 0.1,\n  \"classifier_dropout\": null,\n  \"emb_size\": 312,\n  \"gradient_checkpointing\": false,\n  \"hidden_act\": \"gelu\",\n  \"hidden_dropout_prob\": 0.1,\n  \"hidden_size\": 312,\n  \"initializer_range\": 0.02,\n  \"intermediate_size\": 600,\n  \"layer_norm_eps\": 1e-12,\n  \"max_position_embeddings\": 512,\n  \"model_type\": \"bert\",\n  \"num_attention_heads\": 12,\n  \"num_hidden_layers\": 3,\n  \"pad_token_id\": 0,\n  \"position_embedding_type\": \"absolute\",\n  \"transformers_version\": \"4.50.0.dev0\",\n  \"type_vocab_size\": 2,\n  \"use_cache\": true,\n  \"vocab_size\": 29564\n}\n\n[INFO|tokenization_utils_base.py:2060] 2025-03-07 18:32:38,203 >> loading file vocab.txt from cache at /root/.cache/huggingface/hub/models--cointegrated--rubert-tiny/snapshots/5441c5ea8026d4f6d7505ec004845409f1259fb1/vocab.txt\n[INFO|tokenization_utils_base.py:2060] 2025-03-07 18:32:38,204 >> loading file tokenizer.json from cache at /root/.cache/huggingface/hub/models--cointegrated--rubert-tiny/snapshots/5441c5ea8026d4f6d7505ec004845409f1259fb1/tokenizer.json\n[INFO|tokenization_utils_base.py:2060] 2025-03-07 18:32:38,204 >> loading file added_tokens.json from cache at None\n[INFO|tokenization_utils_base.py:2060] 2025-03-07 18:32:38,204 >> loading file special_tokens_map.json from cache at /root/.cache/huggingface/hub/models--cointegrated--rubert-tiny/snapshots/5441c5ea8026d4f6d7505ec004845409f1259fb1/special_tokens_map.json\n[INFO|tokenization_utils_base.py:2060] 2025-03-07 18:32:38,204 >> loading file tokenizer_config.json from cache at /root/.cache/huggingface/hub/models--cointegrated--rubert-tiny/snapshots/5441c5ea8026d4f6d7505ec004845409f1259fb1/tokenizer_config.json\n[INFO|tokenization_utils_base.py:2060] 2025-03-07 18:32:38,204 >> loading file chat_template.jinja from cache at None\n[INFO|configuration_utils.py:699] 2025-03-07 18:32:38,204 >> loading configuration file config.json from cache at /root/.cache/huggingface/hub/models--cointegrated--rubert-tiny/snapshots/5441c5ea8026d4f6d7505ec004845409f1259fb1/config.json\n[INFO|configuration_utils.py:771] 2025-03-07 18:32:38,205 >> Model config BertConfig {\n  \"_name_or_path\": \"cointegrated/rubert-tiny\",\n  \"architectures\": [\n    \"BertForPreTraining\"\n  ],\n  \"attention_probs_dropout_prob\": 0.1,\n  \"classifier_dropout\": null,\n  \"emb_size\": 312,\n  \"gradient_checkpointing\": false,\n  \"hidden_act\": \"gelu\",\n  \"hidden_dropout_prob\": 0.1,\n  \"hidden_size\": 312,\n  \"initializer_range\": 0.02,\n  \"intermediate_size\": 600,\n  \"layer_norm_eps\": 1e-12,\n  \"max_position_embeddings\": 512,\n  \"model_type\": \"bert\",\n  \"num_attention_heads\": 12,\n  \"num_hidden_layers\": 3,\n  \"pad_token_id\": 0,\n  \"position_embedding_type\": \"absolute\",\n  \"transformers_version\": \"4.50.0.dev0\",\n  \"type_vocab_size\": 2,\n  \"use_cache\": true,\n  \"vocab_size\": 29564\n}\n\n[INFO|modeling_utils.py:4128] 2025-03-07 18:32:38,269 >> loading weights file model.safetensors from cache at /root/.cache/huggingface/hub/models--cointegrated--rubert-tiny/snapshots/5441c5ea8026d4f6d7505ec004845409f1259fb1/model.safetensors\n[INFO|modeling_utils.py:5091] 2025-03-07 18:32:38,369 >> Some weights of the model checkpoint at cointegrated/rubert-tiny were not used when initializing BertForMaskedLM: ['bert.pooler.dense.bias', 'bert.pooler.dense.weight', 'cls.seq_relationship.bias', 'cls.seq_relationship.weight']\n- This IS expected if you are initializing BertForMaskedLM from the checkpoint of a model trained on another task or with another architecture (e.g. initializing a BertForSequenceClassification model from a BertForPreTraining model).\n- This IS NOT expected if you are initializing BertForMaskedLM from the checkpoint of a model that you expect to be exactly identical (initializing a BertForSequenceClassification model from a BertForSequenceClassification model).\n[INFO|modeling_utils.py:5109] 2025-03-07 18:32:38,369 >> All the weights of BertForMaskedLM were initialized from the model checkpoint at cointegrated/rubert-tiny.\nIf your task is similar to the task the model of the checkpoint was trained on, you can already use BertForMaskedLM for predictions without further training.\nRunning tokenizer on dataset line_by_line:   0%| | 0/48332 [00:00<?, ? examples/Caching processed dataset at /root/.cache/huggingface/datasets/text/default-78e7c0d6f6f19af1/0.0.0/37eaf37ac90527a7fd768c94b312ee84f8815c9b7ac00acf81c1c364e8392f99/cache-6bfb5e708a084a9b.arrow\nRunning tokenizer on dataset line_by_line: 100%|█| 48332/48332 [00:06<00:00, 722\nRunning tokenizer on dataset line_by_line:   0%| | 0/2544 [00:00<?, ? examples/sCaching processed dataset at /root/.cache/huggingface/datasets/text/default-78e7c0d6f6f19af1/0.0.0/37eaf37ac90527a7fd768c94b312ee84f8815c9b7ac00acf81c1c364e8392f99/cache-3cb45c54aea16e08.arrow\nRunning tokenizer on dataset line_by_line: 100%|█| 2544/2544 [00:00<00:00, 8129.\n[INFO|trainer.py:930] 2025-03-07 18:32:46,200 >> The following columns in the training set don't have a corresponding argument in `BertForMaskedLM.forward` and have been ignored: special_tokens_mask. If special_tokens_mask are not expected by `BertForMaskedLM.forward`,  you can safely ignore this message.\n[INFO|trainer.py:2414] 2025-03-07 18:32:46,204 >> ***** Running training *****\n[INFO|trainer.py:2415] 2025-03-07 18:32:46,204 >>   Num examples = 48,332\n[INFO|trainer.py:2416] 2025-03-07 18:32:46,204 >>   Num Epochs = 2\n[INFO|trainer.py:2417] 2025-03-07 18:32:46,204 >>   Instantaneous batch size per device = 16\n[INFO|trainer.py:2419] 2025-03-07 18:32:46,204 >>   Training with DataParallel so batch size has been adjusted to: 32\n[INFO|trainer.py:2420] 2025-03-07 18:32:46,204 >>   Total train batch size (w. parallel, distributed & accumulation) = 32\n[INFO|trainer.py:2421] 2025-03-07 18:32:46,205 >>   Gradient Accumulation steps = 1\n[INFO|trainer.py:2422] 2025-03-07 18:32:46,205 >>   Total optimization steps = 3,022\n[INFO|trainer.py:2423] 2025-03-07 18:32:46,205 >>   Number of trainable parameters = 11,814,356\n  0%|                                                  | 0/3022 [00:00<?, ?it/s]/usr/local/lib/python3.10/dist-packages/torch/nn/parallel/parallel_apply.py:79: FutureWarning: `torch.cuda.amp.autocast(args...)` is deprecated. Please use `torch.amp.autocast('cuda', args...)` instead.\n  with torch.cuda.device(device), torch.cuda.stream(stream), autocast(enabled=autocast_enabled):\n/usr/local/lib/python3.10/dist-packages/torch/nn/parallel/_functions.py:68: UserWarning: Was asked to gather along dimension 0, but all input tensors were scalars; will instead unsqueeze and return a vector.\n  warnings.warn('Was asked to gather along dimension 0, but all '\n{'loss': 3.2079, 'grad_norm': 5.686814308166504, 'learning_rate': 4.172733289212442e-05, 'epoch': 0.33}\n 17%|██████▌                                 | 500/3022 [02:04<09:26,  4.45it/s][INFO|trainer.py:3955] 2025-03-07 18:34:50,505 >> Saving model checkpoint to /kaggle/working/mlm_checkpoint/checkpoint-500\n[INFO|configuration_utils.py:423] 2025-03-07 18:34:50,507 >> Configuration saved in /kaggle/working/mlm_checkpoint/checkpoint-500/config.json\n[INFO|modeling_utils.py:3138] 2025-03-07 18:34:50,629 >> Model weights saved in /kaggle/working/mlm_checkpoint/checkpoint-500/model.safetensors\n[INFO|tokenization_utils_base.py:2510] 2025-03-07 18:34:50,630 >> tokenizer config file saved in /kaggle/working/mlm_checkpoint/checkpoint-500/tokenizer_config.json\n[INFO|tokenization_utils_base.py:2519] 2025-03-07 18:34:50,630 >> Special tokens file saved in /kaggle/working/mlm_checkpoint/checkpoint-500/special_tokens_map.json\n/usr/local/lib/python3.10/dist-packages/torch/nn/parallel/parallel_apply.py:79: FutureWarning: `torch.cuda.amp.autocast(args...)` is deprecated. Please use `torch.amp.autocast('cuda', args...)` instead.\n  with torch.cuda.device(device), torch.cuda.stream(stream), autocast(enabled=autocast_enabled):\n/usr/local/lib/python3.10/dist-packages/torch/nn/parallel/_functions.py:68: UserWarning: Was asked to gather along dimension 0, but all input tensors were scalars; will instead unsqueeze and return a vector.\n  warnings.warn('Was asked to gather along dimension 0, but all '\n{'loss': 2.8323, 'grad_norm': 5.284853458404541, 'learning_rate': 3.345466578424885e-05, 'epoch': 0.66}\n 33%|████████████▉                          | 1000/3022 [04:10<09:48,  3.44it/s][INFO|trainer.py:3955] 2025-03-07 18:36:57,039 >> Saving model checkpoint to /kaggle/working/mlm_checkpoint/checkpoint-1000\n[INFO|configuration_utils.py:423] 2025-03-07 18:36:57,040 >> Configuration saved in /kaggle/working/mlm_checkpoint/checkpoint-1000/config.json\n[INFO|modeling_utils.py:3138] 2025-03-07 18:36:57,159 >> Model weights saved in /kaggle/working/mlm_checkpoint/checkpoint-1000/model.safetensors\n[INFO|tokenization_utils_base.py:2510] 2025-03-07 18:36:57,159 >> tokenizer config file saved in /kaggle/working/mlm_checkpoint/checkpoint-1000/tokenizer_config.json\n[INFO|tokenization_utils_base.py:2519] 2025-03-07 18:36:57,160 >> Special tokens file saved in /kaggle/working/mlm_checkpoint/checkpoint-1000/special_tokens_map.json\n/usr/local/lib/python3.10/dist-packages/torch/nn/parallel/parallel_apply.py:79: FutureWarning: `torch.cuda.amp.autocast(args...)` is deprecated. Please use `torch.amp.autocast('cuda', args...)` instead.\n  with torch.cuda.device(device), torch.cuda.stream(stream), autocast(enabled=autocast_enabled):\n/usr/local/lib/python3.10/dist-packages/torch/nn/parallel/_functions.py:68: UserWarning: Was asked to gather along dimension 0, but all input tensors were scalars; will instead unsqueeze and return a vector.\n  warnings.warn('Was asked to gather along dimension 0, but all '\n{'loss': 2.6948, 'grad_norm': 5.399640083312988, 'learning_rate': 2.5181998676373266e-05, 'epoch': 0.99}\n 50%|███████████████████▎                   | 1500/3022 [06:19<06:03,  4.18it/s][INFO|trainer.py:3955] 2025-03-07 18:39:05,502 >> Saving model checkpoint to /kaggle/working/mlm_checkpoint/checkpoint-1500\n[INFO|configuration_utils.py:423] 2025-03-07 18:39:05,503 >> Configuration saved in /kaggle/working/mlm_checkpoint/checkpoint-1500/config.json\n[INFO|modeling_utils.py:3138] 2025-03-07 18:39:05,621 >> Model weights saved in /kaggle/working/mlm_checkpoint/checkpoint-1500/model.safetensors\n[INFO|tokenization_utils_base.py:2510] 2025-03-07 18:39:05,622 >> tokenizer config file saved in /kaggle/working/mlm_checkpoint/checkpoint-1500/tokenizer_config.json\n[INFO|tokenization_utils_base.py:2519] 2025-03-07 18:39:05,622 >> Special tokens file saved in /kaggle/working/mlm_checkpoint/checkpoint-1500/special_tokens_map.json\n[INFO|trainer.py:4047] 2025-03-07 18:39:05,821 >> Deleting older checkpoint [/kaggle/working/mlm_checkpoint/checkpoint-500] due to args.save_total_limit\n/usr/local/lib/python3.10/dist-packages/torch/nn/parallel/parallel_apply.py:79: FutureWarning: `torch.cuda.amp.autocast(args...)` is deprecated. Please use `torch.amp.autocast('cuda', args...)` instead.\n  with torch.cuda.device(device), torch.cuda.stream(stream), autocast(enabled=autocast_enabled):\n/usr/local/lib/python3.10/dist-packages/torch/nn/parallel/_functions.py:68: UserWarning: Was asked to gather along dimension 0, but all input tensors were scalars; will instead unsqueeze and return a vector.\n  warnings.warn('Was asked to gather along dimension 0, but all '\n{'loss': 2.5977, 'grad_norm': 5.035750389099121, 'learning_rate': 1.6909331568497685e-05, 'epoch': 1.32}\n 66%|█████████████████████████▊             | 2000/3022 [08:24<05:26,  3.13it/s][INFO|trainer.py:3955] 2025-03-07 18:41:11,079 >> Saving model checkpoint to /kaggle/working/mlm_checkpoint/checkpoint-2000\n[INFO|configuration_utils.py:423] 2025-03-07 18:41:11,080 >> Configuration saved in /kaggle/working/mlm_checkpoint/checkpoint-2000/config.json\n[INFO|modeling_utils.py:3138] 2025-03-07 18:41:11,196 >> Model weights saved in /kaggle/working/mlm_checkpoint/checkpoint-2000/model.safetensors\n[INFO|tokenization_utils_base.py:2510] 2025-03-07 18:41:11,197 >> tokenizer config file saved in /kaggle/working/mlm_checkpoint/checkpoint-2000/tokenizer_config.json\n[INFO|tokenization_utils_base.py:2519] 2025-03-07 18:41:11,197 >> Special tokens file saved in /kaggle/working/mlm_checkpoint/checkpoint-2000/special_tokens_map.json\n[INFO|trainer.py:4047] 2025-03-07 18:41:11,397 >> Deleting older checkpoint [/kaggle/working/mlm_checkpoint/checkpoint-1000] due to args.save_total_limit\n/usr/local/lib/python3.10/dist-packages/torch/nn/parallel/parallel_apply.py:79: FutureWarning: `torch.cuda.amp.autocast(args...)` is deprecated. Please use `torch.amp.autocast('cuda', args...)` instead.\n  with torch.cuda.device(device), torch.cuda.stream(stream), autocast(enabled=autocast_enabled):\n/usr/local/lib/python3.10/dist-packages/torch/nn/parallel/_functions.py:68: UserWarning: Was asked to gather along dimension 0, but all input tensors were scalars; will instead unsqueeze and return a vector.\n  warnings.warn('Was asked to gather along dimension 0, but all '\n{'loss': 2.5431, 'grad_norm': 5.747674942016602, 'learning_rate': 8.636664460622105e-06, 'epoch': 1.65}\n 83%|████████████████████████████████▎      | 2500/3022 [10:28<01:58,  4.39it/s][INFO|trainer.py:3955] 2025-03-07 18:43:14,219 >> Saving model checkpoint to /kaggle/working/mlm_checkpoint/checkpoint-2500\n[INFO|configuration_utils.py:423] 2025-03-07 18:43:14,220 >> Configuration saved in /kaggle/working/mlm_checkpoint/checkpoint-2500/config.json\n[INFO|modeling_utils.py:3138] 2025-03-07 18:43:14,337 >> Model weights saved in /kaggle/working/mlm_checkpoint/checkpoint-2500/model.safetensors\n[INFO|tokenization_utils_base.py:2510] 2025-03-07 18:43:14,337 >> tokenizer config file saved in /kaggle/working/mlm_checkpoint/checkpoint-2500/tokenizer_config.json\n[INFO|tokenization_utils_base.py:2519] 2025-03-07 18:43:14,338 >> Special tokens file saved in /kaggle/working/mlm_checkpoint/checkpoint-2500/special_tokens_map.json\n[INFO|trainer.py:4047] 2025-03-07 18:43:14,535 >> Deleting older checkpoint [/kaggle/working/mlm_checkpoint/checkpoint-1500] due to args.save_total_limit\n/usr/local/lib/python3.10/dist-packages/torch/nn/parallel/parallel_apply.py:79: FutureWarning: `torch.cuda.amp.autocast(args...)` is deprecated. Please use `torch.amp.autocast('cuda', args...)` instead.\n  with torch.cuda.device(device), torch.cuda.stream(stream), autocast(enabled=autocast_enabled):\n/usr/local/lib/python3.10/dist-packages/torch/nn/parallel/_functions.py:68: UserWarning: Was asked to gather along dimension 0, but all input tensors were scalars; will instead unsqueeze and return a vector.\n  warnings.warn('Was asked to gather along dimension 0, but all '\n{'loss': 2.5309, 'grad_norm': 5.479461669921875, 'learning_rate': 3.639973527465255e-07, 'epoch': 1.99}\n 99%|██████████████████████████████████████▋| 3000/3022 [12:36<00:05,  3.75it/s][INFO|trainer.py:3955] 2025-03-07 18:45:22,745 >> Saving model checkpoint to /kaggle/working/mlm_checkpoint/checkpoint-3000\n[INFO|configuration_utils.py:423] 2025-03-07 18:45:22,747 >> Configuration saved in /kaggle/working/mlm_checkpoint/checkpoint-3000/config.json\n[INFO|modeling_utils.py:3138] 2025-03-07 18:45:22,865 >> Model weights saved in /kaggle/working/mlm_checkpoint/checkpoint-3000/model.safetensors\n[INFO|tokenization_utils_base.py:2510] 2025-03-07 18:45:22,866 >> tokenizer config file saved in /kaggle/working/mlm_checkpoint/checkpoint-3000/tokenizer_config.json\n[INFO|tokenization_utils_base.py:2519] 2025-03-07 18:45:22,866 >> Special tokens file saved in /kaggle/working/mlm_checkpoint/checkpoint-3000/special_tokens_map.json\n[INFO|trainer.py:4047] 2025-03-07 18:45:23,073 >> Deleting older checkpoint [/kaggle/working/mlm_checkpoint/checkpoint-2000] due to args.save_total_limit\n/usr/local/lib/python3.10/dist-packages/torch/nn/parallel/parallel_apply.py:79: FutureWarning: `torch.cuda.amp.autocast(args...)` is deprecated. Please use `torch.amp.autocast('cuda', args...)` instead.\n  with torch.cuda.device(device), torch.cuda.stream(stream), autocast(enabled=autocast_enabled):\n/usr/local/lib/python3.10/dist-packages/torch/nn/parallel/_functions.py:68: UserWarning: Was asked to gather along dimension 0, but all input tensors were scalars; will instead unsqueeze and return a vector.\n  warnings.warn('Was asked to gather along dimension 0, but all '\n100%|██████████████████████████████████████▉| 3021/3022 [12:42<00:00,  5.06it/s][INFO|trainer.py:3955] 2025-03-07 18:45:28,325 >> Saving model checkpoint to /kaggle/working/mlm_checkpoint/checkpoint-3022\n[INFO|configuration_utils.py:423] 2025-03-07 18:45:28,327 >> Configuration saved in /kaggle/working/mlm_checkpoint/checkpoint-3022/config.json\n[INFO|modeling_utils.py:3138] 2025-03-07 18:45:28,443 >> Model weights saved in /kaggle/working/mlm_checkpoint/checkpoint-3022/model.safetensors\n[INFO|tokenization_utils_base.py:2510] 2025-03-07 18:45:28,444 >> tokenizer config file saved in /kaggle/working/mlm_checkpoint/checkpoint-3022/tokenizer_config.json\n[INFO|tokenization_utils_base.py:2519] 2025-03-07 18:45:28,444 >> Special tokens file saved in /kaggle/working/mlm_checkpoint/checkpoint-3022/special_tokens_map.json\n[INFO|trainer.py:4047] 2025-03-07 18:45:28,644 >> Deleting older checkpoint [/kaggle/working/mlm_checkpoint/checkpoint-2500] due to args.save_total_limit\n[INFO|trainer.py:2670] 2025-03-07 18:45:28,673 >> \n\nTraining completed. Do not forget to share your model on huggingface.co/models =)\n\n\n{'train_runtime': 762.4686, 'train_samples_per_second': 126.778, 'train_steps_per_second': 3.963, 'train_loss': 2.732934605909609, 'epoch': 2.0}\n100%|███████████████████████████████████████| 3022/3022 [12:42<00:00,  3.96it/s]\n[INFO|trainer.py:3955] 2025-03-07 18:45:28,674 >> Saving model checkpoint to /kaggle/working/mlm_checkpoint\n[INFO|configuration_utils.py:423] 2025-03-07 18:45:28,676 >> Configuration saved in /kaggle/working/mlm_checkpoint/config.json\n[INFO|modeling_utils.py:3138] 2025-03-07 18:45:28,793 >> Model weights saved in /kaggle/working/mlm_checkpoint/model.safetensors\n[INFO|tokenization_utils_base.py:2510] 2025-03-07 18:45:28,793 >> tokenizer config file saved in /kaggle/working/mlm_checkpoint/tokenizer_config.json\n[INFO|tokenization_utils_base.py:2519] 2025-03-07 18:45:28,794 >> Special tokens file saved in /kaggle/working/mlm_checkpoint/special_tokens_map.json\n***** train metrics *****\n  epoch                    =        2.0\n  total_flos               =   406734GF\n  train_loss               =     2.7329\n  train_runtime            = 0:12:42.46\n  train_samples            =      48332\n  train_samples_per_second =    126.778\n  train_steps_per_second   =      3.963\n[INFO|modelcard.py:449] 2025-03-07 18:45:29,375 >> Dropping the following result as it does not have all the necessary fields:\n{'task': {'name': 'Masked Language Modeling', 'type': 'fill-mask'}}\n",
          "output_type": "stream"
        }
      ],
      "execution_count": null
    },
    {
      "cell_type": "markdown",
      "source": [
        "Обучите модель, полученную после процедуры **MLM** претрейна."
      ],
      "metadata": {
        "id": "TeorCVvePk0O"
      }
    },
    {
      "cell_type": "markdown",
      "source": [
        "Загрузим дообученную модель:"
      ],
      "metadata": {
        "id": "Ja2_YN3w2fAr"
      }
    },
    {
      "cell_type": "code",
      "source": [
        "model_path = \"/kaggle/working/mlm_checkpoint\"\n",
        "\n",
        "model = AutoModel.from_pretrained(model_path)\n",
        "tokenizer = AutoTokenizer.from_pretrained(model_path)"
      ],
      "metadata": {
        "trusted": true,
        "execution": {
          "iopub.status.busy": "2025-03-07T18:50:45.633959Z",
          "iopub.execute_input": "2025-03-07T18:50:45.634331Z",
          "iopub.status.idle": "2025-03-07T18:50:45.707529Z",
          "shell.execute_reply.started": "2025-03-07T18:50:45.634302Z",
          "shell.execute_reply": "2025-03-07T18:50:45.706620Z"
        },
        "id": "JgFoFCWF2fAs",
        "outputId": "36436f46-6d85-4dca-e016-40294dbefa06"
      },
      "outputs": [
        {
          "name": "stderr",
          "text": "Some weights of BertModel were not initialized from the model checkpoint at /kaggle/working/mlm_checkpoint and are newly initialized: ['bert.pooler.dense.bias', 'bert.pooler.dense.weight']\nYou should probably TRAIN this model on a down-stream task to be able to use it for predictions and inference.\n",
          "output_type": "stream"
        }
      ],
      "execution_count": null
    },
    {
      "cell_type": "code",
      "source": [
        "model_path = \"/kaggle/working/mlm_checkpoint\"\n",
        "tokenizer = AutoTokenizer.from_pretrained(model_path)\n",
        "model = AutoModel.from_pretrained(model_path)\n",
        "\n",
        "class Model(nn.Module):\n",
        "    def __init__(self, model_name, num_labels=9):\n",
        "        super().__init__()\n",
        "\n",
        "        self.bert = AutoModel.from_pretrained(model_name)\n",
        "        self.classifier = nn.Linear(self.bert.config.hidden_size, num_labels)\n",
        "\n",
        "    def forward(self, batch):\n",
        "        input_ids = batch[\"input_ids\"]\n",
        "        attention_mask = batch[\"attention_mask\"]\n",
        "        outputs = self.bert(input_ids=input_ids, attention_mask=attention_mask)\n",
        "        cls_token = outputs.last_hidden_state[:, 0, :]\n",
        "        logits = self.classifier(cls_token)\n",
        "        return logits\n",
        "\n",
        "model = Model(model_name=model_path, num_labels=9)\n",
        "model.to(device)"
      ],
      "metadata": {
        "id": "rSn6phTbJD02",
        "trusted": true,
        "execution": {
          "iopub.status.busy": "2025-03-07T18:50:52.481104Z",
          "iopub.execute_input": "2025-03-07T18:50:52.481417Z",
          "iopub.status.idle": "2025-03-07T18:50:52.586776Z",
          "shell.execute_reply.started": "2025-03-07T18:50:52.481389Z",
          "shell.execute_reply": "2025-03-07T18:50:52.586096Z"
        },
        "outputId": "f8429e1a-4cf2-44af-91d0-9168f5a4b00a"
      },
      "outputs": [
        {
          "name": "stderr",
          "text": "Some weights of BertModel were not initialized from the model checkpoint at /kaggle/working/mlm_checkpoint and are newly initialized: ['bert.pooler.dense.bias', 'bert.pooler.dense.weight']\nYou should probably TRAIN this model on a down-stream task to be able to use it for predictions and inference.\nSome weights of BertModel were not initialized from the model checkpoint at /kaggle/working/mlm_checkpoint and are newly initialized: ['bert.pooler.dense.bias', 'bert.pooler.dense.weight']\nYou should probably TRAIN this model on a down-stream task to be able to use it for predictions and inference.\n",
          "output_type": "stream"
        },
        {
          "execution_count": 46,
          "output_type": "execute_result",
          "data": {
            "text/plain": "Model(\n  (bert): BertModel(\n    (embeddings): BertEmbeddings(\n      (word_embeddings): Embedding(29564, 312, padding_idx=0)\n      (position_embeddings): Embedding(512, 312)\n      (token_type_embeddings): Embedding(2, 312)\n      (LayerNorm): LayerNorm((312,), eps=1e-12, elementwise_affine=True)\n      (dropout): Dropout(p=0.1, inplace=False)\n    )\n    (encoder): BertEncoder(\n      (layer): ModuleList(\n        (0-2): 3 x BertLayer(\n          (attention): BertAttention(\n            (self): BertSdpaSelfAttention(\n              (query): Linear(in_features=312, out_features=312, bias=True)\n              (key): Linear(in_features=312, out_features=312, bias=True)\n              (value): Linear(in_features=312, out_features=312, bias=True)\n              (dropout): Dropout(p=0.1, inplace=False)\n            )\n            (output): BertSelfOutput(\n              (dense): Linear(in_features=312, out_features=312, bias=True)\n              (LayerNorm): LayerNorm((312,), eps=1e-12, elementwise_affine=True)\n              (dropout): Dropout(p=0.1, inplace=False)\n            )\n          )\n          (intermediate): BertIntermediate(\n            (dense): Linear(in_features=312, out_features=600, bias=True)\n            (intermediate_act_fn): GELUActivation()\n          )\n          (output): BertOutput(\n            (dense): Linear(in_features=600, out_features=312, bias=True)\n            (LayerNorm): LayerNorm((312,), eps=1e-12, elementwise_affine=True)\n            (dropout): Dropout(p=0.1, inplace=False)\n          )\n        )\n      )\n    )\n    (pooler): BertPooler(\n      (dense): Linear(in_features=312, out_features=312, bias=True)\n      (activation): Tanh()\n    )\n  )\n  (classifier): Linear(in_features=312, out_features=9, bias=True)\n)"
          },
          "metadata": {}
        }
      ],
      "execution_count": null
    },
    {
      "cell_type": "code",
      "source": [
        "optimizer = AdamW(model.parameters(), lr=2e-5)\n",
        "criterion = nn.BCEWithLogitsLoss()"
      ],
      "metadata": {
        "trusted": true,
        "execution": {
          "iopub.status.busy": "2025-03-07T18:51:07.154616Z",
          "iopub.execute_input": "2025-03-07T18:51:07.154993Z",
          "iopub.status.idle": "2025-03-07T18:51:07.160628Z",
          "shell.execute_reply.started": "2025-03-07T18:51:07.154964Z",
          "shell.execute_reply": "2025-03-07T18:51:07.159972Z"
        },
        "id": "Gfb5n-YG2fAu"
      },
      "outputs": [],
      "execution_count": null
    },
    {
      "cell_type": "code",
      "source": [
        "NUM_EPOCH = 5\n",
        "for epoch in range(NUM_EPOCH):\n",
        "    model.train()\n",
        "    for batch in tqdm(train_loader):\n",
        "        batch = {k: v.to(device) for k, v in batch.items()}\n",
        "        logits = model(batch)\n",
        "        loss = criterion(logits, batch[\"labels\"].float())\n",
        "\n",
        "        optimizer.zero_grad()\n",
        "        loss.backward()\n",
        "        optimizer.step()\n",
        "\n",
        "    print(f\"Epoch {epoch + 1}, Loss: {loss.item()}\")"
      ],
      "metadata": {
        "trusted": true,
        "execution": {
          "iopub.status.busy": "2025-03-07T18:51:14.011771Z",
          "iopub.execute_input": "2025-03-07T18:51:14.012072Z",
          "iopub.status.idle": "2025-03-07T19:04:48.647354Z",
          "shell.execute_reply.started": "2025-03-07T18:51:14.012048Z",
          "shell.execute_reply": "2025-03-07T19:04:48.646362Z"
        },
        "id": "uhDpgrzr2fAv",
        "outputId": "3c6e0d57-e7b1-4583-95a3-96723cc9ddc7"
      },
      "outputs": [
        {
          "name": "stderr",
          "text": "100%|██████████| 597/597 [02:44<00:00,  3.63it/s]\n",
          "output_type": "stream"
        },
        {
          "name": "stdout",
          "text": "Epoch 1, Loss: 0.16535529494285583\n",
          "output_type": "stream"
        },
        {
          "name": "stderr",
          "text": "100%|██████████| 597/597 [02:44<00:00,  3.63it/s]\n",
          "output_type": "stream"
        },
        {
          "name": "stdout",
          "text": "Epoch 2, Loss: 0.11845670640468597\n",
          "output_type": "stream"
        },
        {
          "name": "stderr",
          "text": "100%|██████████| 597/597 [02:43<00:00,  3.66it/s]\n",
          "output_type": "stream"
        },
        {
          "name": "stdout",
          "text": "Epoch 3, Loss: 0.11320468783378601\n",
          "output_type": "stream"
        },
        {
          "name": "stderr",
          "text": "100%|██████████| 597/597 [02:41<00:00,  3.70it/s]\n",
          "output_type": "stream"
        },
        {
          "name": "stdout",
          "text": "Epoch 4, Loss: 0.16652706265449524\n",
          "output_type": "stream"
        },
        {
          "name": "stderr",
          "text": "100%|██████████| 597/597 [02:40<00:00,  3.71it/s]",
          "output_type": "stream"
        },
        {
          "name": "stdout",
          "text": "Epoch 5, Loss: 0.08311042189598083\n",
          "output_type": "stream"
        },
        {
          "name": "stderr",
          "text": "\n",
          "output_type": "stream"
        }
      ],
      "execution_count": null
    },
    {
      "cell_type": "code",
      "source": [
        "def validate_model(model, val_loader, device):\n",
        "    model.eval()\n",
        "    val_preds = []\n",
        "    val_targets = []\n",
        "\n",
        "    with torch.no_grad():\n",
        "        for batch in tqdm(val_loader):\n",
        "            batch = {k: v.to(device) for k, v in batch.items()}\n",
        "            logits = model(batch)\n",
        "\n",
        "            preds = torch.sigmoid(logits) > 0.5\n",
        "\n",
        "            val_preds.extend(preds.cpu().numpy())\n",
        "            val_targets.extend(batch[\"labels\"].cpu().numpy())\n",
        "\n",
        "    f1 = calculate_f1_score(np.array(val_preds), np.array(val_targets))\n",
        "    return f1"
      ],
      "metadata": {
        "trusted": true,
        "execution": {
          "iopub.status.busy": "2025-03-07T19:04:48.648566Z",
          "iopub.execute_input": "2025-03-07T19:04:48.648926Z",
          "iopub.status.idle": "2025-03-07T19:04:48.654237Z",
          "shell.execute_reply.started": "2025-03-07T19:04:48.648888Z",
          "shell.execute_reply": "2025-03-07T19:04:48.653394Z"
        },
        "id": "1xcABeTs2fAv"
      },
      "outputs": [],
      "execution_count": null
    },
    {
      "cell_type": "code",
      "source": [
        "val_f1 = validate_model(model, val_loader, device)\n",
        "val_f1"
      ],
      "metadata": {
        "trusted": true,
        "execution": {
          "iopub.status.busy": "2025-03-07T19:04:57.031087Z",
          "iopub.execute_input": "2025-03-07T19:04:57.031368Z",
          "iopub.status.idle": "2025-03-07T19:05:14.607613Z",
          "shell.execute_reply.started": "2025-03-07T19:04:57.031345Z",
          "shell.execute_reply": "2025-03-07T19:05:14.606949Z"
        },
        "id": "nONYZaaP2fAw",
        "outputId": "95bb0b96-1233-4f25-edd3-235f97d462f3"
      },
      "outputs": [
        {
          "name": "stderr",
          "text": "100%|██████████| 199/199 [00:17<00:00, 11.47it/s]\n",
          "output_type": "stream"
        },
        {
          "execution_count": 50,
          "output_type": "execute_result",
          "data": {
            "text/plain": "0.808441439316508"
          },
          "metadata": {}
        }
      ],
      "execution_count": null
    },
    {
      "cell_type": "markdown",
      "source": [
        "Качество по крайне мере на трешхолде 0.5 точно уже улучшилось, оно получило даже немного лучше чем при подборе оптимального трешхолда в предыдущем случае\n",
        "\n",
        "попробуем подобрать оптимальный трешхолд для этой модели как мы делали для модели без MLM:"
      ],
      "metadata": {
        "id": "7_ZMrguc2fAx"
      }
    },
    {
      "cell_type": "code",
      "source": [
        "def find_optimal_threshold(model, val_loader, device):\n",
        "    model.eval()\n",
        "    val_preds = []\n",
        "    val_targets = []\n",
        "\n",
        "    with torch.no_grad():\n",
        "        for batch in tqdm(val_loader):\n",
        "\n",
        "            batch = {k: v.to(device) for k, v in batch.items()}\n",
        "            logits = model(batch)\n",
        "\n",
        "            preds = torch.sigmoid(logits)\n",
        "\n",
        "            val_preds.extend(preds.cpu().numpy())\n",
        "            val_targets.extend(batch[\"labels\"].cpu().numpy())\n",
        "\n",
        "    val_preds = np.array(val_preds)\n",
        "    val_targets = np.array(val_targets)\n",
        "\n",
        "    # Перебираем пороги и выбираем лучший\n",
        "    best_threshold = 0.5\n",
        "    best_f1 = 0\n",
        "\n",
        "    for threshold in np.arange(0.1, 1.0, 0.05):\n",
        "        preds = val_preds > threshold\n",
        "        f1 = calculate_f1_score(val_targets, preds)\n",
        "        if f1 > best_f1:\n",
        "            best_f1 = f1\n",
        "            best_threshold = threshold\n",
        "\n",
        "    return best_threshold, best_f1\n",
        "\n",
        "optimal_threshold, optimal_f1 = find_optimal_threshold(model, val_loader, device)\n",
        "print(f\"Optimal threshold: {optimal_threshold}, F1-score: {optimal_f1}\")"
      ],
      "metadata": {
        "trusted": true,
        "execution": {
          "iopub.status.busy": "2025-03-07T19:05:26.065605Z",
          "iopub.execute_input": "2025-03-07T19:05:26.065943Z",
          "iopub.status.idle": "2025-03-07T19:05:47.459348Z",
          "shell.execute_reply.started": "2025-03-07T19:05:26.065912Z",
          "shell.execute_reply": "2025-03-07T19:05:47.458379Z"
        },
        "id": "KE4vXkwz2fAz",
        "outputId": "df492c88-3a6d-4944-85a3-bbbda1d7cbe6"
      },
      "outputs": [
        {
          "name": "stderr",
          "text": "100%|██████████| 199/199 [00:17<00:00, 11.21it/s]\n",
          "output_type": "stream"
        },
        {
          "name": "stdout",
          "text": "Optimal threshold: 0.30000000000000004, F1-score: 0.8281049348743351\n",
          "output_type": "stream"
        }
      ],
      "execution_count": null
    },
    {
      "cell_type": "markdown",
      "source": [
        "Трешхолд получился такой же, однако качество увеличилось на 0.02 единиц f1-score"
      ],
      "metadata": {
        "id": "Is5PnM8s2fA0"
      }
    },
    {
      "cell_type": "markdown",
      "source": [
        "**Вывод:**\n",
        "Поработали с новой библиотекой transformers и необычной задачей c несколькими таргетами\n",
        "\n",
        "В ходе работы выбрали маленькую модель для недорогого обучения\n",
        "\n",
        "Можно выделить несколько особенностей по итоге задания:\n",
        "* Использование MLM улучшает понимание языка модели, именно поэтому любую модель перед обучением на основной задаче предобучают предсказывать замаскированные токены (MLM)\n",
        "* Подбирать максимальную длину предложения следует с умом - так как если сообщение большое, то не факт что оно информативное, однако это может 'взломать' нашу модель, но конкретно тут мы не акцентируем на этом внимание\n",
        "* Много полезных функций уже реализованы в transformers - нужно немного переорганизовать датасет для использования\n",
        "* Следует подбирать трешхолд в такого типа задачах по валидационной выборке"
      ],
      "metadata": {
        "id": "KSunrKDx2fA1"
      }
    }
  ]
}