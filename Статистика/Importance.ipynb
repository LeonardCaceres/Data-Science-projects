{
  "cells": [
    {
      "cell_type": "code",
      "execution_count": null,
      "id": "c94d12ba",
      "metadata": {
        "ExecuteTime": {
          "end_time": "2022-11-22T15:50:36.808074Z",
          "start_time": "2022-11-22T15:50:35.990788Z"
        },
        "id": "c94d12ba"
      },
      "outputs": [],
      "source": [
        "import numpy as np\n",
        "import pandas as pd\n",
        "import scipy.stats as sps\n",
        "from tqdm.notebook import tqdm\n",
        "from collections import defaultdict\n",
        "import warnings\n",
        "\n",
        "import matplotlib.pyplot as plt\n",
        "import seaborn as sns\n",
        "\n",
        "from sklearn.model_selection import train_test_split\n",
        "from sklearn.decomposition import PCA\n",
        "from sklearn.ensemble import RandomForestClassifier\n",
        "from sklearn.neighbors import KNeighborsRegressor\n",
        "from sklearn.linear_model import LinearRegression\n",
        "from sklearn.preprocessing import OrdinalEncoder, LabelEncoder\n",
        "\n",
        "red = '#FF3300'\n",
        "blue = '#0066CC'\n",
        "green = '#00CC33'\n",
        "\n",
        "warnings.filterwarnings(\"ignore\")\n",
        "sns.set(style='whitegrid', font_scale=1.4, palette='Set2')"
      ]
    },
    {
      "cell_type": "markdown",
      "source": [
        "**Простая задачка на таблицу сопряженности:**"
      ],
      "metadata": {
        "id": "Uf-wGEMK2HHy"
      },
      "id": "Uf-wGEMK2HHy"
    },
    {
      "cell_type": "markdown",
      "id": "d38e4dee",
      "metadata": {
        "id": "d38e4dee"
      },
      "source": [
        "Выдается сводная статистика о посетителях сайта miptstats.github.io за период с февраля по май этого года. В каждой ячейке таблицы записано количество посетителей определенного условия, которые хотя бы раз посетили сайт. Пол посетителя определяется технологией Яндекс.Метрики."
      ]
    },
    {
      "cell_type": "code",
      "execution_count": null,
      "id": "6c6fd640",
      "metadata": {
        "ExecuteTime": {
          "end_time": "2022-11-22T15:50:45.275685Z",
          "start_time": "2022-11-22T15:50:45.158890Z"
        },
        "id": "6c6fd640",
        "outputId": "30d4ce35-beb3-4b05-d086-1d08d623e418"
      },
      "outputs": [
        {
          "data": {
            "text/html": [
              "<div>\n",
              "<style scoped>\n",
              "    .dataframe tbody tr th:only-of-type {\n",
              "        vertical-align: middle;\n",
              "    }\n",
              "\n",
              "    .dataframe tbody tr th {\n",
              "        vertical-align: top;\n",
              "    }\n",
              "\n",
              "    .dataframe thead th {\n",
              "        text-align: right;\n",
              "    }\n",
              "</style>\n",
              "<table border=\"1\" class=\"dataframe\">\n",
              "  <thead>\n",
              "    <tr style=\"text-align: right;\">\n",
              "      <th></th>\n",
              "      <th>Мужской</th>\n",
              "      <th>Женский</th>\n",
              "    </tr>\n",
              "  </thead>\n",
              "  <tbody>\n",
              "    <tr>\n",
              "      <th>Chrome</th>\n",
              "      <td>7160</td>\n",
              "      <td>3318</td>\n",
              "    </tr>\n",
              "    <tr>\n",
              "      <th>Яндекс Браузер</th>\n",
              "      <td>3286</td>\n",
              "      <td>1593</td>\n",
              "    </tr>\n",
              "    <tr>\n",
              "      <th>Firefox</th>\n",
              "      <td>224</td>\n",
              "      <td>69</td>\n",
              "    </tr>\n",
              "    <tr>\n",
              "      <th>Safari</th>\n",
              "      <td>143</td>\n",
              "      <td>87</td>\n",
              "    </tr>\n",
              "    <tr>\n",
              "      <th>Opera</th>\n",
              "      <td>1022</td>\n",
              "      <td>328</td>\n",
              "    </tr>\n",
              "    <tr>\n",
              "      <th>Edge</th>\n",
              "      <td>826</td>\n",
              "      <td>508</td>\n",
              "    </tr>\n",
              "  </tbody>\n",
              "</table>\n",
              "</div>"
            ],
            "text/plain": [
              "                Мужской  Женский\n",
              "Chrome             7160     3318\n",
              "Яндекс Браузер     3286     1593\n",
              "Firefox             224       69\n",
              "Safari              143       87\n",
              "Opera              1022      328\n",
              "Edge                826      508"
            ]
          },
          "execution_count": 11,
          "metadata": {},
          "output_type": "execute_result"
        }
      ],
      "source": [
        "data = pd.DataFrame(\n",
        "    {'Мужской': [7160, 3286, 224, 143, 1022, 826],\n",
        "     'Женский': [3318, 1593, 69, 87, 328, 508]},\n",
        "    index=['Chrome', 'Яндекс Браузер', 'Firefox',\n",
        "           'Safari', 'Opera', 'Edge']\n",
        ")\n",
        "data"
      ]
    },
    {
      "cell_type": "markdown",
      "id": "ba0845d3",
      "metadata": {
        "id": "ba0845d3"
      },
      "source": [
        "Проверим гипотезу о том, что тип используемого браузера не зависит от пола посетителя. Сделайте вывод."
      ]
    },
    {
      "cell_type": "code",
      "execution_count": null,
      "id": "08dac6c7",
      "metadata": {
        "ExecuteTime": {
          "end_time": "2022-11-22T15:50:45.282568Z",
          "start_time": "2022-11-22T15:50:45.277793Z"
        },
        "id": "08dac6c7",
        "outputId": "9261c910-e1ff-479d-f6d2-07cff5279f42"
      },
      "outputs": [
        {
          "data": {
            "text/plain": [
              "(74.07678148306084,\n",
              " 1.449572304539852e-14,\n",
              " 5,\n",
              " array([[7146.19467787, 3331.80532213],\n",
              "        [3327.57051282, 1551.42948718],\n",
              "        [ 199.8315557 ,   93.1684443 ],\n",
              "        [ 156.86436113,   73.13563887],\n",
              "        [ 920.72559793,  429.27440207],\n",
              "        [ 909.81329455,  424.18670545]]))"
            ]
          },
          "execution_count": 12,
          "metadata": {},
          "output_type": "execute_result"
        }
      ],
      "source": [
        "sps.chi2_contingency(data)"
      ]
    },
    {
      "cell_type": "markdown",
      "id": "297fa7e1",
      "metadata": {
        "id": "297fa7e1"
      },
      "source": [
        "Из напечатанной таблицы видим, что у нас нет клеток, где ожидаемое число значений меньше 5, поэтому критерий применим. Значение p-value меньше 0.05, поэтому гипотеза о независимости пола и браузера отвергается."
      ]
    },
    {
      "cell_type": "markdown",
      "id": "8c22f51b",
      "metadata": {
        "id": "8c22f51b"
      },
      "source": [
        "---\n",
        "---\n",
        "---\n",
        "---\n",
        "---\n",
        "---\n",
        "---\n",
        "\n",
        "Скачаем <a href=\"http://archive.ics.uci.edu/ml/datasets/Bank+Marketing\">данные</a> маркетинговых кампаний португальского банковского учреждения. Цель задачи &mdash; с целью дальнейшего исследования понять, какие условия (среди 20 признаков) влияют на подписание клиентом срочного депозита (величина $y$). Выполним задачу двумя способами:\n",
        "\n",
        "* методами анализа зависимостей, выяснив, какие характеристики клиента оказывают влияние на целевую переменную, и указав степень влияния;\n",
        "\n",
        "* вычислив важность признаков, полученной с помощью Random Forest, разбив предварительно данные на обучающую и тестовую части."
      ]
    },
    {
      "cell_type": "code",
      "execution_count": null,
      "id": "c42ba5fc",
      "metadata": {
        "ExecuteTime": {
          "end_time": "2022-11-22T15:50:56.992265Z",
          "start_time": "2022-11-22T15:50:56.963298Z"
        },
        "id": "c42ba5fc",
        "outputId": "49169a9f-dd77-41cf-a2b5-6b136173d7a6"
      },
      "outputs": [
        {
          "data": {
            "text/html": [
              "<div>\n",
              "<style scoped>\n",
              "    .dataframe tbody tr th:only-of-type {\n",
              "        vertical-align: middle;\n",
              "    }\n",
              "\n",
              "    .dataframe tbody tr th {\n",
              "        vertical-align: top;\n",
              "    }\n",
              "\n",
              "    .dataframe thead th {\n",
              "        text-align: right;\n",
              "    }\n",
              "</style>\n",
              "<table border=\"1\" class=\"dataframe\">\n",
              "  <thead>\n",
              "    <tr style=\"text-align: right;\">\n",
              "      <th></th>\n",
              "      <th>age</th>\n",
              "      <th>job</th>\n",
              "      <th>marital</th>\n",
              "      <th>education</th>\n",
              "      <th>default</th>\n",
              "      <th>housing</th>\n",
              "      <th>loan</th>\n",
              "      <th>contact</th>\n",
              "      <th>month</th>\n",
              "      <th>day_of_week</th>\n",
              "      <th>...</th>\n",
              "      <th>campaign</th>\n",
              "      <th>pdays</th>\n",
              "      <th>previous</th>\n",
              "      <th>poutcome</th>\n",
              "      <th>emp.var.rate</th>\n",
              "      <th>cons.price.idx</th>\n",
              "      <th>cons.conf.idx</th>\n",
              "      <th>euribor3m</th>\n",
              "      <th>nr.employed</th>\n",
              "      <th>y</th>\n",
              "    </tr>\n",
              "  </thead>\n",
              "  <tbody>\n",
              "    <tr>\n",
              "      <th>0</th>\n",
              "      <td>30</td>\n",
              "      <td>blue-collar</td>\n",
              "      <td>married</td>\n",
              "      <td>basic.9y</td>\n",
              "      <td>no</td>\n",
              "      <td>yes</td>\n",
              "      <td>no</td>\n",
              "      <td>cellular</td>\n",
              "      <td>may</td>\n",
              "      <td>fri</td>\n",
              "      <td>...</td>\n",
              "      <td>2</td>\n",
              "      <td>999</td>\n",
              "      <td>0</td>\n",
              "      <td>nonexistent</td>\n",
              "      <td>-1.8</td>\n",
              "      <td>92.893</td>\n",
              "      <td>-46.2</td>\n",
              "      <td>1.313</td>\n",
              "      <td>5099.1</td>\n",
              "      <td>no</td>\n",
              "    </tr>\n",
              "    <tr>\n",
              "      <th>1</th>\n",
              "      <td>39</td>\n",
              "      <td>services</td>\n",
              "      <td>single</td>\n",
              "      <td>high.school</td>\n",
              "      <td>no</td>\n",
              "      <td>no</td>\n",
              "      <td>no</td>\n",
              "      <td>telephone</td>\n",
              "      <td>may</td>\n",
              "      <td>fri</td>\n",
              "      <td>...</td>\n",
              "      <td>4</td>\n",
              "      <td>999</td>\n",
              "      <td>0</td>\n",
              "      <td>nonexistent</td>\n",
              "      <td>1.1</td>\n",
              "      <td>93.994</td>\n",
              "      <td>-36.4</td>\n",
              "      <td>4.855</td>\n",
              "      <td>5191.0</td>\n",
              "      <td>no</td>\n",
              "    </tr>\n",
              "    <tr>\n",
              "      <th>2</th>\n",
              "      <td>25</td>\n",
              "      <td>services</td>\n",
              "      <td>married</td>\n",
              "      <td>high.school</td>\n",
              "      <td>no</td>\n",
              "      <td>yes</td>\n",
              "      <td>no</td>\n",
              "      <td>telephone</td>\n",
              "      <td>jun</td>\n",
              "      <td>wed</td>\n",
              "      <td>...</td>\n",
              "      <td>1</td>\n",
              "      <td>999</td>\n",
              "      <td>0</td>\n",
              "      <td>nonexistent</td>\n",
              "      <td>1.4</td>\n",
              "      <td>94.465</td>\n",
              "      <td>-41.8</td>\n",
              "      <td>4.962</td>\n",
              "      <td>5228.1</td>\n",
              "      <td>no</td>\n",
              "    </tr>\n",
              "    <tr>\n",
              "      <th>3</th>\n",
              "      <td>38</td>\n",
              "      <td>services</td>\n",
              "      <td>married</td>\n",
              "      <td>basic.9y</td>\n",
              "      <td>no</td>\n",
              "      <td>unknown</td>\n",
              "      <td>unknown</td>\n",
              "      <td>telephone</td>\n",
              "      <td>jun</td>\n",
              "      <td>fri</td>\n",
              "      <td>...</td>\n",
              "      <td>3</td>\n",
              "      <td>999</td>\n",
              "      <td>0</td>\n",
              "      <td>nonexistent</td>\n",
              "      <td>1.4</td>\n",
              "      <td>94.465</td>\n",
              "      <td>-41.8</td>\n",
              "      <td>4.959</td>\n",
              "      <td>5228.1</td>\n",
              "      <td>no</td>\n",
              "    </tr>\n",
              "    <tr>\n",
              "      <th>4</th>\n",
              "      <td>47</td>\n",
              "      <td>admin.</td>\n",
              "      <td>married</td>\n",
              "      <td>university.degree</td>\n",
              "      <td>no</td>\n",
              "      <td>yes</td>\n",
              "      <td>no</td>\n",
              "      <td>cellular</td>\n",
              "      <td>nov</td>\n",
              "      <td>mon</td>\n",
              "      <td>...</td>\n",
              "      <td>1</td>\n",
              "      <td>999</td>\n",
              "      <td>0</td>\n",
              "      <td>nonexistent</td>\n",
              "      <td>-0.1</td>\n",
              "      <td>93.200</td>\n",
              "      <td>-42.0</td>\n",
              "      <td>4.191</td>\n",
              "      <td>5195.8</td>\n",
              "      <td>no</td>\n",
              "    </tr>\n",
              "  </tbody>\n",
              "</table>\n",
              "<p>5 rows × 21 columns</p>\n",
              "</div>"
            ],
            "text/plain": [
              "   age          job  marital          education default  housing     loan  \\\n",
              "0   30  blue-collar  married           basic.9y      no      yes       no   \n",
              "1   39     services   single        high.school      no       no       no   \n",
              "2   25     services  married        high.school      no      yes       no   \n",
              "3   38     services  married           basic.9y      no  unknown  unknown   \n",
              "4   47       admin.  married  university.degree      no      yes       no   \n",
              "\n",
              "     contact month day_of_week  ...  campaign  pdays  previous     poutcome  \\\n",
              "0   cellular   may         fri  ...         2    999         0  nonexistent   \n",
              "1  telephone   may         fri  ...         4    999         0  nonexistent   \n",
              "2  telephone   jun         wed  ...         1    999         0  nonexistent   \n",
              "3  telephone   jun         fri  ...         3    999         0  nonexistent   \n",
              "4   cellular   nov         mon  ...         1    999         0  nonexistent   \n",
              "\n",
              "  emp.var.rate  cons.price.idx  cons.conf.idx  euribor3m  nr.employed   y  \n",
              "0         -1.8          92.893          -46.2      1.313       5099.1  no  \n",
              "1          1.1          93.994          -36.4      4.855       5191.0  no  \n",
              "2          1.4          94.465          -41.8      4.962       5228.1  no  \n",
              "3          1.4          94.465          -41.8      4.959       5228.1  no  \n",
              "4         -0.1          93.200          -42.0      4.191       5195.8  no  \n",
              "\n",
              "[5 rows x 21 columns]"
            ]
          },
          "execution_count": 19,
          "metadata": {},
          "output_type": "execute_result"
        }
      ],
      "source": [
        "data = pd.read_csv('./bank-additional.csv', sep=';')\n",
        "data.head()"
      ]
    },
    {
      "cell_type": "markdown",
      "id": "fa018189",
      "metadata": {
        "id": "fa018189"
      },
      "source": [
        "Выделим отдельно целевую переменную"
      ]
    },
    {
      "cell_type": "code",
      "execution_count": null,
      "id": "2b586f3c",
      "metadata": {
        "ExecuteTime": {
          "end_time": "2022-11-22T15:50:57.002411Z",
          "start_time": "2022-11-22T15:50:56.993586Z"
        },
        "id": "2b586f3c"
      },
      "outputs": [],
      "source": [
        "y = data['y']\n",
        "data.drop(columns='y', inplace=True)"
      ]
    },
    {
      "cell_type": "markdown",
      "id": "0b328449",
      "metadata": {
        "id": "0b328449"
      },
      "source": [
        "Разделим данные на обучающую и тестовую части."
      ]
    },
    {
      "cell_type": "code",
      "execution_count": null,
      "id": "94173052",
      "metadata": {
        "ExecuteTime": {
          "end_time": "2022-11-22T15:50:57.013637Z",
          "start_time": "2022-11-22T15:50:57.003724Z"
        },
        "id": "94173052"
      },
      "outputs": [],
      "source": [
        "X_train, X_test, y_train, y_test = train_test_split(data, y, test_size=0.25, random_state=1)"
      ]
    },
    {
      "cell_type": "markdown",
      "id": "dee95cba",
      "metadata": {
        "id": "dee95cba"
      },
      "source": [
        "**1. Критерий хи-квадрат для таблиц сопряженности.**\n",
        "\n",
        "В данных есть и непрерывные, и категориальные признаки. При этом отклик является категориальным. Поэтому будем применять критерий хи-квадрат, предварительно бинаризовав вещественные признаки."
      ]
    },
    {
      "cell_type": "markdown",
      "id": "9b183dba",
      "metadata": {
        "id": "9b183dba"
      },
      "source": [
        "*1.1 Категориальные признаки*\n",
        "\n",
        "Сначала разберемся с категориальными признаками. Проверим условие применимости критерия для всех признаков."
      ]
    },
    {
      "cell_type": "code",
      "execution_count": null,
      "id": "44400d01",
      "metadata": {
        "ExecuteTime": {
          "end_time": "2022-11-22T15:50:57.020436Z",
          "start_time": "2022-11-22T15:50:57.015132Z"
        },
        "id": "44400d01"
      },
      "outputs": [],
      "source": [
        "def check_applicability(features, y):\n",
        "    '''\n",
        "    Для каждого категориального признака проверяет условие применимости критерия хи-квадрат\n",
        "    при проверке гипотезы о его независимости с целевой переменной.\n",
        "\n",
        "    features -- значения категориальных признаков\n",
        "    y -- целевая переменная\n",
        "    '''\n",
        "\n",
        "    result = defaultdict(list)\n",
        "\n",
        "    for feature in features:\n",
        "        _, _, _, expected = sps.chi2_contingency(pd.crosstab(X_train[feature], y))\n",
        "        result['Признак'].append(feature)\n",
        "        mean = (expected < 5).mean()\n",
        "        result['Кол-во ячеек с ожидаемым < 5'].append(mean)\n",
        "        result['Критерий применим'].append(mean < 0.2)\n",
        "\n",
        "    display(pd.DataFrame(result))"
      ]
    },
    {
      "cell_type": "markdown",
      "id": "06c983bd",
      "metadata": {
        "id": "06c983bd"
      },
      "source": [
        "Проверим условия применимости для всех категориальных признаков"
      ]
    },
    {
      "cell_type": "code",
      "execution_count": null,
      "id": "5faafa5d",
      "metadata": {
        "ExecuteTime": {
          "end_time": "2022-11-22T15:50:57.142956Z",
          "start_time": "2022-11-22T15:50:57.023230Z"
        },
        "id": "5faafa5d",
        "outputId": "a2769593-ec16-4b72-c1c7-f32c5f8071d4"
      },
      "outputs": [
        {
          "data": {
            "text/html": [
              "<div>\n",
              "<style scoped>\n",
              "    .dataframe tbody tr th:only-of-type {\n",
              "        vertical-align: middle;\n",
              "    }\n",
              "\n",
              "    .dataframe tbody tr th {\n",
              "        vertical-align: top;\n",
              "    }\n",
              "\n",
              "    .dataframe thead th {\n",
              "        text-align: right;\n",
              "    }\n",
              "</style>\n",
              "<table border=\"1\" class=\"dataframe\">\n",
              "  <thead>\n",
              "    <tr style=\"text-align: right;\">\n",
              "      <th></th>\n",
              "      <th>Признак</th>\n",
              "      <th>Кол-во ячеек с ожидаемым &lt; 5</th>\n",
              "      <th>Критерий применим</th>\n",
              "    </tr>\n",
              "  </thead>\n",
              "  <tbody>\n",
              "    <tr>\n",
              "      <th>0</th>\n",
              "      <td>job</td>\n",
              "      <td>0.041667</td>\n",
              "      <td>True</td>\n",
              "    </tr>\n",
              "    <tr>\n",
              "      <th>1</th>\n",
              "      <td>marital</td>\n",
              "      <td>0.125000</td>\n",
              "      <td>True</td>\n",
              "    </tr>\n",
              "    <tr>\n",
              "      <th>2</th>\n",
              "      <td>education</td>\n",
              "      <td>0.125000</td>\n",
              "      <td>True</td>\n",
              "    </tr>\n",
              "    <tr>\n",
              "      <th>3</th>\n",
              "      <td>default</td>\n",
              "      <td>0.333333</td>\n",
              "      <td>False</td>\n",
              "    </tr>\n",
              "    <tr>\n",
              "      <th>4</th>\n",
              "      <td>housing</td>\n",
              "      <td>0.000000</td>\n",
              "      <td>True</td>\n",
              "    </tr>\n",
              "    <tr>\n",
              "      <th>5</th>\n",
              "      <td>loan</td>\n",
              "      <td>0.000000</td>\n",
              "      <td>True</td>\n",
              "    </tr>\n",
              "    <tr>\n",
              "      <th>6</th>\n",
              "      <td>contact</td>\n",
              "      <td>0.000000</td>\n",
              "      <td>True</td>\n",
              "    </tr>\n",
              "    <tr>\n",
              "      <th>7</th>\n",
              "      <td>month</td>\n",
              "      <td>0.100000</td>\n",
              "      <td>True</td>\n",
              "    </tr>\n",
              "    <tr>\n",
              "      <th>8</th>\n",
              "      <td>day_of_week</td>\n",
              "      <td>0.000000</td>\n",
              "      <td>True</td>\n",
              "    </tr>\n",
              "    <tr>\n",
              "      <th>9</th>\n",
              "      <td>poutcome</td>\n",
              "      <td>0.000000</td>\n",
              "      <td>True</td>\n",
              "    </tr>\n",
              "  </tbody>\n",
              "</table>\n",
              "</div>"
            ],
            "text/plain": [
              "       Признак  Кол-во ячеек с ожидаемым < 5  Критерий применим\n",
              "0          job                      0.041667               True\n",
              "1      marital                      0.125000               True\n",
              "2    education                      0.125000               True\n",
              "3      default                      0.333333              False\n",
              "4      housing                      0.000000               True\n",
              "5         loan                      0.000000               True\n",
              "6      contact                      0.000000               True\n",
              "7        month                      0.100000               True\n",
              "8  day_of_week                      0.000000               True\n",
              "9     poutcome                      0.000000               True"
            ]
          },
          "metadata": {},
          "output_type": "display_data"
        }
      ],
      "source": [
        "categorical_features = X_train.columns[X_train.dtypes == object]\n",
        "\n",
        "check_applicability(categorical_features, y_train)"
      ]
    },
    {
      "cell_type": "markdown",
      "id": "aa4b1014",
      "metadata": {
        "id": "aa4b1014"
      },
      "source": [
        "Как видим, критерий применим ко всем признакам, кроме `default`.\n",
        "\n",
        "Посмотрим, какие значения принимает этот признак. Всего одно значение `yes`!`"
      ]
    },
    {
      "cell_type": "code",
      "execution_count": null,
      "id": "d4ba324f",
      "metadata": {
        "ExecuteTime": {
          "end_time": "2022-11-22T15:50:57.154791Z",
          "start_time": "2022-11-22T15:50:57.145852Z"
        },
        "id": "d4ba324f",
        "outputId": "5445106c-0664-4dea-a81f-755e89d590f3"
      },
      "outputs": [
        {
          "data": {
            "text/plain": [
              "(array(['no', 'unknown', 'yes'], dtype=object), array([2479,  609,    1]))"
            ]
          },
          "execution_count": 24,
          "metadata": {},
          "output_type": "execute_result"
        }
      ],
      "source": [
        "np.unique(X_train['default'], return_counts=True)"
      ]
    },
    {
      "cell_type": "markdown",
      "id": "a3d823d0",
      "metadata": {
        "id": "a3d823d0"
      },
      "source": [
        "Заглянем в тест, а тут `yes` вообще нет"
      ]
    },
    {
      "cell_type": "code",
      "execution_count": null,
      "id": "9ff55c9d",
      "metadata": {
        "ExecuteTime": {
          "end_time": "2022-11-22T15:50:57.164691Z",
          "start_time": "2022-11-22T15:50:57.156195Z"
        },
        "id": "9ff55c9d",
        "outputId": "e367c5d9-9125-4f47-f344-e7bd8fed281f"
      },
      "outputs": [
        {
          "data": {
            "text/plain": [
              "(array(['no', 'unknown'], dtype=object), array([836, 194]))"
            ]
          },
          "execution_count": 25,
          "metadata": {},
          "output_type": "execute_result"
        }
      ],
      "source": [
        "np.unique(X_test['default'], return_counts=True)"
      ]
    },
    {
      "cell_type": "markdown",
      "id": "7e473645",
      "metadata": {
        "id": "7e473645"
      },
      "source": [
        "Кажется, пользы от одного `yes` вообще никакой нет. Заменим его на `unknown`."
      ]
    },
    {
      "cell_type": "code",
      "execution_count": null,
      "id": "ddfbaecd",
      "metadata": {
        "ExecuteTime": {
          "end_time": "2022-11-22T15:50:57.174959Z",
          "start_time": "2022-11-22T15:50:57.166237Z"
        },
        "id": "ddfbaecd"
      },
      "outputs": [],
      "source": [
        "X_train.loc[X_train['default'] == 'yes', 'default'] = 'unknown'\n",
        "X_test.loc[X_test['default'] == 'yes', 'default'] = 'unknown'"
      ]
    },
    {
      "cell_type": "markdown",
      "id": "dde26c0a",
      "metadata": {
        "id": "dde26c0a"
      },
      "source": [
        "И проверим снова"
      ]
    },
    {
      "cell_type": "code",
      "execution_count": null,
      "id": "bc8cd428",
      "metadata": {
        "ExecuteTime": {
          "end_time": "2022-11-22T15:50:57.288953Z",
          "start_time": "2022-11-22T15:50:57.176243Z"
        },
        "id": "bc8cd428",
        "outputId": "3d5904ea-f759-4a5e-91fe-498ba2992e23"
      },
      "outputs": [
        {
          "data": {
            "text/html": [
              "<div>\n",
              "<style scoped>\n",
              "    .dataframe tbody tr th:only-of-type {\n",
              "        vertical-align: middle;\n",
              "    }\n",
              "\n",
              "    .dataframe tbody tr th {\n",
              "        vertical-align: top;\n",
              "    }\n",
              "\n",
              "    .dataframe thead th {\n",
              "        text-align: right;\n",
              "    }\n",
              "</style>\n",
              "<table border=\"1\" class=\"dataframe\">\n",
              "  <thead>\n",
              "    <tr style=\"text-align: right;\">\n",
              "      <th></th>\n",
              "      <th>Признак</th>\n",
              "      <th>Кол-во ячеек с ожидаемым &lt; 5</th>\n",
              "      <th>Критерий применим</th>\n",
              "    </tr>\n",
              "  </thead>\n",
              "  <tbody>\n",
              "    <tr>\n",
              "      <th>0</th>\n",
              "      <td>job</td>\n",
              "      <td>0.041667</td>\n",
              "      <td>True</td>\n",
              "    </tr>\n",
              "    <tr>\n",
              "      <th>1</th>\n",
              "      <td>marital</td>\n",
              "      <td>0.125000</td>\n",
              "      <td>True</td>\n",
              "    </tr>\n",
              "    <tr>\n",
              "      <th>2</th>\n",
              "      <td>education</td>\n",
              "      <td>0.125000</td>\n",
              "      <td>True</td>\n",
              "    </tr>\n",
              "    <tr>\n",
              "      <th>3</th>\n",
              "      <td>default</td>\n",
              "      <td>0.000000</td>\n",
              "      <td>True</td>\n",
              "    </tr>\n",
              "    <tr>\n",
              "      <th>4</th>\n",
              "      <td>housing</td>\n",
              "      <td>0.000000</td>\n",
              "      <td>True</td>\n",
              "    </tr>\n",
              "    <tr>\n",
              "      <th>5</th>\n",
              "      <td>loan</td>\n",
              "      <td>0.000000</td>\n",
              "      <td>True</td>\n",
              "    </tr>\n",
              "    <tr>\n",
              "      <th>6</th>\n",
              "      <td>contact</td>\n",
              "      <td>0.000000</td>\n",
              "      <td>True</td>\n",
              "    </tr>\n",
              "    <tr>\n",
              "      <th>7</th>\n",
              "      <td>month</td>\n",
              "      <td>0.100000</td>\n",
              "      <td>True</td>\n",
              "    </tr>\n",
              "    <tr>\n",
              "      <th>8</th>\n",
              "      <td>day_of_week</td>\n",
              "      <td>0.000000</td>\n",
              "      <td>True</td>\n",
              "    </tr>\n",
              "    <tr>\n",
              "      <th>9</th>\n",
              "      <td>poutcome</td>\n",
              "      <td>0.000000</td>\n",
              "      <td>True</td>\n",
              "    </tr>\n",
              "  </tbody>\n",
              "</table>\n",
              "</div>"
            ],
            "text/plain": [
              "       Признак  Кол-во ячеек с ожидаемым < 5  Критерий применим\n",
              "0          job                      0.041667               True\n",
              "1      marital                      0.125000               True\n",
              "2    education                      0.125000               True\n",
              "3      default                      0.000000               True\n",
              "4      housing                      0.000000               True\n",
              "5         loan                      0.000000               True\n",
              "6      contact                      0.000000               True\n",
              "7        month                      0.100000               True\n",
              "8  day_of_week                      0.000000               True\n",
              "9     poutcome                      0.000000               True"
            ]
          },
          "metadata": {},
          "output_type": "display_data"
        }
      ],
      "source": [
        "check_applicability(categorical_features, y_train)"
      ]
    },
    {
      "cell_type": "markdown",
      "id": "484f9ae0",
      "metadata": {
        "id": "484f9ae0"
      },
      "source": [
        "*1.2 Вещественные признаки*\n",
        "\n",
        "\n",
        "Теперь разберемся с вещественными признаками. Разобьем на группы по квантилями."
      ]
    },
    {
      "cell_type": "code",
      "execution_count": null,
      "id": "dfa1f2c7",
      "metadata": {
        "ExecuteTime": {
          "end_time": "2022-11-22T15:50:57.320182Z",
          "start_time": "2022-11-22T15:50:57.290711Z"
        },
        "id": "dfa1f2c7"
      },
      "outputs": [],
      "source": [
        "n_bins = 5  # количество бинов разбиения вещественного признака\n",
        "\n",
        "# вещественные признаки\n",
        "real_features = X_train.columns[X_train.dtypes != object]\n",
        "\n",
        "for feature in real_features:\n",
        "    # рразбиваем признак\n",
        "    quantiles = np.quantile(X_train[feature], np.linspace(0, 1, n_bins + 1))\n",
        "    # добавляем его в данные\n",
        "    X_train.insert(\n",
        "        len(X_train.columns), f'{feature}_binarized',\n",
        "        pd.cut(X_train[feature], quantiles, duplicates='drop'),\n",
        "    )"
      ]
    },
    {
      "cell_type": "markdown",
      "id": "d2f6d407",
      "metadata": {
        "id": "d2f6d407"
      },
      "source": [
        "Проверим применимость критерия хи-квадрат"
      ]
    },
    {
      "cell_type": "code",
      "execution_count": null,
      "id": "08c6f498",
      "metadata": {
        "ExecuteTime": {
          "end_time": "2022-11-22T15:50:57.547359Z",
          "start_time": "2022-11-22T15:50:57.321856Z"
        },
        "id": "08c6f498",
        "outputId": "05f7adfb-d603-40bf-f06a-1eddc7b19b86"
      },
      "outputs": [
        {
          "data": {
            "text/html": [
              "<div>\n",
              "<style scoped>\n",
              "    .dataframe tbody tr th:only-of-type {\n",
              "        vertical-align: middle;\n",
              "    }\n",
              "\n",
              "    .dataframe tbody tr th {\n",
              "        vertical-align: top;\n",
              "    }\n",
              "\n",
              "    .dataframe thead th {\n",
              "        text-align: right;\n",
              "    }\n",
              "</style>\n",
              "<table border=\"1\" class=\"dataframe\">\n",
              "  <thead>\n",
              "    <tr style=\"text-align: right;\">\n",
              "      <th></th>\n",
              "      <th>Признак</th>\n",
              "      <th>Кол-во ячеек с ожидаемым &lt; 5</th>\n",
              "      <th>Критерий применим</th>\n",
              "    </tr>\n",
              "  </thead>\n",
              "  <tbody>\n",
              "    <tr>\n",
              "      <th>0</th>\n",
              "      <td>age_binarized</td>\n",
              "      <td>0.000000</td>\n",
              "      <td>True</td>\n",
              "    </tr>\n",
              "    <tr>\n",
              "      <th>1</th>\n",
              "      <td>campaign_binarized</td>\n",
              "      <td>0.000000</td>\n",
              "      <td>True</td>\n",
              "    </tr>\n",
              "    <tr>\n",
              "      <th>2</th>\n",
              "      <td>cons.conf.idx_binarized</td>\n",
              "      <td>0.000000</td>\n",
              "      <td>True</td>\n",
              "    </tr>\n",
              "    <tr>\n",
              "      <th>3</th>\n",
              "      <td>cons.price.idx_binarized</td>\n",
              "      <td>0.000000</td>\n",
              "      <td>True</td>\n",
              "    </tr>\n",
              "    <tr>\n",
              "      <th>4</th>\n",
              "      <td>contact</td>\n",
              "      <td>0.000000</td>\n",
              "      <td>True</td>\n",
              "    </tr>\n",
              "    <tr>\n",
              "      <th>5</th>\n",
              "      <td>day_of_week</td>\n",
              "      <td>0.000000</td>\n",
              "      <td>True</td>\n",
              "    </tr>\n",
              "    <tr>\n",
              "      <th>6</th>\n",
              "      <td>default</td>\n",
              "      <td>0.000000</td>\n",
              "      <td>True</td>\n",
              "    </tr>\n",
              "    <tr>\n",
              "      <th>7</th>\n",
              "      <td>duration_binarized</td>\n",
              "      <td>0.000000</td>\n",
              "      <td>True</td>\n",
              "    </tr>\n",
              "    <tr>\n",
              "      <th>8</th>\n",
              "      <td>education</td>\n",
              "      <td>0.125000</td>\n",
              "      <td>True</td>\n",
              "    </tr>\n",
              "    <tr>\n",
              "      <th>9</th>\n",
              "      <td>emp.var.rate_binarized</td>\n",
              "      <td>0.000000</td>\n",
              "      <td>True</td>\n",
              "    </tr>\n",
              "    <tr>\n",
              "      <th>10</th>\n",
              "      <td>euribor3m_binarized</td>\n",
              "      <td>0.000000</td>\n",
              "      <td>True</td>\n",
              "    </tr>\n",
              "    <tr>\n",
              "      <th>11</th>\n",
              "      <td>housing</td>\n",
              "      <td>0.000000</td>\n",
              "      <td>True</td>\n",
              "    </tr>\n",
              "    <tr>\n",
              "      <th>12</th>\n",
              "      <td>job</td>\n",
              "      <td>0.041667</td>\n",
              "      <td>True</td>\n",
              "    </tr>\n",
              "    <tr>\n",
              "      <th>13</th>\n",
              "      <td>loan</td>\n",
              "      <td>0.000000</td>\n",
              "      <td>True</td>\n",
              "    </tr>\n",
              "    <tr>\n",
              "      <th>14</th>\n",
              "      <td>marital</td>\n",
              "      <td>0.125000</td>\n",
              "      <td>True</td>\n",
              "    </tr>\n",
              "    <tr>\n",
              "      <th>15</th>\n",
              "      <td>month</td>\n",
              "      <td>0.100000</td>\n",
              "      <td>True</td>\n",
              "    </tr>\n",
              "    <tr>\n",
              "      <th>16</th>\n",
              "      <td>nr.employed_binarized</td>\n",
              "      <td>0.000000</td>\n",
              "      <td>True</td>\n",
              "    </tr>\n",
              "    <tr>\n",
              "      <th>17</th>\n",
              "      <td>pdays_binarized</td>\n",
              "      <td>0.000000</td>\n",
              "      <td>True</td>\n",
              "    </tr>\n",
              "    <tr>\n",
              "      <th>18</th>\n",
              "      <td>poutcome</td>\n",
              "      <td>0.000000</td>\n",
              "      <td>True</td>\n",
              "    </tr>\n",
              "    <tr>\n",
              "      <th>19</th>\n",
              "      <td>previous_binarized</td>\n",
              "      <td>0.000000</td>\n",
              "      <td>True</td>\n",
              "    </tr>\n",
              "  </tbody>\n",
              "</table>\n",
              "</div>"
            ],
            "text/plain": [
              "                     Признак  Кол-во ячеек с ожидаемым < 5  Критерий применим\n",
              "0              age_binarized                      0.000000               True\n",
              "1         campaign_binarized                      0.000000               True\n",
              "2    cons.conf.idx_binarized                      0.000000               True\n",
              "3   cons.price.idx_binarized                      0.000000               True\n",
              "4                    contact                      0.000000               True\n",
              "5                day_of_week                      0.000000               True\n",
              "6                    default                      0.000000               True\n",
              "7         duration_binarized                      0.000000               True\n",
              "8                  education                      0.125000               True\n",
              "9     emp.var.rate_binarized                      0.000000               True\n",
              "10       euribor3m_binarized                      0.000000               True\n",
              "11                   housing                      0.000000               True\n",
              "12                       job                      0.041667               True\n",
              "13                      loan                      0.000000               True\n",
              "14                   marital                      0.125000               True\n",
              "15                     month                      0.100000               True\n",
              "16     nr.employed_binarized                      0.000000               True\n",
              "17           pdays_binarized                      0.000000               True\n",
              "18                  poutcome                      0.000000               True\n",
              "19        previous_binarized                      0.000000               True"
            ]
          },
          "metadata": {},
          "output_type": "display_data"
        }
      ],
      "source": [
        "all_features = categorical_features.union(real_features + '_binarized')\n",
        "\n",
        "check_applicability(all_features, y_train)"
      ]
    },
    {
      "cell_type": "markdown",
      "id": "059c5210",
      "metadata": {
        "id": "059c5210"
      },
      "source": [
        "Как видим, ко всем полученным признакам критерий хи-квадрат применим.\n",
        "\n",
        "*1.3 Применение критерия*\n",
        "\n",
        "\n",
        "Реализуем функцию, вычисляющую коэффициент корреляции Крамера."
      ]
    },
    {
      "cell_type": "code",
      "execution_count": null,
      "id": "e09f9f17",
      "metadata": {
        "ExecuteTime": {
          "end_time": "2022-11-22T15:50:57.555571Z",
          "start_time": "2022-11-22T15:50:57.548976Z"
        },
        "id": "e09f9f17"
      },
      "outputs": [],
      "source": [
        "def cramer(chi2, n, k1, k2):\n",
        "    ''' Вычисляет коэффициент корреляции Крамера. '''\n",
        "    return np.sqrt(chi2 / (n * min(k1, k2) - 1))"
      ]
    },
    {
      "cell_type": "markdown",
      "id": "505446be",
      "metadata": {
        "id": "505446be"
      },
      "source": [
        "Для каждого признака составим таблицу &mdash; признак, значение статистики критерия хи-квадрат, коэффициент корреляции Крамера, p-value критерия."
      ]
    },
    {
      "cell_type": "code",
      "execution_count": null,
      "id": "8f0e9e24",
      "metadata": {
        "ExecuteTime": {
          "end_time": "2022-11-22T15:50:57.768487Z",
          "start_time": "2022-11-22T15:50:57.557255Z"
        },
        "id": "8f0e9e24"
      },
      "outputs": [],
      "source": [
        "result = defaultdict(list)\n",
        "\n",
        "for feature in all_features:\n",
        "    obs = pd.crosstab(X_train[feature], y_train)\n",
        "    chi2, p, dof, expected = sps.chi2_contingency(obs)\n",
        "    result['Признак'].append(feature)\n",
        "    result['$\\chi^2$'].append(np.round(chi2, 3))\n",
        "    result['Коэффициент Крамера'].append(cramer(chi2, len(X_train), 2, dof + 1))\n",
        "    result['p-value'].append(np.round(p, 3))"
      ]
    },
    {
      "cell_type": "markdown",
      "id": "bcce377e",
      "metadata": {
        "id": "bcce377e"
      },
      "source": [
        "Применим коррекцию на множественное тестирование. Поскольку мы хотим отобрать признаки с целью дальнейшего анализа, то используем метод Бенджамини-Иекутиелли, контролируя FDR на уровне 0.1."
      ]
    },
    {
      "cell_type": "code",
      "execution_count": null,
      "id": "518c0d27",
      "metadata": {
        "ExecuteTime": {
          "end_time": "2022-11-22T15:50:57.773140Z",
          "start_time": "2022-11-22T15:50:57.770045Z"
        },
        "id": "518c0d27"
      },
      "outputs": [],
      "source": [
        "reject_after_correction, corrected_pvalue, _, _ = multipletests(\n",
        "    result['p-value'], alpha=0.1, method='fdr_by',\n",
        ")\n",
        "\n",
        "result['Скорректированный p-value'] = corrected_pvalue\n",
        "result['Отвержение'] = reject_after_correction"
      ]
    },
    {
      "cell_type": "markdown",
      "id": "a8af158a",
      "metadata": {
        "id": "a8af158a"
      },
      "source": [
        "Посмотрим на результат"
      ]
    },
    {
      "cell_type": "code",
      "execution_count": null,
      "id": "878d1da5",
      "metadata": {
        "ExecuteTime": {
          "end_time": "2022-11-22T15:50:57.793885Z",
          "start_time": "2022-11-22T15:50:57.774616Z"
        },
        "id": "878d1da5",
        "outputId": "9568f7c0-c746-4e0e-a2d0-051fc768db9a"
      },
      "outputs": [
        {
          "data": {
            "text/html": [
              "<div>\n",
              "<style scoped>\n",
              "    .dataframe tbody tr th:only-of-type {\n",
              "        vertical-align: middle;\n",
              "    }\n",
              "\n",
              "    .dataframe tbody tr th {\n",
              "        vertical-align: top;\n",
              "    }\n",
              "\n",
              "    .dataframe thead th {\n",
              "        text-align: right;\n",
              "    }\n",
              "</style>\n",
              "<table border=\"1\" class=\"dataframe\">\n",
              "  <thead>\n",
              "    <tr style=\"text-align: right;\">\n",
              "      <th></th>\n",
              "      <th>Признак</th>\n",
              "      <th>$\\chi^2$</th>\n",
              "      <th>Коэффициент Крамера</th>\n",
              "      <th>p-value</th>\n",
              "      <th>Скорректированный p-value</th>\n",
              "      <th>Отвержение</th>\n",
              "    </tr>\n",
              "  </thead>\n",
              "  <tbody>\n",
              "    <tr>\n",
              "      <th>0</th>\n",
              "      <td>age_binarized</td>\n",
              "      <td>25.095</td>\n",
              "      <td>0.063739</td>\n",
              "      <td>0.000</td>\n",
              "      <td>0.000000</td>\n",
              "      <td>True</td>\n",
              "    </tr>\n",
              "    <tr>\n",
              "      <th>1</th>\n",
              "      <td>campaign_binarized</td>\n",
              "      <td>6.640</td>\n",
              "      <td>0.032786</td>\n",
              "      <td>0.036</td>\n",
              "      <td>0.172692</td>\n",
              "      <td>False</td>\n",
              "    </tr>\n",
              "    <tr>\n",
              "      <th>2</th>\n",
              "      <td>cons.conf.idx_binarized</td>\n",
              "      <td>42.186</td>\n",
              "      <td>0.082641</td>\n",
              "      <td>0.000</td>\n",
              "      <td>0.000000</td>\n",
              "      <td>True</td>\n",
              "    </tr>\n",
              "    <tr>\n",
              "      <th>3</th>\n",
              "      <td>cons.price.idx_binarized</td>\n",
              "      <td>94.276</td>\n",
              "      <td>0.123542</td>\n",
              "      <td>0.000</td>\n",
              "      <td>0.000000</td>\n",
              "      <td>True</td>\n",
              "    </tr>\n",
              "    <tr>\n",
              "      <th>4</th>\n",
              "      <td>contact</td>\n",
              "      <td>61.981</td>\n",
              "      <td>0.100171</td>\n",
              "      <td>0.000</td>\n",
              "      <td>0.000000</td>\n",
              "      <td>True</td>\n",
              "    </tr>\n",
              "    <tr>\n",
              "      <th>5</th>\n",
              "      <td>day_of_week</td>\n",
              "      <td>2.071</td>\n",
              "      <td>0.018310</td>\n",
              "      <td>0.723</td>\n",
              "      <td>1.000000</td>\n",
              "      <td>False</td>\n",
              "    </tr>\n",
              "    <tr>\n",
              "      <th>6</th>\n",
              "      <td>default</td>\n",
              "      <td>18.028</td>\n",
              "      <td>0.054023</td>\n",
              "      <td>0.000</td>\n",
              "      <td>0.000000</td>\n",
              "      <td>True</td>\n",
              "    </tr>\n",
              "    <tr>\n",
              "      <th>7</th>\n",
              "      <td>duration_binarized</td>\n",
              "      <td>443.698</td>\n",
              "      <td>0.268012</td>\n",
              "      <td>0.000</td>\n",
              "      <td>0.000000</td>\n",
              "      <td>True</td>\n",
              "    </tr>\n",
              "    <tr>\n",
              "      <th>8</th>\n",
              "      <td>education</td>\n",
              "      <td>18.850</td>\n",
              "      <td>0.055241</td>\n",
              "      <td>0.009</td>\n",
              "      <td>0.049815</td>\n",
              "      <td>True</td>\n",
              "    </tr>\n",
              "    <tr>\n",
              "      <th>9</th>\n",
              "      <td>emp.var.rate_binarized</td>\n",
              "      <td>145.980</td>\n",
              "      <td>0.153730</td>\n",
              "      <td>0.000</td>\n",
              "      <td>0.000000</td>\n",
              "      <td>True</td>\n",
              "    </tr>\n",
              "    <tr>\n",
              "      <th>10</th>\n",
              "      <td>euribor3m_binarized</td>\n",
              "      <td>313.676</td>\n",
              "      <td>0.225347</td>\n",
              "      <td>0.000</td>\n",
              "      <td>0.000000</td>\n",
              "      <td>True</td>\n",
              "    </tr>\n",
              "    <tr>\n",
              "      <th>11</th>\n",
              "      <td>housing</td>\n",
              "      <td>0.583</td>\n",
              "      <td>0.009717</td>\n",
              "      <td>0.747</td>\n",
              "      <td>1.000000</td>\n",
              "      <td>False</td>\n",
              "    </tr>\n",
              "    <tr>\n",
              "      <th>12</th>\n",
              "      <td>job</td>\n",
              "      <td>71.831</td>\n",
              "      <td>0.107837</td>\n",
              "      <td>0.000</td>\n",
              "      <td>0.000000</td>\n",
              "      <td>True</td>\n",
              "    </tr>\n",
              "    <tr>\n",
              "      <th>13</th>\n",
              "      <td>loan</td>\n",
              "      <td>2.258</td>\n",
              "      <td>0.019120</td>\n",
              "      <td>0.323</td>\n",
              "      <td>1.000000</td>\n",
              "      <td>False</td>\n",
              "    </tr>\n",
              "    <tr>\n",
              "      <th>14</th>\n",
              "      <td>marital</td>\n",
              "      <td>8.652</td>\n",
              "      <td>0.037426</td>\n",
              "      <td>0.034</td>\n",
              "      <td>0.172692</td>\n",
              "      <td>False</td>\n",
              "    </tr>\n",
              "    <tr>\n",
              "      <th>15</th>\n",
              "      <td>month</td>\n",
              "      <td>225.148</td>\n",
              "      <td>0.190917</td>\n",
              "      <td>0.000</td>\n",
              "      <td>0.000000</td>\n",
              "      <td>True</td>\n",
              "    </tr>\n",
              "    <tr>\n",
              "      <th>16</th>\n",
              "      <td>nr.employed_binarized</td>\n",
              "      <td>223.445</td>\n",
              "      <td>0.190194</td>\n",
              "      <td>0.000</td>\n",
              "      <td>0.000000</td>\n",
              "      <td>True</td>\n",
              "    </tr>\n",
              "    <tr>\n",
              "      <th>17</th>\n",
              "      <td>pdays_binarized</td>\n",
              "      <td>0.000</td>\n",
              "      <td>0.000000</td>\n",
              "      <td>1.000</td>\n",
              "      <td>1.000000</td>\n",
              "      <td>False</td>\n",
              "    </tr>\n",
              "    <tr>\n",
              "      <th>18</th>\n",
              "      <td>poutcome</td>\n",
              "      <td>353.583</td>\n",
              "      <td>0.239253</td>\n",
              "      <td>0.000</td>\n",
              "      <td>0.000000</td>\n",
              "      <td>True</td>\n",
              "    </tr>\n",
              "    <tr>\n",
              "      <th>19</th>\n",
              "      <td>previous_binarized</td>\n",
              "      <td>0.000</td>\n",
              "      <td>0.000000</td>\n",
              "      <td>1.000</td>\n",
              "      <td>1.000000</td>\n",
              "      <td>False</td>\n",
              "    </tr>\n",
              "  </tbody>\n",
              "</table>\n",
              "</div>"
            ],
            "text/plain": [
              "                     Признак  $\\chi^2$  Коэффициент Крамера  p-value  \\\n",
              "0              age_binarized    25.095             0.063739    0.000   \n",
              "1         campaign_binarized     6.640             0.032786    0.036   \n",
              "2    cons.conf.idx_binarized    42.186             0.082641    0.000   \n",
              "3   cons.price.idx_binarized    94.276             0.123542    0.000   \n",
              "4                    contact    61.981             0.100171    0.000   \n",
              "5                day_of_week     2.071             0.018310    0.723   \n",
              "6                    default    18.028             0.054023    0.000   \n",
              "7         duration_binarized   443.698             0.268012    0.000   \n",
              "8                  education    18.850             0.055241    0.009   \n",
              "9     emp.var.rate_binarized   145.980             0.153730    0.000   \n",
              "10       euribor3m_binarized   313.676             0.225347    0.000   \n",
              "11                   housing     0.583             0.009717    0.747   \n",
              "12                       job    71.831             0.107837    0.000   \n",
              "13                      loan     2.258             0.019120    0.323   \n",
              "14                   marital     8.652             0.037426    0.034   \n",
              "15                     month   225.148             0.190917    0.000   \n",
              "16     nr.employed_binarized   223.445             0.190194    0.000   \n",
              "17           pdays_binarized     0.000             0.000000    1.000   \n",
              "18                  poutcome   353.583             0.239253    0.000   \n",
              "19        previous_binarized     0.000             0.000000    1.000   \n",
              "\n",
              "    Скорректированный p-value  Отвержение  \n",
              "0                    0.000000        True  \n",
              "1                    0.172692       False  \n",
              "2                    0.000000        True  \n",
              "3                    0.000000        True  \n",
              "4                    0.000000        True  \n",
              "5                    1.000000       False  \n",
              "6                    0.000000        True  \n",
              "7                    0.000000        True  \n",
              "8                    0.049815        True  \n",
              "9                    0.000000        True  \n",
              "10                   0.000000        True  \n",
              "11                   1.000000       False  \n",
              "12                   0.000000        True  \n",
              "13                   1.000000       False  \n",
              "14                   0.172692       False  \n",
              "15                   0.000000        True  \n",
              "16                   0.000000        True  \n",
              "17                   1.000000       False  \n",
              "18                   0.000000        True  \n",
              "19                   1.000000       False  "
            ]
          },
          "execution_count": 33,
          "metadata": {},
          "output_type": "execute_result"
        }
      ],
      "source": [
        "pd.DataFrame(result)"
      ]
    },
    {
      "cell_type": "markdown",
      "id": "492dc48d",
      "metadata": {
        "id": "492dc48d"
      },
      "source": [
        "Выведем коэффициенты Крамера, как меру зависимости."
      ]
    },
    {
      "cell_type": "code",
      "execution_count": null,
      "id": "80fb4fd1",
      "metadata": {
        "ExecuteTime": {
          "end_time": "2022-11-22T15:50:58.087448Z",
          "start_time": "2022-11-22T15:50:57.795810Z"
        },
        "id": "80fb4fd1",
        "outputId": "478dd435-cd19-4bff-f41a-eb89bb8ac134"
      },
      "outputs": [
        {
          "data": {
            "image/png": "[encoded data removed]",
            "text/plain": [
              "<Figure size 864x504 with 1 Axes>"
            ]
          },
          "metadata": {},
          "output_type": "display_data"
        }
      ],
      "source": [
        "sns.set(style='whitegrid', font_scale=1.3, palette='Set2')\n",
        "sorted_order = np.flip(np.argsort(result['Коэффициент Крамера']))\n",
        "\n",
        "plt.figure(figsize=(12, 7))\n",
        "sns.barplot(x=result['Коэффициент Крамера'], y=all_features, order=all_features[sorted_order])\n",
        "plt.xlabel('Коэффициент корреляции Крамера')\n",
        "plt.title('Влияние признаков на отклик');"
      ]
    },
    {
      "cell_type": "markdown",
      "id": "f5b0728b",
      "metadata": {
        "id": "f5b0728b"
      },
      "source": [
        "Как видим, несколько признаков признаны не влияющими на отклик, на основании МПГ на критерии хи-квадрат."
      ]
    },
    {
      "cell_type": "markdown",
      "id": "0ab10e57",
      "metadata": {
        "id": "0ab10e57"
      },
      "source": [
        "**2. На основе модели Random Forest**\n",
        "\n",
        "Сравним с результатом важности признаков по модели Random Forest. Для начала сделаем обработку категориальных признаков"
      ]
    },
    {
      "cell_type": "code",
      "execution_count": null,
      "id": "cc3bf359",
      "metadata": {
        "ExecuteTime": {
          "end_time": "2022-11-22T15:50:58.119111Z",
          "start_time": "2022-11-22T15:50:58.091338Z"
        },
        "id": "cc3bf359"
      },
      "outputs": [],
      "source": [
        "ord_enc = OrdinalEncoder(dtype='int32')\n",
        "lab_enc = LabelEncoder()\n",
        "\n",
        "data[categorical_features] = ord_enc.fit_transform(data[categorical_features])\n",
        "y = lab_enc.fit_transform(y)"
      ]
    },
    {
      "cell_type": "markdown",
      "id": "bc9e6ef8",
      "metadata": {
        "id": "bc9e6ef8"
      },
      "source": [
        "Снова разобъем на трейн и тест с тем же `random_state`."
      ]
    },
    {
      "cell_type": "code",
      "execution_count": null,
      "id": "e316f37d",
      "metadata": {
        "ExecuteTime": {
          "end_time": "2022-11-22T15:50:58.133292Z",
          "start_time": "2022-11-22T15:50:58.128025Z"
        },
        "id": "e316f37d"
      },
      "outputs": [],
      "source": [
        "X_train, X_test, y_train, y_test = train_test_split(data, y, test_size=0.25, random_state=1)"
      ]
    },
    {
      "cell_type": "markdown",
      "id": "e9797980",
      "metadata": {
        "id": "e9797980"
      },
      "source": [
        "Обучаем модель и извлекаем важности признаков"
      ]
    },
    {
      "cell_type": "code",
      "execution_count": null,
      "id": "06c9dbb4",
      "metadata": {
        "ExecuteTime": {
          "end_time": "2022-11-22T15:50:58.462208Z",
          "start_time": "2022-11-22T15:50:58.134955Z"
        },
        "id": "06c9dbb4"
      },
      "outputs": [],
      "source": [
        "model = RandomForestClassifier(random_state=42, n_estimators=100)\n",
        "model.fit(X_train, y_train)\n",
        "\n",
        "importances = model.feature_importances_"
      ]
    },
    {
      "cell_type": "markdown",
      "id": "32010988",
      "metadata": {
        "id": "32010988"
      },
      "source": [
        "Сортируем признаки в порядке возрастания важности и визуализируем результат"
      ]
    },
    {
      "cell_type": "code",
      "execution_count": null,
      "id": "97a187b6",
      "metadata": {
        "ExecuteTime": {
          "end_time": "2022-11-22T15:50:58.723154Z",
          "start_time": "2022-11-22T15:50:58.464151Z"
        },
        "id": "97a187b6",
        "outputId": "984999c4-7049-4acf-b5c6-04243d3a93b0"
      },
      "outputs": [
        {
          "data": {
            "image/png": "[encoded data removed]",
            "text/plain": [
              "<Figure size 864x504 with 1 Axes>"
            ]
          },
          "metadata": {},
          "output_type": "display_data"
        }
      ],
      "source": [
        "order = np.flip(np.argsort(importances))\n",
        "\n",
        "plt.figure(figsize=(12, 7))\n",
        "sns.barplot(x=importances, y=X_train.columns, order=X_train.columns[order])\n",
        "plt.xlabel('Важности признаков')\n",
        "plt.title('Влияние признаков на отклик из Random Forest');"
      ]
    },
    {
      "cell_type": "markdown",
      "id": "c44b57e7",
      "metadata": {
        "id": "c44b57e7"
      },
      "source": [
        "**Вывод:** результаты в первом и во втором случае получились довольно похожими."
      ]
    }
  ],
  "metadata": {
    "kernelspec": {
      "display_name": "Python 3 (ipykernel)",
      "language": "python",
      "name": "python3"
    },
    "language_info": {
      "codemirror_mode": {
        "name": "ipython",
        "version": 3
      },
      "file_extension": ".py",
      "mimetype": "text/x-python",
      "name": "python",
      "nbconvert_exporter": "python",
      "pygments_lexer": "ipython3",
      "version": "3.9.13"
    },
    "varInspector": {
      "cols": {
        "lenName": 16,
        "lenType": 16,
        "lenVar": 40
      },
      "kernels_config": {
        "python": {
          "delete_cmd_postfix": "",
          "delete_cmd_prefix": "del ",
          "library": "var_list.py",
          "varRefreshCmd": "print(var_dic_list())"
        },
        "r": {
          "delete_cmd_postfix": ") ",
          "delete_cmd_prefix": "rm(",
          "library": "var_list.r",
          "varRefreshCmd": "cat(var_dic_list()) "
        }
      },
      "types_to_exclude": [
        "module",
        "function",
        "builtin_function_or_method",
        "instance",
        "_Feature"
      ],
      "window_display": false
    },
    "colab": {
      "provenance": []
    }
  },
  "nbformat": 4,
  "nbformat_minor": 5
}